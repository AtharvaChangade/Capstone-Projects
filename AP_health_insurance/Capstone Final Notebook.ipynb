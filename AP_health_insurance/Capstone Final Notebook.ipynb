{
 "cells": [
  {
   "cell_type": "markdown",
   "id": "c0e5f0ae",
   "metadata": {},
   "source": [
    "Sno: Serial number or identifier assigned to each record.\n",
    "\n",
    "AGE: Age of the individual.\n",
    "\n",
    "SEX: Gender of the individual (e.g., Male, Female).\n",
    "\n",
    "CASTE_NAME: Caste name of the individual.\n",
    "\n",
    "CATEGORY_CODE: Code representing a category.\n",
    "\n",
    "CATEGORY_NAME: Name of the category.\n",
    "\n",
    "SURGERY_CODE: Code representing the type of surgery.\n",
    "\n",
    "SURGERY: Description of the surgery.\n",
    "\n",
    "VILLAGE: Name of the village.\n",
    "\n",
    "MANDAL_NAME: Name of the mandal.\n",
    "\n",
    "DISTRICT_NAME: Name of the district.\n",
    "\n",
    "PREAUTH_DATE: Date of preauthorization.\n",
    "\n",
    "PREAUTH_AMT: Amount authorized during preauthorization.\n",
    "\n",
    "CLAIM_DATE: Date of the insurance claim.\n",
    "\n",
    "CLAIM_AMOUNT: Amount claimed in the insurance.\n",
    "\n",
    "HOSP_NAME: Name of the hospital.\n",
    "\n",
    "HOSP_TYPE: Type of hospital.\n",
    "\n",
    "HOSP_DISTRICT: District where the hospital is located.\n",
    "\n",
    "SURGERY_DATE: Date of the surgery.\n",
    "\n",
    "DISCHARGE_DATE: Date of discharge.\n",
    "\n",
    "Mortality Y / N: Indicates whether there was mortality (e.g., YES, NO).\n",
    "\n",
    "MORTALITY_DATE: Date of mortality.\n",
    "\n",
    "SRC_REGISTRATION: Source registration code."
   ]
  },
  {
   "cell_type": "markdown",
   "id": "8d97bf3c",
   "metadata": {},
   "source": [
    "### Import Libraries"
   ]
  },
  {
   "cell_type": "code",
   "execution_count": 1,
   "id": "05eb418b",
   "metadata": {},
   "outputs": [],
   "source": [
    "import pandas as pd\n",
    "import numpy as np\n",
    "import seaborn as sns \n",
    "\n",
    "import matplotlib.pyplot as plt\n",
    "import warnings\n",
    "warnings.filterwarnings(\"ignore\")\n",
    "\n",
    "import scipy.stats as stats\n",
    "import statsmodels.api as sm\n",
    "from statsmodels.stats.outliers_influence import variance_inflation_factor as VIF"
   ]
  },
  {
   "cell_type": "markdown",
   "id": "a7b9ba9a",
   "metadata": {},
   "source": [
    "### Read dataset and display first 5 observations"
   ]
  },
  {
   "cell_type": "code",
   "execution_count": 69,
   "id": "6f6c5f2a",
   "metadata": {
    "scrolled": true
   },
   "outputs": [
    {
     "data": {
      "text/html": [
       "<div>\n",
       "<style scoped>\n",
       "    .dataframe tbody tr th:only-of-type {\n",
       "        vertical-align: middle;\n",
       "    }\n",
       "\n",
       "    .dataframe tbody tr th {\n",
       "        vertical-align: top;\n",
       "    }\n",
       "\n",
       "    .dataframe thead th {\n",
       "        text-align: right;\n",
       "    }\n",
       "</style>\n",
       "<table border=\"1\" class=\"dataframe\">\n",
       "  <thead>\n",
       "    <tr style=\"text-align: right;\">\n",
       "      <th></th>\n",
       "      <th>Sno</th>\n",
       "      <th>AGE</th>\n",
       "      <th>SEX</th>\n",
       "      <th>CASTE_NAME</th>\n",
       "      <th>CATEGORY_CODE</th>\n",
       "      <th>CATEGORY_NAME</th>\n",
       "      <th>SURGERY_CODE</th>\n",
       "      <th>SURGERY</th>\n",
       "      <th>VILLAGE</th>\n",
       "      <th>MANDAL_NAME</th>\n",
       "      <th>DISTRICT_NAME</th>\n",
       "      <th>PREAUTH_DATE</th>\n",
       "      <th>PREAUTH_AMT</th>\n",
       "      <th>CLAIM_DATE</th>\n",
       "      <th>CLAIM_AMOUNT</th>\n",
       "      <th>HOSP_NAME</th>\n",
       "      <th>HOSP_TYPE</th>\n",
       "      <th>HOSP_DISTRICT</th>\n",
       "      <th>SURGERY_DATE</th>\n",
       "      <th>DISCHARGE_DATE</th>\n",
       "      <th>Mortality Y / N</th>\n",
       "      <th>MORTALITY_DATE</th>\n",
       "      <th>SRC_REGISTRATION</th>\n",
       "    </tr>\n",
       "  </thead>\n",
       "  <tbody>\n",
       "    <tr>\n",
       "      <th>0</th>\n",
       "      <td>1</td>\n",
       "      <td>56</td>\n",
       "      <td>Female</td>\n",
       "      <td>BC</td>\n",
       "      <td>M6</td>\n",
       "      <td>NEPHROLOGY</td>\n",
       "      <td>M6.5</td>\n",
       "      <td>Maintenance Hemodialysis For Crf</td>\n",
       "      <td>Lolugu</td>\n",
       "      <td>Ponduru</td>\n",
       "      <td>Srikakulam</td>\n",
       "      <td>03-08-2013 20:38</td>\n",
       "      <td>12500</td>\n",
       "      <td>22-03-2017 20:25</td>\n",
       "      <td>11000</td>\n",
       "      <td>Rims Govt. General Hospital, Srikakulam</td>\n",
       "      <td>G</td>\n",
       "      <td>Srikakulam</td>\n",
       "      <td>06-08-2013 00:00</td>\n",
       "      <td>07-09-2013 00:00</td>\n",
       "      <td>NO</td>\n",
       "      <td>NaN</td>\n",
       "      <td>D</td>\n",
       "    </tr>\n",
       "    <tr>\n",
       "      <th>1</th>\n",
       "      <td>2</td>\n",
       "      <td>37</td>\n",
       "      <td>Male</td>\n",
       "      <td>BC</td>\n",
       "      <td>M6</td>\n",
       "      <td>NEPHROLOGY</td>\n",
       "      <td>M6.5</td>\n",
       "      <td>Maintenance Hemodialysis For Crf</td>\n",
       "      <td>Borivanka</td>\n",
       "      <td>Kaviti</td>\n",
       "      <td>Srikakulam</td>\n",
       "      <td>06-08-2013 07:26</td>\n",
       "      <td>12500</td>\n",
       "      <td>22-03-2017 20:25</td>\n",
       "      <td>11000</td>\n",
       "      <td>Rims Govt. General Hospital, Srikakulam</td>\n",
       "      <td>G</td>\n",
       "      <td>Srikakulam</td>\n",
       "      <td>08-08-2013 00:00</td>\n",
       "      <td>09-09-2013 00:00</td>\n",
       "      <td>NO</td>\n",
       "      <td>NaN</td>\n",
       "      <td>D</td>\n",
       "    </tr>\n",
       "    <tr>\n",
       "      <th>2</th>\n",
       "      <td>3</td>\n",
       "      <td>50</td>\n",
       "      <td>Male</td>\n",
       "      <td>BC</td>\n",
       "      <td>M6</td>\n",
       "      <td>NEPHROLOGY</td>\n",
       "      <td>M6.5</td>\n",
       "      <td>Maintenance Hemodialysis For Crf</td>\n",
       "      <td>Kapasakuddi</td>\n",
       "      <td>Kaviti</td>\n",
       "      <td>Srikakulam</td>\n",
       "      <td>09-08-2013 18:30</td>\n",
       "      <td>12500</td>\n",
       "      <td>22-03-2017 20:25</td>\n",
       "      <td>11500</td>\n",
       "      <td>Rims Govt. General Hospital, Srikakulam</td>\n",
       "      <td>G</td>\n",
       "      <td>Srikakulam</td>\n",
       "      <td>15-08-2013 00:00</td>\n",
       "      <td>18-10-2013 00:00</td>\n",
       "      <td>NO</td>\n",
       "      <td>NaN</td>\n",
       "      <td>D</td>\n",
       "    </tr>\n",
       "    <tr>\n",
       "      <th>3</th>\n",
       "      <td>4</td>\n",
       "      <td>45</td>\n",
       "      <td>Male</td>\n",
       "      <td>BC</td>\n",
       "      <td>M6</td>\n",
       "      <td>NEPHROLOGY</td>\n",
       "      <td>M6.5</td>\n",
       "      <td>Maintenance Hemodialysis For Crf</td>\n",
       "      <td>Telikipenta</td>\n",
       "      <td>Sarubujjili</td>\n",
       "      <td>Srikakulam</td>\n",
       "      <td>24-08-2013 19:37</td>\n",
       "      <td>12500</td>\n",
       "      <td>22-03-2017 20:25</td>\n",
       "      <td>11000</td>\n",
       "      <td>Rims Govt. General Hospital, Srikakulam</td>\n",
       "      <td>G</td>\n",
       "      <td>Srikakulam</td>\n",
       "      <td>24-08-2013 00:00</td>\n",
       "      <td>27-09-2013 00:00</td>\n",
       "      <td>NO</td>\n",
       "      <td>NaN</td>\n",
       "      <td>D</td>\n",
       "    </tr>\n",
       "    <tr>\n",
       "      <th>4</th>\n",
       "      <td>5</td>\n",
       "      <td>54</td>\n",
       "      <td>Male</td>\n",
       "      <td>BC</td>\n",
       "      <td>M6</td>\n",
       "      <td>NEPHROLOGY</td>\n",
       "      <td>M6.5</td>\n",
       "      <td>Maintenance Hemodialysis For Crf</td>\n",
       "      <td>Thandemvalasa</td>\n",
       "      <td>Srikakulam</td>\n",
       "      <td>Srikakulam</td>\n",
       "      <td>28-08-2013 17:03</td>\n",
       "      <td>12500</td>\n",
       "      <td>22-03-2017 20:25</td>\n",
       "      <td>11000</td>\n",
       "      <td>Rims Govt. General Hospital, Srikakulam</td>\n",
       "      <td>G</td>\n",
       "      <td>Srikakulam</td>\n",
       "      <td>31-08-2013 00:00</td>\n",
       "      <td>02-10-2013 00:00</td>\n",
       "      <td>NO</td>\n",
       "      <td>NaN</td>\n",
       "      <td>D</td>\n",
       "    </tr>\n",
       "  </tbody>\n",
       "</table>\n",
       "</div>"
      ],
      "text/plain": [
       "   Sno  AGE     SEX CASTE_NAME CATEGORY_CODE CATEGORY_NAME SURGERY_CODE  \\\n",
       "0    1   56  Female         BC            M6    NEPHROLOGY         M6.5   \n",
       "1    2   37    Male         BC            M6    NEPHROLOGY         M6.5   \n",
       "2    3   50    Male         BC            M6    NEPHROLOGY         M6.5   \n",
       "3    4   45    Male         BC            M6    NEPHROLOGY         M6.5   \n",
       "4    5   54    Male         BC            M6    NEPHROLOGY         M6.5   \n",
       "\n",
       "                            SURGERY        VILLAGE  MANDAL_NAME DISTRICT_NAME  \\\n",
       "0  Maintenance Hemodialysis For Crf         Lolugu      Ponduru    Srikakulam   \n",
       "1  Maintenance Hemodialysis For Crf      Borivanka       Kaviti    Srikakulam   \n",
       "2  Maintenance Hemodialysis For Crf    Kapasakuddi       Kaviti    Srikakulam   \n",
       "3  Maintenance Hemodialysis For Crf    Telikipenta  Sarubujjili    Srikakulam   \n",
       "4  Maintenance Hemodialysis For Crf  Thandemvalasa   Srikakulam    Srikakulam   \n",
       "\n",
       "       PREAUTH_DATE  PREAUTH_AMT        CLAIM_DATE  CLAIM_AMOUNT  \\\n",
       "0  03-08-2013 20:38        12500  22-03-2017 20:25         11000   \n",
       "1  06-08-2013 07:26        12500  22-03-2017 20:25         11000   \n",
       "2  09-08-2013 18:30        12500  22-03-2017 20:25         11500   \n",
       "3  24-08-2013 19:37        12500  22-03-2017 20:25         11000   \n",
       "4  28-08-2013 17:03        12500  22-03-2017 20:25         11000   \n",
       "\n",
       "                                 HOSP_NAME HOSP_TYPE HOSP_DISTRICT  \\\n",
       "0  Rims Govt. General Hospital, Srikakulam         G    Srikakulam   \n",
       "1  Rims Govt. General Hospital, Srikakulam         G    Srikakulam   \n",
       "2  Rims Govt. General Hospital, Srikakulam         G    Srikakulam   \n",
       "3  Rims Govt. General Hospital, Srikakulam         G    Srikakulam   \n",
       "4  Rims Govt. General Hospital, Srikakulam         G    Srikakulam   \n",
       "\n",
       "       SURGERY_DATE    DISCHARGE_DATE Mortality Y / N MORTALITY_DATE  \\\n",
       "0  06-08-2013 00:00  07-09-2013 00:00              NO            NaN   \n",
       "1  08-08-2013 00:00  09-09-2013 00:00              NO            NaN   \n",
       "2  15-08-2013 00:00  18-10-2013 00:00              NO            NaN   \n",
       "3  24-08-2013 00:00  27-09-2013 00:00              NO            NaN   \n",
       "4  31-08-2013 00:00  02-10-2013 00:00              NO            NaN   \n",
       "\n",
       "  SRC_REGISTRATION  \n",
       "0                D  \n",
       "1                D  \n",
       "2                D  \n",
       "3                D  \n",
       "4                D  "
      ]
     },
     "execution_count": 69,
     "metadata": {},
     "output_type": "execute_result"
    }
   ],
   "source": [
    "df=pd.read_csv('Andhra_Health_Data.csv')\n",
    "df=pd.read_csv('Andhra_Health_Data.csv')\n",
    "pd.set_option('display.max_columns', None)\n",
    "pd.set_option('display.max_rows', None)\n",
    "df.head()"
   ]
  },
  {
   "cell_type": "code",
   "execution_count": 70,
   "id": "10173a9a",
   "metadata": {},
   "outputs": [
    {
     "data": {
      "text/plain": [
       "(479688, 23)"
      ]
     },
     "execution_count": 70,
     "metadata": {},
     "output_type": "execute_result"
    }
   ],
   "source": [
    "df.shape"
   ]
  },
  {
   "cell_type": "markdown",
   "id": "6145e2e2",
   "metadata": {},
   "source": [
    "### EDA"
   ]
  },
  {
   "cell_type": "code",
   "execution_count": 71,
   "id": "d3f05803",
   "metadata": {},
   "outputs": [
    {
     "data": {
      "text/plain": [
       "Sno                  int64\n",
       "AGE                  int64\n",
       "SEX                 object\n",
       "CASTE_NAME          object\n",
       "CATEGORY_CODE       object\n",
       "CATEGORY_NAME       object\n",
       "SURGERY_CODE        object\n",
       "SURGERY             object\n",
       "VILLAGE             object\n",
       "MANDAL_NAME         object\n",
       "DISTRICT_NAME       object\n",
       "PREAUTH_DATE        object\n",
       "PREAUTH_AMT          int64\n",
       "CLAIM_DATE          object\n",
       "CLAIM_AMOUNT         int64\n",
       "HOSP_NAME           object\n",
       "HOSP_TYPE           object\n",
       "HOSP_DISTRICT       object\n",
       "SURGERY_DATE        object\n",
       "DISCHARGE_DATE      object\n",
       "Mortality Y / N     object\n",
       "MORTALITY_DATE      object\n",
       "SRC_REGISTRATION    object\n",
       "dtype: object"
      ]
     },
     "execution_count": 71,
     "metadata": {},
     "output_type": "execute_result"
    }
   ],
   "source": [
    "# Check datatypes of all variables\n",
    "df.dtypes"
   ]
  },
  {
   "cell_type": "code",
   "execution_count": 72,
   "id": "1f3f2206",
   "metadata": {},
   "outputs": [
    {
     "data": {
      "text/html": [
       "<div>\n",
       "<style scoped>\n",
       "    .dataframe tbody tr th:only-of-type {\n",
       "        vertical-align: middle;\n",
       "    }\n",
       "\n",
       "    .dataframe tbody tr th {\n",
       "        vertical-align: top;\n",
       "    }\n",
       "\n",
       "    .dataframe thead th {\n",
       "        text-align: right;\n",
       "    }\n",
       "</style>\n",
       "<table border=\"1\" class=\"dataframe\">\n",
       "  <thead>\n",
       "    <tr style=\"text-align: right;\">\n",
       "      <th></th>\n",
       "      <th>Sno</th>\n",
       "      <th>AGE</th>\n",
       "      <th>PREAUTH_AMT</th>\n",
       "      <th>CLAIM_AMOUNT</th>\n",
       "    </tr>\n",
       "  </thead>\n",
       "  <tbody>\n",
       "    <tr>\n",
       "      <th>count</th>\n",
       "      <td>479688.0000</td>\n",
       "      <td>479688.000000</td>\n",
       "      <td>479688.000000</td>\n",
       "      <td>479688.000000</td>\n",
       "    </tr>\n",
       "    <tr>\n",
       "      <th>mean</th>\n",
       "      <td>239844.5000</td>\n",
       "      <td>44.912264</td>\n",
       "      <td>30428.941698</td>\n",
       "      <td>27652.205861</td>\n",
       "    </tr>\n",
       "    <tr>\n",
       "      <th>std</th>\n",
       "      <td>138474.1423</td>\n",
       "      <td>18.961084</td>\n",
       "      <td>27441.592281</td>\n",
       "      <td>25951.706037</td>\n",
       "    </tr>\n",
       "    <tr>\n",
       "      <th>min</th>\n",
       "      <td>1.0000</td>\n",
       "      <td>0.000000</td>\n",
       "      <td>5.000000</td>\n",
       "      <td>2.000000</td>\n",
       "    </tr>\n",
       "    <tr>\n",
       "      <th>25%</th>\n",
       "      <td>119922.7500</td>\n",
       "      <td>34.000000</td>\n",
       "      <td>12500.000000</td>\n",
       "      <td>12500.000000</td>\n",
       "    </tr>\n",
       "    <tr>\n",
       "      <th>50%</th>\n",
       "      <td>239844.5000</td>\n",
       "      <td>47.000000</td>\n",
       "      <td>25000.000000</td>\n",
       "      <td>23200.000000</td>\n",
       "    </tr>\n",
       "    <tr>\n",
       "      <th>75%</th>\n",
       "      <td>359766.2500</td>\n",
       "      <td>59.000000</td>\n",
       "      <td>35000.000000</td>\n",
       "      <td>30600.000000</td>\n",
       "    </tr>\n",
       "    <tr>\n",
       "      <th>max</th>\n",
       "      <td>479688.0000</td>\n",
       "      <td>107.000000</td>\n",
       "      <td>520000.000000</td>\n",
       "      <td>520000.000000</td>\n",
       "    </tr>\n",
       "  </tbody>\n",
       "</table>\n",
       "</div>"
      ],
      "text/plain": [
       "               Sno            AGE    PREAUTH_AMT   CLAIM_AMOUNT\n",
       "count  479688.0000  479688.000000  479688.000000  479688.000000\n",
       "mean   239844.5000      44.912264   30428.941698   27652.205861\n",
       "std    138474.1423      18.961084   27441.592281   25951.706037\n",
       "min         1.0000       0.000000       5.000000       2.000000\n",
       "25%    119922.7500      34.000000   12500.000000   12500.000000\n",
       "50%    239844.5000      47.000000   25000.000000   23200.000000\n",
       "75%    359766.2500      59.000000   35000.000000   30600.000000\n",
       "max    479688.0000     107.000000  520000.000000  520000.000000"
      ]
     },
     "execution_count": 72,
     "metadata": {},
     "output_type": "execute_result"
    }
   ],
   "source": [
    "# Description of numeric variables\n",
    "df.describe()"
   ]
  },
  {
   "cell_type": "code",
   "execution_count": 73,
   "id": "a2156f76",
   "metadata": {},
   "outputs": [
    {
     "data": {
      "text/html": [
       "<div>\n",
       "<style scoped>\n",
       "    .dataframe tbody tr th:only-of-type {\n",
       "        vertical-align: middle;\n",
       "    }\n",
       "\n",
       "    .dataframe tbody tr th {\n",
       "        vertical-align: top;\n",
       "    }\n",
       "\n",
       "    .dataframe thead th {\n",
       "        text-align: right;\n",
       "    }\n",
       "</style>\n",
       "<table border=\"1\" class=\"dataframe\">\n",
       "  <thead>\n",
       "    <tr style=\"text-align: right;\">\n",
       "      <th></th>\n",
       "      <th>SEX</th>\n",
       "      <th>CASTE_NAME</th>\n",
       "      <th>CATEGORY_CODE</th>\n",
       "      <th>CATEGORY_NAME</th>\n",
       "      <th>SURGERY_CODE</th>\n",
       "      <th>SURGERY</th>\n",
       "      <th>VILLAGE</th>\n",
       "      <th>MANDAL_NAME</th>\n",
       "      <th>DISTRICT_NAME</th>\n",
       "      <th>PREAUTH_DATE</th>\n",
       "      <th>CLAIM_DATE</th>\n",
       "      <th>HOSP_NAME</th>\n",
       "      <th>HOSP_TYPE</th>\n",
       "      <th>HOSP_DISTRICT</th>\n",
       "      <th>SURGERY_DATE</th>\n",
       "      <th>DISCHARGE_DATE</th>\n",
       "      <th>Mortality Y / N</th>\n",
       "      <th>MORTALITY_DATE</th>\n",
       "      <th>SRC_REGISTRATION</th>\n",
       "    </tr>\n",
       "  </thead>\n",
       "  <tbody>\n",
       "    <tr>\n",
       "      <th>count</th>\n",
       "      <td>479688</td>\n",
       "      <td>479688</td>\n",
       "      <td>479688</td>\n",
       "      <td>479688</td>\n",
       "      <td>479688</td>\n",
       "      <td>479688</td>\n",
       "      <td>479688</td>\n",
       "      <td>479688</td>\n",
       "      <td>479688</td>\n",
       "      <td>479688</td>\n",
       "      <td>479688</td>\n",
       "      <td>479688</td>\n",
       "      <td>479688</td>\n",
       "      <td>479688</td>\n",
       "      <td>479688</td>\n",
       "      <td>475128</td>\n",
       "      <td>479688</td>\n",
       "      <td>10122</td>\n",
       "      <td>479688</td>\n",
       "    </tr>\n",
       "    <tr>\n",
       "      <th>unique</th>\n",
       "      <td>6</td>\n",
       "      <td>6</td>\n",
       "      <td>29</td>\n",
       "      <td>29</td>\n",
       "      <td>925</td>\n",
       "      <td>923</td>\n",
       "      <td>11801</td>\n",
       "      <td>711</td>\n",
       "      <td>13</td>\n",
       "      <td>246084</td>\n",
       "      <td>4870</td>\n",
       "      <td>467</td>\n",
       "      <td>2</td>\n",
       "      <td>20</td>\n",
       "      <td>937</td>\n",
       "      <td>918</td>\n",
       "      <td>2</td>\n",
       "      <td>740</td>\n",
       "      <td>4</td>\n",
       "    </tr>\n",
       "    <tr>\n",
       "      <th>top</th>\n",
       "      <td>Male</td>\n",
       "      <td>BC</td>\n",
       "      <td>M6</td>\n",
       "      <td>NEPHROLOGY</td>\n",
       "      <td>M6.5</td>\n",
       "      <td>Maintenance Hemodialysis For Crf</td>\n",
       "      <td>Ward-1</td>\n",
       "      <td>Visakhapatnam</td>\n",
       "      <td>East Godavari</td>\n",
       "      <td>27-12-2016 14:01</td>\n",
       "      <td>27-12-2017 21:43</td>\n",
       "      <td>Sri Venkateswara Institute Of Medical Sciences</td>\n",
       "      <td>C</td>\n",
       "      <td>Guntur</td>\n",
       "      <td>13-02-2017 00:00</td>\n",
       "      <td>29-05-2017 00:00</td>\n",
       "      <td>NO</td>\n",
       "      <td>04-01-2017 00:00</td>\n",
       "      <td>D</td>\n",
       "    </tr>\n",
       "    <tr>\n",
       "      <th>freq</th>\n",
       "      <td>260718</td>\n",
       "      <td>246164</td>\n",
       "      <td>74947</td>\n",
       "      <td>74947</td>\n",
       "      <td>65378</td>\n",
       "      <td>65378</td>\n",
       "      <td>3277</td>\n",
       "      <td>9264</td>\n",
       "      <td>55398</td>\n",
       "      <td>35</td>\n",
       "      <td>511</td>\n",
       "      <td>21854</td>\n",
       "      <td>369346</td>\n",
       "      <td>60988</td>\n",
       "      <td>1602</td>\n",
       "      <td>1764</td>\n",
       "      <td>469566</td>\n",
       "      <td>40</td>\n",
       "      <td>437948</td>\n",
       "    </tr>\n",
       "  </tbody>\n",
       "</table>\n",
       "</div>"
      ],
      "text/plain": [
       "           SEX CASTE_NAME CATEGORY_CODE CATEGORY_NAME SURGERY_CODE  \\\n",
       "count   479688     479688        479688        479688       479688   \n",
       "unique       6          6            29            29          925   \n",
       "top       Male         BC            M6    NEPHROLOGY         M6.5   \n",
       "freq    260718     246164         74947         74947        65378   \n",
       "\n",
       "                                 SURGERY VILLAGE    MANDAL_NAME  \\\n",
       "count                             479688  479688         479688   \n",
       "unique                               923   11801            711   \n",
       "top     Maintenance Hemodialysis For Crf  Ward-1  Visakhapatnam   \n",
       "freq                               65378    3277           9264   \n",
       "\n",
       "        DISTRICT_NAME      PREAUTH_DATE        CLAIM_DATE  \\\n",
       "count          479688            479688            479688   \n",
       "unique             13            246084              4870   \n",
       "top     East Godavari  27-12-2016 14:01  27-12-2017 21:43   \n",
       "freq            55398                35               511   \n",
       "\n",
       "                                             HOSP_NAME HOSP_TYPE  \\\n",
       "count                                           479688    479688   \n",
       "unique                                             467         2   \n",
       "top     Sri Venkateswara Institute Of Medical Sciences         C   \n",
       "freq                                             21854    369346   \n",
       "\n",
       "       HOSP_DISTRICT      SURGERY_DATE    DISCHARGE_DATE Mortality Y / N  \\\n",
       "count         479688            479688            475128          479688   \n",
       "unique            20               937               918               2   \n",
       "top           Guntur  13-02-2017 00:00  29-05-2017 00:00              NO   \n",
       "freq           60988              1602              1764          469566   \n",
       "\n",
       "          MORTALITY_DATE SRC_REGISTRATION  \n",
       "count              10122           479688  \n",
       "unique               740                4  \n",
       "top     04-01-2017 00:00                D  \n",
       "freq                  40           437948  "
      ]
     },
     "execution_count": 73,
     "metadata": {},
     "output_type": "execute_result"
    }
   ],
   "source": [
    "# Description of categorical variables\n",
    "df.describe(include=object)"
   ]
  },
  {
   "cell_type": "code",
   "execution_count": 74,
   "id": "7599d69b",
   "metadata": {},
   "outputs": [],
   "source": [
    "# Drop unnecessary columns\n",
    "df.drop(columns=['Sno','SURGERY_CODE','VILLAGE','MANDAL_NAME'],inplace=True)"
   ]
  },
  {
   "cell_type": "code",
   "execution_count": 75,
   "id": "545d7222",
   "metadata": {},
   "outputs": [
    {
     "data": {
      "text/plain": [
       "AGE                    102\n",
       "SEX                      6\n",
       "CASTE_NAME               6\n",
       "CATEGORY_CODE           29\n",
       "CATEGORY_NAME           29\n",
       "SURGERY                923\n",
       "DISTRICT_NAME           13\n",
       "PREAUTH_DATE        246084\n",
       "PREAUTH_AMT           2007\n",
       "CLAIM_DATE            4870\n",
       "CLAIM_AMOUNT         11465\n",
       "HOSP_NAME              467\n",
       "HOSP_TYPE                2\n",
       "HOSP_DISTRICT           20\n",
       "SURGERY_DATE           937\n",
       "DISCHARGE_DATE         918\n",
       "Mortality Y / N          2\n",
       "MORTALITY_DATE         740\n",
       "SRC_REGISTRATION         4\n",
       "dtype: int64"
      ]
     },
     "execution_count": 75,
     "metadata": {},
     "output_type": "execute_result"
    }
   ],
   "source": [
    "# Find unique values in each variable\n",
    "df.nunique()"
   ]
  },
  {
   "cell_type": "code",
   "execution_count": 76,
   "id": "1d65934c",
   "metadata": {},
   "outputs": [],
   "source": [
    "# Drop columns\n",
    "df.drop(columns=['CATEGORY_CODE','SURGERY_DATE'],inplace=True)"
   ]
  },
  {
   "cell_type": "code",
   "execution_count": 77,
   "id": "cde3aa4f",
   "metadata": {},
   "outputs": [
    {
     "data": {
      "text/plain": [
       "AGE                 0.000000\n",
       "SEX                 0.000000\n",
       "CASTE_NAME          0.000000\n",
       "CATEGORY_NAME       0.000000\n",
       "SURGERY             0.000000\n",
       "DISTRICT_NAME       0.000000\n",
       "PREAUTH_DATE        0.000000\n",
       "PREAUTH_AMT         0.000000\n",
       "CLAIM_DATE          0.000000\n",
       "CLAIM_AMOUNT        0.000000\n",
       "HOSP_NAME           0.000000\n",
       "HOSP_TYPE           0.000000\n",
       "HOSP_DISTRICT       0.000000\n",
       "DISCHARGE_DATE      0.009506\n",
       "Mortality Y / N     0.000000\n",
       "MORTALITY_DATE      0.978899\n",
       "SRC_REGISTRATION    0.000000\n",
       "dtype: float64"
      ]
     },
     "execution_count": 77,
     "metadata": {},
     "output_type": "execute_result"
    }
   ],
   "source": [
    "# Missing Values\n",
    "df.isnull().sum()/df.shape[0]"
   ]
  },
  {
   "cell_type": "code",
   "execution_count": 78,
   "id": "49eabd34",
   "metadata": {},
   "outputs": [],
   "source": [
    "# Fill values of MORTALITY_DATE to the DISCHARGE_DATE column \n",
    "df['DISCHARGE_DATE'].fillna(df['MORTALITY_DATE'],inplace=True)"
   ]
  },
  {
   "cell_type": "markdown",
   "id": "ba20a37a",
   "metadata": {},
   "source": [
    "- The \"MORTALITY_DATE\" column might contain information related to the discharge date, and combining these dates into the \"DISCHARGE_DATE\" column could help consolidate relevant information in a single column."
   ]
  },
  {
   "cell_type": "code",
   "execution_count": 79,
   "id": "1aad34e4",
   "metadata": {},
   "outputs": [
    {
     "data": {
      "text/plain": [
       "AGE                 0.000000\n",
       "SEX                 0.000000\n",
       "CASTE_NAME          0.000000\n",
       "CATEGORY_NAME       0.000000\n",
       "SURGERY             0.000000\n",
       "DISTRICT_NAME       0.000000\n",
       "PREAUTH_DATE        0.000000\n",
       "PREAUTH_AMT         0.000000\n",
       "CLAIM_DATE          0.000000\n",
       "CLAIM_AMOUNT        0.000000\n",
       "HOSP_NAME           0.000000\n",
       "HOSP_TYPE           0.000000\n",
       "HOSP_DISTRICT       0.000000\n",
       "DISCHARGE_DATE      0.000002\n",
       "Mortality Y / N     0.000000\n",
       "MORTALITY_DATE      0.978899\n",
       "SRC_REGISTRATION    0.000000\n",
       "dtype: float64"
      ]
     },
     "execution_count": 79,
     "metadata": {},
     "output_type": "execute_result"
    }
   ],
   "source": [
    "# Check null values\n",
    "df.isnull().sum()/df.shape[0]"
   ]
  },
  {
   "cell_type": "markdown",
   "id": "f4f042fb",
   "metadata": {},
   "source": [
    "- Dropping a column with a high percentage of missing values."
   ]
  },
  {
   "cell_type": "code",
   "execution_count": 80,
   "id": "543f48f4",
   "metadata": {},
   "outputs": [],
   "source": [
    "df.drop(columns='MORTALITY_DATE',inplace=True)"
   ]
  },
  {
   "cell_type": "code",
   "execution_count": null,
   "id": "e88b098f",
   "metadata": {},
   "outputs": [],
   "source": []
  },
  {
   "cell_type": "code",
   "execution_count": 81,
   "id": "3ea22c2a",
   "metadata": {},
   "outputs": [],
   "source": [
    "# Convert date into YYYY-MM-DD format\n",
    "def clean(x):\n",
    "    return x[0:10]\n",
    "df['PREAUTH_DATE']=df['PREAUTH_DATE'].apply(clean)"
   ]
  },
  {
   "cell_type": "code",
   "execution_count": 82,
   "id": "197c38bf",
   "metadata": {},
   "outputs": [],
   "source": [
    "def clean(x):\n",
    "    return x[0:10]\n",
    "df['CLAIM_DATE']=df['CLAIM_DATE'].apply(clean)"
   ]
  },
  {
   "cell_type": "markdown",
   "id": "3029c7a3",
   "metadata": {},
   "source": [
    "- Convert date strings in the \"PREAUTH_DATE\" and \"CLAIM_DATE\" columns from the \"YYYY-MM-DD HH:MM\" format to the \"YYYY-MM-DD\" format"
   ]
  },
  {
   "cell_type": "code",
   "execution_count": 83,
   "id": "1c8df40c",
   "metadata": {
    "scrolled": true
   },
   "outputs": [
    {
     "data": {
      "text/html": [
       "<div>\n",
       "<style scoped>\n",
       "    .dataframe tbody tr th:only-of-type {\n",
       "        vertical-align: middle;\n",
       "    }\n",
       "\n",
       "    .dataframe tbody tr th {\n",
       "        vertical-align: top;\n",
       "    }\n",
       "\n",
       "    .dataframe thead th {\n",
       "        text-align: right;\n",
       "    }\n",
       "</style>\n",
       "<table border=\"1\" class=\"dataframe\">\n",
       "  <thead>\n",
       "    <tr style=\"text-align: right;\">\n",
       "      <th></th>\n",
       "      <th>AGE</th>\n",
       "      <th>SEX</th>\n",
       "      <th>CASTE_NAME</th>\n",
       "      <th>CATEGORY_NAME</th>\n",
       "      <th>SURGERY</th>\n",
       "      <th>DISTRICT_NAME</th>\n",
       "      <th>PREAUTH_DATE</th>\n",
       "      <th>PREAUTH_AMT</th>\n",
       "      <th>CLAIM_DATE</th>\n",
       "      <th>CLAIM_AMOUNT</th>\n",
       "      <th>HOSP_NAME</th>\n",
       "      <th>HOSP_TYPE</th>\n",
       "      <th>HOSP_DISTRICT</th>\n",
       "      <th>DISCHARGE_DATE</th>\n",
       "      <th>Mortality Y / N</th>\n",
       "      <th>SRC_REGISTRATION</th>\n",
       "    </tr>\n",
       "  </thead>\n",
       "  <tbody>\n",
       "    <tr>\n",
       "      <th>0</th>\n",
       "      <td>56</td>\n",
       "      <td>Female</td>\n",
       "      <td>BC</td>\n",
       "      <td>NEPHROLOGY</td>\n",
       "      <td>Maintenance Hemodialysis For Crf</td>\n",
       "      <td>Srikakulam</td>\n",
       "      <td>03-08-2013</td>\n",
       "      <td>12500</td>\n",
       "      <td>22-03-2017</td>\n",
       "      <td>11000</td>\n",
       "      <td>Rims Govt. General Hospital, Srikakulam</td>\n",
       "      <td>G</td>\n",
       "      <td>Srikakulam</td>\n",
       "      <td>07-09-2013 00:00</td>\n",
       "      <td>NO</td>\n",
       "      <td>D</td>\n",
       "    </tr>\n",
       "    <tr>\n",
       "      <th>1</th>\n",
       "      <td>37</td>\n",
       "      <td>Male</td>\n",
       "      <td>BC</td>\n",
       "      <td>NEPHROLOGY</td>\n",
       "      <td>Maintenance Hemodialysis For Crf</td>\n",
       "      <td>Srikakulam</td>\n",
       "      <td>06-08-2013</td>\n",
       "      <td>12500</td>\n",
       "      <td>22-03-2017</td>\n",
       "      <td>11000</td>\n",
       "      <td>Rims Govt. General Hospital, Srikakulam</td>\n",
       "      <td>G</td>\n",
       "      <td>Srikakulam</td>\n",
       "      <td>09-09-2013 00:00</td>\n",
       "      <td>NO</td>\n",
       "      <td>D</td>\n",
       "    </tr>\n",
       "    <tr>\n",
       "      <th>2</th>\n",
       "      <td>50</td>\n",
       "      <td>Male</td>\n",
       "      <td>BC</td>\n",
       "      <td>NEPHROLOGY</td>\n",
       "      <td>Maintenance Hemodialysis For Crf</td>\n",
       "      <td>Srikakulam</td>\n",
       "      <td>09-08-2013</td>\n",
       "      <td>12500</td>\n",
       "      <td>22-03-2017</td>\n",
       "      <td>11500</td>\n",
       "      <td>Rims Govt. General Hospital, Srikakulam</td>\n",
       "      <td>G</td>\n",
       "      <td>Srikakulam</td>\n",
       "      <td>18-10-2013 00:00</td>\n",
       "      <td>NO</td>\n",
       "      <td>D</td>\n",
       "    </tr>\n",
       "    <tr>\n",
       "      <th>3</th>\n",
       "      <td>45</td>\n",
       "      <td>Male</td>\n",
       "      <td>BC</td>\n",
       "      <td>NEPHROLOGY</td>\n",
       "      <td>Maintenance Hemodialysis For Crf</td>\n",
       "      <td>Srikakulam</td>\n",
       "      <td>24-08-2013</td>\n",
       "      <td>12500</td>\n",
       "      <td>22-03-2017</td>\n",
       "      <td>11000</td>\n",
       "      <td>Rims Govt. General Hospital, Srikakulam</td>\n",
       "      <td>G</td>\n",
       "      <td>Srikakulam</td>\n",
       "      <td>27-09-2013 00:00</td>\n",
       "      <td>NO</td>\n",
       "      <td>D</td>\n",
       "    </tr>\n",
       "    <tr>\n",
       "      <th>4</th>\n",
       "      <td>54</td>\n",
       "      <td>Male</td>\n",
       "      <td>BC</td>\n",
       "      <td>NEPHROLOGY</td>\n",
       "      <td>Maintenance Hemodialysis For Crf</td>\n",
       "      <td>Srikakulam</td>\n",
       "      <td>28-08-2013</td>\n",
       "      <td>12500</td>\n",
       "      <td>22-03-2017</td>\n",
       "      <td>11000</td>\n",
       "      <td>Rims Govt. General Hospital, Srikakulam</td>\n",
       "      <td>G</td>\n",
       "      <td>Srikakulam</td>\n",
       "      <td>02-10-2013 00:00</td>\n",
       "      <td>NO</td>\n",
       "      <td>D</td>\n",
       "    </tr>\n",
       "  </tbody>\n",
       "</table>\n",
       "</div>"
      ],
      "text/plain": [
       "   AGE     SEX CASTE_NAME CATEGORY_NAME                           SURGERY  \\\n",
       "0   56  Female         BC    NEPHROLOGY  Maintenance Hemodialysis For Crf   \n",
       "1   37    Male         BC    NEPHROLOGY  Maintenance Hemodialysis For Crf   \n",
       "2   50    Male         BC    NEPHROLOGY  Maintenance Hemodialysis For Crf   \n",
       "3   45    Male         BC    NEPHROLOGY  Maintenance Hemodialysis For Crf   \n",
       "4   54    Male         BC    NEPHROLOGY  Maintenance Hemodialysis For Crf   \n",
       "\n",
       "  DISTRICT_NAME PREAUTH_DATE  PREAUTH_AMT  CLAIM_DATE  CLAIM_AMOUNT  \\\n",
       "0    Srikakulam   03-08-2013        12500  22-03-2017         11000   \n",
       "1    Srikakulam   06-08-2013        12500  22-03-2017         11000   \n",
       "2    Srikakulam   09-08-2013        12500  22-03-2017         11500   \n",
       "3    Srikakulam   24-08-2013        12500  22-03-2017         11000   \n",
       "4    Srikakulam   28-08-2013        12500  22-03-2017         11000   \n",
       "\n",
       "                                 HOSP_NAME HOSP_TYPE HOSP_DISTRICT  \\\n",
       "0  Rims Govt. General Hospital, Srikakulam         G    Srikakulam   \n",
       "1  Rims Govt. General Hospital, Srikakulam         G    Srikakulam   \n",
       "2  Rims Govt. General Hospital, Srikakulam         G    Srikakulam   \n",
       "3  Rims Govt. General Hospital, Srikakulam         G    Srikakulam   \n",
       "4  Rims Govt. General Hospital, Srikakulam         G    Srikakulam   \n",
       "\n",
       "     DISCHARGE_DATE Mortality Y / N SRC_REGISTRATION  \n",
       "0  07-09-2013 00:00              NO                D  \n",
       "1  09-09-2013 00:00              NO                D  \n",
       "2  18-10-2013 00:00              NO                D  \n",
       "3  27-09-2013 00:00              NO                D  \n",
       "4  02-10-2013 00:00              NO                D  "
      ]
     },
     "execution_count": 83,
     "metadata": {},
     "output_type": "execute_result"
    }
   ],
   "source": [
    "df.head()"
   ]
  },
  {
   "cell_type": "code",
   "execution_count": null,
   "id": "8c0e5ec8",
   "metadata": {},
   "outputs": [],
   "source": []
  },
  {
   "cell_type": "code",
   "execution_count": 84,
   "id": "441c3390",
   "metadata": {
    "scrolled": true
   },
   "outputs": [
    {
     "data": {
      "text/html": [
       "<div>\n",
       "<style scoped>\n",
       "    .dataframe tbody tr th:only-of-type {\n",
       "        vertical-align: middle;\n",
       "    }\n",
       "\n",
       "    .dataframe tbody tr th {\n",
       "        vertical-align: top;\n",
       "    }\n",
       "\n",
       "    .dataframe thead th {\n",
       "        text-align: right;\n",
       "    }\n",
       "</style>\n",
       "<table border=\"1\" class=\"dataframe\">\n",
       "  <thead>\n",
       "    <tr style=\"text-align: right;\">\n",
       "      <th></th>\n",
       "      <th>AGE</th>\n",
       "      <th>SEX</th>\n",
       "      <th>CASTE_NAME</th>\n",
       "      <th>CATEGORY_NAME</th>\n",
       "      <th>SURGERY</th>\n",
       "      <th>DISTRICT_NAME</th>\n",
       "      <th>PREAUTH_DATE</th>\n",
       "      <th>PREAUTH_AMT</th>\n",
       "      <th>CLAIM_DATE</th>\n",
       "      <th>CLAIM_AMOUNT</th>\n",
       "      <th>HOSP_NAME</th>\n",
       "      <th>HOSP_TYPE</th>\n",
       "      <th>HOSP_DISTRICT</th>\n",
       "      <th>DISCHARGE_DATE</th>\n",
       "      <th>Mortality Y / N</th>\n",
       "      <th>SRC_REGISTRATION</th>\n",
       "      <th>DAYS_STAYED</th>\n",
       "    </tr>\n",
       "  </thead>\n",
       "  <tbody>\n",
       "    <tr>\n",
       "      <th>0</th>\n",
       "      <td>56</td>\n",
       "      <td>Female</td>\n",
       "      <td>BC</td>\n",
       "      <td>NEPHROLOGY</td>\n",
       "      <td>Maintenance Hemodialysis For Crf</td>\n",
       "      <td>Srikakulam</td>\n",
       "      <td>2013-08-03</td>\n",
       "      <td>12500</td>\n",
       "      <td>2013-08-03</td>\n",
       "      <td>11000</td>\n",
       "      <td>Rims Govt. General Hospital, Srikakulam</td>\n",
       "      <td>G</td>\n",
       "      <td>Srikakulam</td>\n",
       "      <td>2013-09-07</td>\n",
       "      <td>NO</td>\n",
       "      <td>D</td>\n",
       "      <td>35.0</td>\n",
       "    </tr>\n",
       "    <tr>\n",
       "      <th>1</th>\n",
       "      <td>37</td>\n",
       "      <td>Male</td>\n",
       "      <td>BC</td>\n",
       "      <td>NEPHROLOGY</td>\n",
       "      <td>Maintenance Hemodialysis For Crf</td>\n",
       "      <td>Srikakulam</td>\n",
       "      <td>2013-08-06</td>\n",
       "      <td>12500</td>\n",
       "      <td>2013-08-06</td>\n",
       "      <td>11000</td>\n",
       "      <td>Rims Govt. General Hospital, Srikakulam</td>\n",
       "      <td>G</td>\n",
       "      <td>Srikakulam</td>\n",
       "      <td>2013-09-09</td>\n",
       "      <td>NO</td>\n",
       "      <td>D</td>\n",
       "      <td>34.0</td>\n",
       "    </tr>\n",
       "    <tr>\n",
       "      <th>2</th>\n",
       "      <td>50</td>\n",
       "      <td>Male</td>\n",
       "      <td>BC</td>\n",
       "      <td>NEPHROLOGY</td>\n",
       "      <td>Maintenance Hemodialysis For Crf</td>\n",
       "      <td>Srikakulam</td>\n",
       "      <td>2013-08-09</td>\n",
       "      <td>12500</td>\n",
       "      <td>2013-08-09</td>\n",
       "      <td>11500</td>\n",
       "      <td>Rims Govt. General Hospital, Srikakulam</td>\n",
       "      <td>G</td>\n",
       "      <td>Srikakulam</td>\n",
       "      <td>2013-10-18</td>\n",
       "      <td>NO</td>\n",
       "      <td>D</td>\n",
       "      <td>70.0</td>\n",
       "    </tr>\n",
       "    <tr>\n",
       "      <th>3</th>\n",
       "      <td>45</td>\n",
       "      <td>Male</td>\n",
       "      <td>BC</td>\n",
       "      <td>NEPHROLOGY</td>\n",
       "      <td>Maintenance Hemodialysis For Crf</td>\n",
       "      <td>Srikakulam</td>\n",
       "      <td>2013-08-24</td>\n",
       "      <td>12500</td>\n",
       "      <td>2013-08-24</td>\n",
       "      <td>11000</td>\n",
       "      <td>Rims Govt. General Hospital, Srikakulam</td>\n",
       "      <td>G</td>\n",
       "      <td>Srikakulam</td>\n",
       "      <td>2013-09-27</td>\n",
       "      <td>NO</td>\n",
       "      <td>D</td>\n",
       "      <td>34.0</td>\n",
       "    </tr>\n",
       "    <tr>\n",
       "      <th>4</th>\n",
       "      <td>54</td>\n",
       "      <td>Male</td>\n",
       "      <td>BC</td>\n",
       "      <td>NEPHROLOGY</td>\n",
       "      <td>Maintenance Hemodialysis For Crf</td>\n",
       "      <td>Srikakulam</td>\n",
       "      <td>2013-08-28</td>\n",
       "      <td>12500</td>\n",
       "      <td>2013-08-28</td>\n",
       "      <td>11000</td>\n",
       "      <td>Rims Govt. General Hospital, Srikakulam</td>\n",
       "      <td>G</td>\n",
       "      <td>Srikakulam</td>\n",
       "      <td>2013-10-02</td>\n",
       "      <td>NO</td>\n",
       "      <td>D</td>\n",
       "      <td>35.0</td>\n",
       "    </tr>\n",
       "    <tr>\n",
       "      <th>5</th>\n",
       "      <td>35</td>\n",
       "      <td>Male</td>\n",
       "      <td>OC</td>\n",
       "      <td>NEPHROLOGY</td>\n",
       "      <td>Maintenance Hemodialysis For Crf</td>\n",
       "      <td>Srikakulam</td>\n",
       "      <td>2013-08-28</td>\n",
       "      <td>12500</td>\n",
       "      <td>2013-08-28</td>\n",
       "      <td>11000</td>\n",
       "      <td>Rims Govt. General Hospital, Srikakulam</td>\n",
       "      <td>G</td>\n",
       "      <td>Srikakulam</td>\n",
       "      <td>2013-10-02</td>\n",
       "      <td>NO</td>\n",
       "      <td>P</td>\n",
       "      <td>35.0</td>\n",
       "    </tr>\n",
       "    <tr>\n",
       "      <th>6</th>\n",
       "      <td>52</td>\n",
       "      <td>Male</td>\n",
       "      <td>OC</td>\n",
       "      <td>NEPHROLOGY</td>\n",
       "      <td>Maintenance Hemodialysis For Crf</td>\n",
       "      <td>Kurnool</td>\n",
       "      <td>2013-08-30</td>\n",
       "      <td>12500</td>\n",
       "      <td>2013-08-30</td>\n",
       "      <td>11000</td>\n",
       "      <td>Govt General Hospital Kurnool</td>\n",
       "      <td>G</td>\n",
       "      <td>Kurnool</td>\n",
       "      <td>2013-10-02</td>\n",
       "      <td>NO</td>\n",
       "      <td>D</td>\n",
       "      <td>33.0</td>\n",
       "    </tr>\n",
       "    <tr>\n",
       "      <th>7</th>\n",
       "      <td>73</td>\n",
       "      <td>Male</td>\n",
       "      <td>BC</td>\n",
       "      <td>NEPHROLOGY</td>\n",
       "      <td>Maintenance Hemodialysis For Crf</td>\n",
       "      <td>Vizianagaram</td>\n",
       "      <td>2014-05-02</td>\n",
       "      <td>12500</td>\n",
       "      <td>2014-05-02</td>\n",
       "      <td>5000</td>\n",
       "      <td>Queens Nri Hospitals</td>\n",
       "      <td>C</td>\n",
       "      <td>Vishakhapatnam</td>\n",
       "      <td>2014-05-23</td>\n",
       "      <td>YES</td>\n",
       "      <td>D</td>\n",
       "      <td>21.0</td>\n",
       "    </tr>\n",
       "    <tr>\n",
       "      <th>8</th>\n",
       "      <td>56</td>\n",
       "      <td>Male</td>\n",
       "      <td>OC</td>\n",
       "      <td>CARDIAC AND CARDIOTHORACIC SURGERY</td>\n",
       "      <td>Coronary Balloon Angioplasty with stent(00.45)</td>\n",
       "      <td>Guntur</td>\n",
       "      <td>2014-06-10</td>\n",
       "      <td>40000</td>\n",
       "      <td>2014-06-10</td>\n",
       "      <td>40000</td>\n",
       "      <td>Karumuri Hospital</td>\n",
       "      <td>C</td>\n",
       "      <td>Guntur</td>\n",
       "      <td>2014-06-16</td>\n",
       "      <td>NO</td>\n",
       "      <td>D</td>\n",
       "      <td>6.0</td>\n",
       "    </tr>\n",
       "    <tr>\n",
       "      <th>9</th>\n",
       "      <td>49</td>\n",
       "      <td>Male</td>\n",
       "      <td>OC</td>\n",
       "      <td>CARDIAC AND CARDIOTHORACIC SURGERY</td>\n",
       "      <td>Coronary Bypass Surgery</td>\n",
       "      <td>Guntur</td>\n",
       "      <td>2014-06-11</td>\n",
       "      <td>115846</td>\n",
       "      <td>2014-06-11</td>\n",
       "      <td>115846</td>\n",
       "      <td>Karumuri Hospital</td>\n",
       "      <td>C</td>\n",
       "      <td>Guntur</td>\n",
       "      <td>2014-06-25</td>\n",
       "      <td>NO</td>\n",
       "      <td>D</td>\n",
       "      <td>14.0</td>\n",
       "    </tr>\n",
       "    <tr>\n",
       "      <th>10</th>\n",
       "      <td>52</td>\n",
       "      <td>Male</td>\n",
       "      <td>BC</td>\n",
       "      <td>NEPHROLOGY</td>\n",
       "      <td>Maintenance Hemodialysis For Crf</td>\n",
       "      <td>Vishakhapatnam</td>\n",
       "      <td>2014-06-25</td>\n",
       "      <td>12500</td>\n",
       "      <td>2014-06-25</td>\n",
       "      <td>6250</td>\n",
       "      <td>Queens Nri Hospitals</td>\n",
       "      <td>C</td>\n",
       "      <td>Vishakhapatnam</td>\n",
       "      <td>2014-07-16</td>\n",
       "      <td>YES</td>\n",
       "      <td>P</td>\n",
       "      <td>21.0</td>\n",
       "    </tr>\n",
       "    <tr>\n",
       "      <th>11</th>\n",
       "      <td>56</td>\n",
       "      <td>Male</td>\n",
       "      <td>SC</td>\n",
       "      <td>CARDIOLOGY</td>\n",
       "      <td>Management Of Acute MI With Angiogram</td>\n",
       "      <td>Guntur</td>\n",
       "      <td>2014-07-04</td>\n",
       "      <td>30000</td>\n",
       "      <td>2014-07-04</td>\n",
       "      <td>30000</td>\n",
       "      <td>Karumuri Hospital</td>\n",
       "      <td>C</td>\n",
       "      <td>Guntur</td>\n",
       "      <td>2014-07-09</td>\n",
       "      <td>NO</td>\n",
       "      <td>D</td>\n",
       "      <td>5.0</td>\n",
       "    </tr>\n",
       "    <tr>\n",
       "      <th>12</th>\n",
       "      <td>65</td>\n",
       "      <td>Female</td>\n",
       "      <td>SC</td>\n",
       "      <td>CARDIOLOGY</td>\n",
       "      <td>Medical Management of  Refractory Cardiac Failure</td>\n",
       "      <td>Guntur</td>\n",
       "      <td>2014-07-09</td>\n",
       "      <td>40000</td>\n",
       "      <td>2014-07-09</td>\n",
       "      <td>40000</td>\n",
       "      <td>Karumuri Hospital</td>\n",
       "      <td>C</td>\n",
       "      <td>Guntur</td>\n",
       "      <td>2014-07-16</td>\n",
       "      <td>NO</td>\n",
       "      <td>P</td>\n",
       "      <td>7.0</td>\n",
       "    </tr>\n",
       "    <tr>\n",
       "      <th>13</th>\n",
       "      <td>75</td>\n",
       "      <td>Male</td>\n",
       "      <td>OC</td>\n",
       "      <td>CARDIOLOGY</td>\n",
       "      <td>Medical Management of  Refractory Cardiac Failure</td>\n",
       "      <td>Guntur</td>\n",
       "      <td>2014-07-10</td>\n",
       "      <td>40000</td>\n",
       "      <td>2014-07-10</td>\n",
       "      <td>40000</td>\n",
       "      <td>Karumuri Hospital</td>\n",
       "      <td>C</td>\n",
       "      <td>Guntur</td>\n",
       "      <td>2014-07-19</td>\n",
       "      <td>NO</td>\n",
       "      <td>D</td>\n",
       "      <td>9.0</td>\n",
       "    </tr>\n",
       "    <tr>\n",
       "      <th>14</th>\n",
       "      <td>52</td>\n",
       "      <td>Male</td>\n",
       "      <td>OC</td>\n",
       "      <td>CARDIOLOGY</td>\n",
       "      <td>Medical Management of  Refractory Cardiac Failure</td>\n",
       "      <td>Guntur</td>\n",
       "      <td>2014-07-13</td>\n",
       "      <td>40000</td>\n",
       "      <td>2014-07-13</td>\n",
       "      <td>25000</td>\n",
       "      <td>Karumuri Hospital</td>\n",
       "      <td>C</td>\n",
       "      <td>Guntur</td>\n",
       "      <td>2014-07-19</td>\n",
       "      <td>NO</td>\n",
       "      <td>D</td>\n",
       "      <td>6.0</td>\n",
       "    </tr>\n",
       "    <tr>\n",
       "      <th>15</th>\n",
       "      <td>56</td>\n",
       "      <td>Male</td>\n",
       "      <td>Minorities</td>\n",
       "      <td>CARDIOLOGY</td>\n",
       "      <td>Management Of Acute MI With Angiogram</td>\n",
       "      <td>Guntur</td>\n",
       "      <td>2014-07-16</td>\n",
       "      <td>30000</td>\n",
       "      <td>2014-07-16</td>\n",
       "      <td>30000</td>\n",
       "      <td>Karumuri Hospital</td>\n",
       "      <td>C</td>\n",
       "      <td>Guntur</td>\n",
       "      <td>2014-07-21</td>\n",
       "      <td>NO</td>\n",
       "      <td>D</td>\n",
       "      <td>5.0</td>\n",
       "    </tr>\n",
       "    <tr>\n",
       "      <th>16</th>\n",
       "      <td>1</td>\n",
       "      <td>Male(Child)</td>\n",
       "      <td>OC</td>\n",
       "      <td>COCHLEAR IMPLANT SURGERY</td>\n",
       "      <td>Cochlear Implant Surgery</td>\n",
       "      <td>Guntur</td>\n",
       "      <td>2017-07-20</td>\n",
       "      <td>520000</td>\n",
       "      <td>2017-07-20</td>\n",
       "      <td>520000</td>\n",
       "      <td>Ent Nursing Home</td>\n",
       "      <td>C</td>\n",
       "      <td>Guntur</td>\n",
       "      <td>2017-08-17</td>\n",
       "      <td>NO</td>\n",
       "      <td>D</td>\n",
       "      <td>28.0</td>\n",
       "    </tr>\n",
       "    <tr>\n",
       "      <th>17</th>\n",
       "      <td>54</td>\n",
       "      <td>Female</td>\n",
       "      <td>SC</td>\n",
       "      <td>CARDIAC AND CARDIOTHORACIC SURGERY</td>\n",
       "      <td>Coronary Bypass Surgery</td>\n",
       "      <td>Guntur</td>\n",
       "      <td>2014-07-27</td>\n",
       "      <td>115846</td>\n",
       "      <td>2014-07-27</td>\n",
       "      <td>108846</td>\n",
       "      <td>Karumuri Hospital</td>\n",
       "      <td>C</td>\n",
       "      <td>Guntur</td>\n",
       "      <td>2014-08-08</td>\n",
       "      <td>NO</td>\n",
       "      <td>D</td>\n",
       "      <td>12.0</td>\n",
       "    </tr>\n",
       "    <tr>\n",
       "      <th>18</th>\n",
       "      <td>48</td>\n",
       "      <td>Male</td>\n",
       "      <td>OC</td>\n",
       "      <td>CARDIAC AND CARDIOTHORACIC SURGERY</td>\n",
       "      <td>Coronary Bypass Surgery</td>\n",
       "      <td>Guntur</td>\n",
       "      <td>2014-07-27</td>\n",
       "      <td>115846</td>\n",
       "      <td>2014-07-27</td>\n",
       "      <td>110846</td>\n",
       "      <td>Karumuri Hospital</td>\n",
       "      <td>C</td>\n",
       "      <td>Guntur</td>\n",
       "      <td>2014-08-06</td>\n",
       "      <td>NO</td>\n",
       "      <td>D</td>\n",
       "      <td>10.0</td>\n",
       "    </tr>\n",
       "    <tr>\n",
       "      <th>19</th>\n",
       "      <td>57</td>\n",
       "      <td>Female</td>\n",
       "      <td>OC</td>\n",
       "      <td>CARDIOLOGY</td>\n",
       "      <td>Management Of Acute MI With Angiogram</td>\n",
       "      <td>Guntur</td>\n",
       "      <td>2014-07-28</td>\n",
       "      <td>30000</td>\n",
       "      <td>2014-07-28</td>\n",
       "      <td>30000</td>\n",
       "      <td>Karumuri Hospital</td>\n",
       "      <td>C</td>\n",
       "      <td>Guntur</td>\n",
       "      <td>2014-08-02</td>\n",
       "      <td>NO</td>\n",
       "      <td>D</td>\n",
       "      <td>5.0</td>\n",
       "    </tr>\n",
       "  </tbody>\n",
       "</table>\n",
       "</div>"
      ],
      "text/plain": [
       "    AGE          SEX  CASTE_NAME                       CATEGORY_NAME  \\\n",
       "0    56       Female          BC                          NEPHROLOGY   \n",
       "1    37         Male          BC                          NEPHROLOGY   \n",
       "2    50         Male          BC                          NEPHROLOGY   \n",
       "3    45         Male          BC                          NEPHROLOGY   \n",
       "4    54         Male          BC                          NEPHROLOGY   \n",
       "5    35         Male          OC                          NEPHROLOGY   \n",
       "6    52         Male          OC                          NEPHROLOGY   \n",
       "7    73         Male          BC                          NEPHROLOGY   \n",
       "8    56         Male          OC  CARDIAC AND CARDIOTHORACIC SURGERY   \n",
       "9    49         Male          OC  CARDIAC AND CARDIOTHORACIC SURGERY   \n",
       "10   52         Male          BC                          NEPHROLOGY   \n",
       "11   56         Male          SC                          CARDIOLOGY   \n",
       "12   65       Female          SC                          CARDIOLOGY   \n",
       "13   75         Male          OC                          CARDIOLOGY   \n",
       "14   52         Male          OC                          CARDIOLOGY   \n",
       "15   56         Male  Minorities                          CARDIOLOGY   \n",
       "16    1  Male(Child)          OC            COCHLEAR IMPLANT SURGERY   \n",
       "17   54       Female          SC  CARDIAC AND CARDIOTHORACIC SURGERY   \n",
       "18   48         Male          OC  CARDIAC AND CARDIOTHORACIC SURGERY   \n",
       "19   57       Female          OC                          CARDIOLOGY   \n",
       "\n",
       "                                              SURGERY   DISTRICT_NAME  \\\n",
       "0                    Maintenance Hemodialysis For Crf      Srikakulam   \n",
       "1                    Maintenance Hemodialysis For Crf      Srikakulam   \n",
       "2                    Maintenance Hemodialysis For Crf      Srikakulam   \n",
       "3                    Maintenance Hemodialysis For Crf      Srikakulam   \n",
       "4                    Maintenance Hemodialysis For Crf      Srikakulam   \n",
       "5                    Maintenance Hemodialysis For Crf      Srikakulam   \n",
       "6                    Maintenance Hemodialysis For Crf         Kurnool   \n",
       "7                    Maintenance Hemodialysis For Crf    Vizianagaram   \n",
       "8      Coronary Balloon Angioplasty with stent(00.45)          Guntur   \n",
       "9                             Coronary Bypass Surgery          Guntur   \n",
       "10                   Maintenance Hemodialysis For Crf  Vishakhapatnam   \n",
       "11              Management Of Acute MI With Angiogram          Guntur   \n",
       "12  Medical Management of  Refractory Cardiac Failure          Guntur   \n",
       "13  Medical Management of  Refractory Cardiac Failure          Guntur   \n",
       "14  Medical Management of  Refractory Cardiac Failure          Guntur   \n",
       "15              Management Of Acute MI With Angiogram          Guntur   \n",
       "16                           Cochlear Implant Surgery          Guntur   \n",
       "17                            Coronary Bypass Surgery          Guntur   \n",
       "18                            Coronary Bypass Surgery          Guntur   \n",
       "19              Management Of Acute MI With Angiogram          Guntur   \n",
       "\n",
       "   PREAUTH_DATE  PREAUTH_AMT CLAIM_DATE  CLAIM_AMOUNT  \\\n",
       "0    2013-08-03        12500 2013-08-03         11000   \n",
       "1    2013-08-06        12500 2013-08-06         11000   \n",
       "2    2013-08-09        12500 2013-08-09         11500   \n",
       "3    2013-08-24        12500 2013-08-24         11000   \n",
       "4    2013-08-28        12500 2013-08-28         11000   \n",
       "5    2013-08-28        12500 2013-08-28         11000   \n",
       "6    2013-08-30        12500 2013-08-30         11000   \n",
       "7    2014-05-02        12500 2014-05-02          5000   \n",
       "8    2014-06-10        40000 2014-06-10         40000   \n",
       "9    2014-06-11       115846 2014-06-11        115846   \n",
       "10   2014-06-25        12500 2014-06-25          6250   \n",
       "11   2014-07-04        30000 2014-07-04         30000   \n",
       "12   2014-07-09        40000 2014-07-09         40000   \n",
       "13   2014-07-10        40000 2014-07-10         40000   \n",
       "14   2014-07-13        40000 2014-07-13         25000   \n",
       "15   2014-07-16        30000 2014-07-16         30000   \n",
       "16   2017-07-20       520000 2017-07-20        520000   \n",
       "17   2014-07-27       115846 2014-07-27        108846   \n",
       "18   2014-07-27       115846 2014-07-27        110846   \n",
       "19   2014-07-28        30000 2014-07-28         30000   \n",
       "\n",
       "                                  HOSP_NAME HOSP_TYPE   HOSP_DISTRICT  \\\n",
       "0   Rims Govt. General Hospital, Srikakulam         G      Srikakulam   \n",
       "1   Rims Govt. General Hospital, Srikakulam         G      Srikakulam   \n",
       "2   Rims Govt. General Hospital, Srikakulam         G      Srikakulam   \n",
       "3   Rims Govt. General Hospital, Srikakulam         G      Srikakulam   \n",
       "4   Rims Govt. General Hospital, Srikakulam         G      Srikakulam   \n",
       "5   Rims Govt. General Hospital, Srikakulam         G      Srikakulam   \n",
       "6             Govt General Hospital Kurnool         G         Kurnool   \n",
       "7                      Queens Nri Hospitals         C  Vishakhapatnam   \n",
       "8                         Karumuri Hospital         C          Guntur   \n",
       "9                         Karumuri Hospital         C          Guntur   \n",
       "10                     Queens Nri Hospitals         C  Vishakhapatnam   \n",
       "11                        Karumuri Hospital         C          Guntur   \n",
       "12                        Karumuri Hospital         C          Guntur   \n",
       "13                        Karumuri Hospital         C          Guntur   \n",
       "14                        Karumuri Hospital         C          Guntur   \n",
       "15                        Karumuri Hospital         C          Guntur   \n",
       "16                         Ent Nursing Home         C          Guntur   \n",
       "17                        Karumuri Hospital         C          Guntur   \n",
       "18                        Karumuri Hospital         C          Guntur   \n",
       "19                        Karumuri Hospital         C          Guntur   \n",
       "\n",
       "   DISCHARGE_DATE Mortality Y / N SRC_REGISTRATION  DAYS_STAYED  \n",
       "0      2013-09-07              NO                D         35.0  \n",
       "1      2013-09-09              NO                D         34.0  \n",
       "2      2013-10-18              NO                D         70.0  \n",
       "3      2013-09-27              NO                D         34.0  \n",
       "4      2013-10-02              NO                D         35.0  \n",
       "5      2013-10-02              NO                P         35.0  \n",
       "6      2013-10-02              NO                D         33.0  \n",
       "7      2014-05-23             YES                D         21.0  \n",
       "8      2014-06-16              NO                D          6.0  \n",
       "9      2014-06-25              NO                D         14.0  \n",
       "10     2014-07-16             YES                P         21.0  \n",
       "11     2014-07-09              NO                D          5.0  \n",
       "12     2014-07-16              NO                P          7.0  \n",
       "13     2014-07-19              NO                D          9.0  \n",
       "14     2014-07-19              NO                D          6.0  \n",
       "15     2014-07-21              NO                D          5.0  \n",
       "16     2017-08-17              NO                D         28.0  \n",
       "17     2014-08-08              NO                D         12.0  \n",
       "18     2014-08-06              NO                D         10.0  \n",
       "19     2014-08-02              NO                D          5.0  "
      ]
     },
     "execution_count": 84,
     "metadata": {},
     "output_type": "execute_result"
    }
   ],
   "source": [
    "##changing to date time \n",
    "\n",
    "df['DISCHARGE_DATE'] = pd.to_datetime(df['DISCHARGE_DATE'], format='%d-%m-%Y %H:%M', errors='coerce')\n",
    "df['PREAUTH_DATE'] = pd.to_datetime(df['PREAUTH_DATE'], format='%d-%m-%Y', errors='coerce')\n",
    "df['CLAIM_DATE'] = pd.to_datetime(df['PREAUTH_DATE'], format='%d-%m-%Y', errors='coerce')\n",
    "# Remove time information from 'DISCHARGE_DATE' \n",
    "df['DISCHARGE_DATE'] = df['DISCHARGE_DATE'].dt.floor('d')\n",
    "\n",
    "## creating a new column days_stayed\n",
    "df['DAYS_STAYED'] = (df['DISCHARGE_DATE'] - df['PREAUTH_DATE']).dt.days\n",
    "\n",
    "df.head(20)"
   ]
  },
  {
   "cell_type": "markdown",
   "id": "dd5d1de7",
   "metadata": {},
   "source": [
    "- Replaced 'PREAUTH_DATE' and 'CLAIM_DATE' and 'DISCHARGE_DATE' with your actual datatype. \n",
    "- The data type of these columns should be datetime64."
   ]
  },
  {
   "cell_type": "code",
   "execution_count": 85,
   "id": "3dcd6711",
   "metadata": {
    "scrolled": true
   },
   "outputs": [
    {
     "data": {
      "text/plain": [
       "AGE                          int64\n",
       "SEX                         object\n",
       "CASTE_NAME                  object\n",
       "CATEGORY_NAME               object\n",
       "SURGERY                     object\n",
       "DISTRICT_NAME               object\n",
       "PREAUTH_DATE        datetime64[ns]\n",
       "PREAUTH_AMT                  int64\n",
       "CLAIM_DATE          datetime64[ns]\n",
       "CLAIM_AMOUNT                 int64\n",
       "HOSP_NAME                   object\n",
       "HOSP_TYPE                   object\n",
       "HOSP_DISTRICT               object\n",
       "DISCHARGE_DATE      datetime64[ns]\n",
       "Mortality Y / N             object\n",
       "SRC_REGISTRATION            object\n",
       "DAYS_STAYED                float64\n",
       "dtype: object"
      ]
     },
     "execution_count": 85,
     "metadata": {},
     "output_type": "execute_result"
    }
   ],
   "source": [
    "# Check datatypes after changing the datatypes\n",
    "df.dtypes"
   ]
  },
  {
   "cell_type": "code",
   "execution_count": 86,
   "id": "dc2dff44",
   "metadata": {},
   "outputs": [
    {
     "data": {
      "text/plain": [
       "AGE                 0\n",
       "SEX                 0\n",
       "CASTE_NAME          0\n",
       "CATEGORY_NAME       0\n",
       "SURGERY             0\n",
       "DISTRICT_NAME       0\n",
       "PREAUTH_DATE        0\n",
       "PREAUTH_AMT         0\n",
       "CLAIM_DATE          0\n",
       "CLAIM_AMOUNT        0\n",
       "HOSP_NAME           0\n",
       "HOSP_TYPE           0\n",
       "HOSP_DISTRICT       0\n",
       "DISCHARGE_DATE      3\n",
       "Mortality Y / N     0\n",
       "SRC_REGISTRATION    0\n",
       "DAYS_STAYED         3\n",
       "dtype: int64"
      ]
     },
     "execution_count": 86,
     "metadata": {},
     "output_type": "execute_result"
    }
   ],
   "source": [
    "# Check null values\n",
    "df.isnull().sum()"
   ]
  },
  {
   "cell_type": "code",
   "execution_count": 87,
   "id": "d6aaa10f",
   "metadata": {},
   "outputs": [],
   "source": [
    "# Fill null values with max()\n",
    "df['DISCHARGE_DATE'].fillna(df['DISCHARGE_DATE'].max(),inplace=True)"
   ]
  },
  {
   "cell_type": "code",
   "execution_count": 88,
   "id": "84255f33",
   "metadata": {},
   "outputs": [],
   "source": [
    "# Fill null values with max()\n",
    "df['DAYS_STAYED'].fillna(df['DAYS_STAYED'].max(),inplace=True)"
   ]
  },
  {
   "cell_type": "code",
   "execution_count": 89,
   "id": "d4e2660f",
   "metadata": {},
   "outputs": [
    {
     "data": {
      "text/plain": [
       "AGE                 0\n",
       "SEX                 0\n",
       "CASTE_NAME          0\n",
       "CATEGORY_NAME       0\n",
       "SURGERY             0\n",
       "DISTRICT_NAME       0\n",
       "PREAUTH_DATE        0\n",
       "PREAUTH_AMT         0\n",
       "CLAIM_DATE          0\n",
       "CLAIM_AMOUNT        0\n",
       "HOSP_NAME           0\n",
       "HOSP_TYPE           0\n",
       "HOSP_DISTRICT       0\n",
       "DISCHARGE_DATE      0\n",
       "Mortality Y / N     0\n",
       "SRC_REGISTRATION    0\n",
       "DAYS_STAYED         0\n",
       "dtype: int64"
      ]
     },
     "execution_count": 89,
     "metadata": {},
     "output_type": "execute_result"
    }
   ],
   "source": [
    "# Check null values after filling the null values.\n",
    "df.isnull().sum()"
   ]
  },
  {
   "cell_type": "code",
   "execution_count": 90,
   "id": "d42927a6",
   "metadata": {},
   "outputs": [],
   "source": [
    "# Replace values\n",
    "df.SEX=df.SEX.replace(['Female', 'Female(Child)'], 'FEMALE')\n",
    "df.SEX=df.SEX.replace(['Male', 'Male(Child)'], 'MALE')"
   ]
  },
  {
   "cell_type": "code",
   "execution_count": 91,
   "id": "90095d73",
   "metadata": {},
   "outputs": [
    {
     "data": {
      "text/plain": [
       "array(['FEMALE', 'MALE'], dtype=object)"
      ]
     },
     "execution_count": 91,
     "metadata": {},
     "output_type": "execute_result"
    }
   ],
   "source": [
    "df['SEX'].unique()"
   ]
  },
  {
   "cell_type": "code",
   "execution_count": null,
   "id": "7f214b28",
   "metadata": {},
   "outputs": [],
   "source": []
  },
  {
   "cell_type": "code",
   "execution_count": 92,
   "id": "f47db3f2",
   "metadata": {},
   "outputs": [],
   "source": [
    "# Select numeric columns\n",
    "df_numeric=df.select_dtypes(include=np.number)"
   ]
  },
  {
   "cell_type": "code",
   "execution_count": 93,
   "id": "fb8ea7b9",
   "metadata": {
    "scrolled": true
   },
   "outputs": [
    {
     "data": {
      "text/plain": [
       "AGE            -0.574233\n",
       "PREAUTH_AMT     2.826157\n",
       "CLAIM_AMOUNT    3.089832\n",
       "DAYS_STAYED     7.129508\n",
       "dtype: float64"
      ]
     },
     "execution_count": 93,
     "metadata": {},
     "output_type": "execute_result"
    }
   ],
   "source": [
    "# Check skewness of numeric values\n",
    "df_numeric.skew()"
   ]
  },
  {
   "cell_type": "code",
   "execution_count": null,
   "id": "ee21e243",
   "metadata": {},
   "outputs": [],
   "source": []
  },
  {
   "cell_type": "code",
   "execution_count": 94,
   "id": "20c070dc",
   "metadata": {},
   "outputs": [
    {
     "data": {
      "image/png": "[encoded data removed]",
      "text/plain": [
       "<Figure size 1500x1000 with 4 Axes>"
      ]
     },
     "metadata": {},
     "output_type": "display_data"
    }
   ],
   "source": [
    "# Distribution of numerical columns\n",
    "fig, ax = plt.subplots(1, 4, figsize=(15, 10))\n",
    "\n",
    "for variable, subplot in zip(df_numeric, ax.flatten()):\n",
    "    distplt = sns.distplot(x=df_numeric[variable], ax=subplot)\n",
    "    distplt.set_xlabel(variable, fontsize = 15)\n",
    "    \n",
    "plt.tight_layout()   \n",
    "plt.show() "
   ]
  },
  {
   "cell_type": "code",
   "execution_count": 95,
   "id": "902358c1",
   "metadata": {},
   "outputs": [
    {
     "data": {
      "text/html": [
       "<div>\n",
       "<style scoped>\n",
       "    .dataframe tbody tr th:only-of-type {\n",
       "        vertical-align: middle;\n",
       "    }\n",
       "\n",
       "    .dataframe tbody tr th {\n",
       "        vertical-align: top;\n",
       "    }\n",
       "\n",
       "    .dataframe thead th {\n",
       "        text-align: right;\n",
       "    }\n",
       "</style>\n",
       "<table border=\"1\" class=\"dataframe\">\n",
       "  <thead>\n",
       "    <tr style=\"text-align: right;\">\n",
       "      <th></th>\n",
       "      <th>AGE</th>\n",
       "      <th>PREAUTH_AMT</th>\n",
       "      <th>CLAIM_AMOUNT</th>\n",
       "      <th>DAYS_STAYED</th>\n",
       "    </tr>\n",
       "  </thead>\n",
       "  <tbody>\n",
       "    <tr>\n",
       "      <th>0</th>\n",
       "      <td>56</td>\n",
       "      <td>12500</td>\n",
       "      <td>11000</td>\n",
       "      <td>35.0</td>\n",
       "    </tr>\n",
       "    <tr>\n",
       "      <th>1</th>\n",
       "      <td>37</td>\n",
       "      <td>12500</td>\n",
       "      <td>11000</td>\n",
       "      <td>34.0</td>\n",
       "    </tr>\n",
       "    <tr>\n",
       "      <th>2</th>\n",
       "      <td>50</td>\n",
       "      <td>12500</td>\n",
       "      <td>11500</td>\n",
       "      <td>70.0</td>\n",
       "    </tr>\n",
       "    <tr>\n",
       "      <th>3</th>\n",
       "      <td>45</td>\n",
       "      <td>12500</td>\n",
       "      <td>11000</td>\n",
       "      <td>34.0</td>\n",
       "    </tr>\n",
       "    <tr>\n",
       "      <th>4</th>\n",
       "      <td>54</td>\n",
       "      <td>12500</td>\n",
       "      <td>11000</td>\n",
       "      <td>35.0</td>\n",
       "    </tr>\n",
       "  </tbody>\n",
       "</table>\n",
       "</div>"
      ],
      "text/plain": [
       "   AGE  PREAUTH_AMT  CLAIM_AMOUNT  DAYS_STAYED\n",
       "0   56        12500         11000         35.0\n",
       "1   37        12500         11000         34.0\n",
       "2   50        12500         11500         70.0\n",
       "3   45        12500         11000         34.0\n",
       "4   54        12500         11000         35.0"
      ]
     },
     "execution_count": 95,
     "metadata": {},
     "output_type": "execute_result"
    }
   ],
   "source": [
    "df_numeric.head()"
   ]
  },
  {
   "cell_type": "code",
   "execution_count": null,
   "id": "b45c208a",
   "metadata": {},
   "outputs": [],
   "source": []
  },
  {
   "cell_type": "code",
   "execution_count": null,
   "id": "deecc0ec",
   "metadata": {},
   "outputs": [],
   "source": []
  },
  {
   "cell_type": "code",
   "execution_count": 96,
   "id": "b83b3399",
   "metadata": {},
   "outputs": [
    {
     "data": {
      "image/png": "[encoded data removed]",
      "text/plain": [
       "<Figure size 1200x800 with 2 Axes>"
      ]
     },
     "metadata": {},
     "output_type": "display_data"
    }
   ],
   "source": [
    "# Correlation matrix\n",
    "correlation_matrix = df.corr()\n",
    "\n",
    "plt.figure(figsize=(12, 8))\n",
    "sns.heatmap(correlation_matrix, annot=True, fmt=\".2f\")\n",
    "plt.title(\"Correlation Matrix\")\n",
    "plt.show()"
   ]
  },
  {
   "cell_type": "code",
   "execution_count": 97,
   "id": "74a5076b",
   "metadata": {},
   "outputs": [
    {
     "data": {
      "text/html": [
       "<div>\n",
       "<style scoped>\n",
       "    .dataframe tbody tr th:only-of-type {\n",
       "        vertical-align: middle;\n",
       "    }\n",
       "\n",
       "    .dataframe tbody tr th {\n",
       "        vertical-align: top;\n",
       "    }\n",
       "\n",
       "    .dataframe thead th {\n",
       "        text-align: right;\n",
       "    }\n",
       "</style>\n",
       "<table border=\"1\" class=\"dataframe\">\n",
       "  <thead>\n",
       "    <tr style=\"text-align: right;\">\n",
       "      <th></th>\n",
       "      <th>AGE</th>\n",
       "      <th>PREAUTH_AMT</th>\n",
       "      <th>CLAIM_AMOUNT</th>\n",
       "      <th>DAYS_STAYED</th>\n",
       "    </tr>\n",
       "  </thead>\n",
       "  <tbody>\n",
       "    <tr>\n",
       "      <th>AGE</th>\n",
       "      <td>1.000000</td>\n",
       "      <td>0.013485</td>\n",
       "      <td>0.032526</td>\n",
       "      <td>0.042833</td>\n",
       "    </tr>\n",
       "    <tr>\n",
       "      <th>PREAUTH_AMT</th>\n",
       "      <td>0.013485</td>\n",
       "      <td>1.000000</td>\n",
       "      <td>0.959587</td>\n",
       "      <td>-0.036785</td>\n",
       "    </tr>\n",
       "    <tr>\n",
       "      <th>CLAIM_AMOUNT</th>\n",
       "      <td>0.032526</td>\n",
       "      <td>0.959587</td>\n",
       "      <td>1.000000</td>\n",
       "      <td>-0.024468</td>\n",
       "    </tr>\n",
       "    <tr>\n",
       "      <th>DAYS_STAYED</th>\n",
       "      <td>0.042833</td>\n",
       "      <td>-0.036785</td>\n",
       "      <td>-0.024468</td>\n",
       "      <td>1.000000</td>\n",
       "    </tr>\n",
       "  </tbody>\n",
       "</table>\n",
       "</div>"
      ],
      "text/plain": [
       "                   AGE  PREAUTH_AMT  CLAIM_AMOUNT  DAYS_STAYED\n",
       "AGE           1.000000     0.013485      0.032526     0.042833\n",
       "PREAUTH_AMT   0.013485     1.000000      0.959587    -0.036785\n",
       "CLAIM_AMOUNT  0.032526     0.959587      1.000000    -0.024468\n",
       "DAYS_STAYED   0.042833    -0.036785     -0.024468     1.000000"
      ]
     },
     "execution_count": 97,
     "metadata": {},
     "output_type": "execute_result"
    }
   ],
   "source": [
    "df.corr()"
   ]
  },
  {
   "cell_type": "markdown",
   "id": "5708dae4",
   "metadata": {},
   "source": [
    "- AGE and PREAUTH_AMT (0.013485):\n",
    "The correlation coefficient is close to zero, suggesting a very weak positive correlation between age and pre-authorization amount. In practical terms, age has little influence on pre-authorization amount.\n",
    "\n",
    "- AGE and CLAIM_AMOUNT (0.032526):\n",
    "Similarly, there is a very weak positive correlation between age and claim amount. Age has a minor influence on the claimed amount.\n",
    "\n",
    "- AGE and DAYS_STAYED (0.042833):\n",
    "There is a weak positive correlation between age and the number of days stayed. This suggests that, on average, older individuals might have slightly longer stays.\n",
    "\n",
    "- PREAUTH_AMT and CLAIM_AMOUNT (0.959587):\n",
    "There is a strong positive correlation between pre-authorization amount and claimed amount. This indicates that higher pre-authorization amounts are associated with higher claimed amounts.\n",
    "\n",
    "- PREAUTH_AMT and DAYS_STAYED (-0.036785):\n",
    "There is a very weak negative correlation between pre-authorization amount and the number of days stayed. This suggests that higher pre-authorization amounts are, on average, associated with slightly shorter stays.\n",
    "\n",
    "- CLAIM_AMOUNT and DAYS_STAYED (-0.024468):\n",
    "There is a very weak negative correlation between claimed amount and the number of days stayed. This implies that higher claimed amounts are, on average, associated with slightly shorter stays."
   ]
  },
  {
   "cell_type": "code",
   "execution_count": null,
   "id": "31e746a3",
   "metadata": {},
   "outputs": [],
   "source": []
  },
  {
   "cell_type": "code",
   "execution_count": 98,
   "id": "0cca7766",
   "metadata": {},
   "outputs": [
    {
     "data": {
      "text/plain": [
       "<Figure size 900x900 with 0 Axes>"
      ]
     },
     "metadata": {},
     "output_type": "display_data"
    },
    {
     "data": {
      "image/png": "[encoded data removed]",
      "text/plain": [
       "<Figure size 709.486x300 with 2 Axes>"
      ]
     },
     "metadata": {},
     "output_type": "display_data"
    }
   ],
   "source": [
    "plt.figure(figsize=(9,9))\n",
    "isurance_plot = sns.FacetGrid(df, hue='Mortality Y / N', col='SEX')\n",
    "isurance_plot.map(plt.scatter, 'AGE', 'CLAIM_AMOUNT').add_legend()\n",
    "plt.tight_layout()\n",
    "plt.show()"
   ]
  },
  {
   "cell_type": "code",
   "execution_count": null,
   "id": "200a3ec0",
   "metadata": {},
   "outputs": [],
   "source": []
  },
  {
   "cell_type": "code",
   "execution_count": 99,
   "id": "2113a09d",
   "metadata": {},
   "outputs": [
    {
     "data": {
      "text/plain": [
       "<Axes: title={'center': 'Surgery Category'}>"
      ]
     },
     "execution_count": 99,
     "metadata": {},
     "output_type": "execute_result"
    },
    {
     "data": {
      "image/png": "[encoded data removed]",
      "text/plain": [
       "<Figure size 1500x1000 with 1 Axes>"
      ]
     },
     "metadata": {},
     "output_type": "display_data"
    }
   ],
   "source": [
    "#Surgery Category\n",
    "fig = plt.gcf()\n",
    "fig.set_size_inches(15,10)\n",
    "df['CATEGORY_NAME'].value_counts(normalize=True).plot.bar(title='Surgery Category')"
   ]
  },
  {
   "cell_type": "code",
   "execution_count": null,
   "id": "bdab09b9",
   "metadata": {},
   "outputs": [],
   "source": []
  },
  {
   "cell_type": "code",
   "execution_count": 100,
   "id": "c7ebedb5",
   "metadata": {},
   "outputs": [
    {
     "data": {
      "text/plain": [
       "<Axes: title={'center': 'Surgeries with Most Fatalities'}, xlabel='SURGERY'>"
      ]
     },
     "execution_count": 100,
     "metadata": {},
     "output_type": "execute_result"
    },
    {
     "data": {
      "image/png": "[encoded data removed]",
      "text/plain": [
       "<Figure size 1500x1000 with 1 Axes>"
      ]
     },
     "metadata": {},
     "output_type": "display_data"
    }
   ],
   "source": [
    "#Surgeries with Most Fatalities\n",
    "\n",
    "fig = plt.gcf()\n",
    "fig.set_size_inches(15,10)\n",
    "fatalities = pd.crosstab(df['SURGERY'],df['Mortality Y / N'])\n",
    "fatalities.sort_values(by=['YES'],ascending=False)[:10]['YES'].plot.bar(title= 'Surgeries with Most Fatalities')"
   ]
  },
  {
   "cell_type": "code",
   "execution_count": 101,
   "id": "853785b5",
   "metadata": {},
   "outputs": [],
   "source": [
    "df.drop(columns=['SURGERY'],inplace=True)"
   ]
  },
  {
   "cell_type": "code",
   "execution_count": 102,
   "id": "245ea7c6",
   "metadata": {},
   "outputs": [
    {
     "data": {
      "text/plain": [
       "AGE            -0.574233\n",
       "PREAUTH_AMT     2.826157\n",
       "CLAIM_AMOUNT    3.089832\n",
       "DAYS_STAYED     7.129508\n",
       "dtype: float64"
      ]
     },
     "execution_count": 102,
     "metadata": {},
     "output_type": "execute_result"
    }
   ],
   "source": [
    "df.skew()"
   ]
  },
  {
   "cell_type": "code",
   "execution_count": 103,
   "id": "afbb135d",
   "metadata": {},
   "outputs": [
    {
     "data": {
      "image/png": "[encoded data removed]",
      "text/plain": [
       "<Figure size 640x480 with 1 Axes>"
      ]
     },
     "metadata": {},
     "output_type": "display_data"
    },
    {
     "data": {
      "image/png": "[encoded data removed]",
      "text/plain": [
       "<Figure size 640x480 with 1 Axes>"
      ]
     },
     "metadata": {},
     "output_type": "display_data"
    },
    {
     "data": {
      "image/png": "[encoded data removed]",
      "text/plain": [
       "<Figure size 640x480 with 1 Axes>"
      ]
     },
     "metadata": {},
     "output_type": "display_data"
    },
    {
     "data": {
      "image/png": "[encoded data removed]",
      "text/plain": [
       "<Figure size 640x480 with 1 Axes>"
      ]
     },
     "metadata": {},
     "output_type": "display_data"
    }
   ],
   "source": [
    "#Outliers\n",
    "for i in df.select_dtypes(include=np.number):\n",
    "    sns.boxplot(df[i])\n",
    "    plt.show()"
   ]
  },
  {
   "cell_type": "code",
   "execution_count": null,
   "id": "fa31f85f",
   "metadata": {},
   "outputs": [],
   "source": []
  },
  {
   "cell_type": "code",
   "execution_count": 104,
   "id": "157591f6",
   "metadata": {},
   "outputs": [],
   "source": [
    "num=df.select_dtypes(include=np.number)\n",
    "num.drop('CLAIM_AMOUNT', axis=1, inplace=True)"
   ]
  },
  {
   "cell_type": "code",
   "execution_count": 105,
   "id": "1cbca272",
   "metadata": {},
   "outputs": [
    {
     "data": {
      "text/html": [
       "<div>\n",
       "<style scoped>\n",
       "    .dataframe tbody tr th:only-of-type {\n",
       "        vertical-align: middle;\n",
       "    }\n",
       "\n",
       "    .dataframe tbody tr th {\n",
       "        vertical-align: top;\n",
       "    }\n",
       "\n",
       "    .dataframe thead th {\n",
       "        text-align: right;\n",
       "    }\n",
       "</style>\n",
       "<table border=\"1\" class=\"dataframe\">\n",
       "  <thead>\n",
       "    <tr style=\"text-align: right;\">\n",
       "      <th></th>\n",
       "      <th>AGE</th>\n",
       "      <th>PREAUTH_AMT</th>\n",
       "      <th>DAYS_STAYED</th>\n",
       "    </tr>\n",
       "  </thead>\n",
       "  <tbody>\n",
       "    <tr>\n",
       "      <th>0</th>\n",
       "      <td>56</td>\n",
       "      <td>12500</td>\n",
       "      <td>35.0</td>\n",
       "    </tr>\n",
       "    <tr>\n",
       "      <th>1</th>\n",
       "      <td>37</td>\n",
       "      <td>12500</td>\n",
       "      <td>34.0</td>\n",
       "    </tr>\n",
       "    <tr>\n",
       "      <th>2</th>\n",
       "      <td>50</td>\n",
       "      <td>12500</td>\n",
       "      <td>70.0</td>\n",
       "    </tr>\n",
       "    <tr>\n",
       "      <th>3</th>\n",
       "      <td>45</td>\n",
       "      <td>12500</td>\n",
       "      <td>34.0</td>\n",
       "    </tr>\n",
       "    <tr>\n",
       "      <th>4</th>\n",
       "      <td>54</td>\n",
       "      <td>12500</td>\n",
       "      <td>35.0</td>\n",
       "    </tr>\n",
       "  </tbody>\n",
       "</table>\n",
       "</div>"
      ],
      "text/plain": [
       "   AGE  PREAUTH_AMT  DAYS_STAYED\n",
       "0   56        12500         35.0\n",
       "1   37        12500         34.0\n",
       "2   50        12500         70.0\n",
       "3   45        12500         34.0\n",
       "4   54        12500         35.0"
      ]
     },
     "execution_count": 105,
     "metadata": {},
     "output_type": "execute_result"
    }
   ],
   "source": [
    "num.head()"
   ]
  },
  {
   "cell_type": "code",
   "execution_count": 106,
   "id": "9f89d888",
   "metadata": {},
   "outputs": [
    {
     "data": {
      "text/html": [
       "<div>\n",
       "<style scoped>\n",
       "    .dataframe tbody tr th:only-of-type {\n",
       "        vertical-align: middle;\n",
       "    }\n",
       "\n",
       "    .dataframe tbody tr th {\n",
       "        vertical-align: top;\n",
       "    }\n",
       "\n",
       "    .dataframe thead th {\n",
       "        text-align: right;\n",
       "    }\n",
       "</style>\n",
       "<table border=\"1\" class=\"dataframe\">\n",
       "  <thead>\n",
       "    <tr style=\"text-align: right;\">\n",
       "      <th></th>\n",
       "      <th>VIF_Value</th>\n",
       "    </tr>\n",
       "  </thead>\n",
       "  <tbody>\n",
       "    <tr>\n",
       "      <th>const</th>\n",
       "      <td>8.173125</td>\n",
       "    </tr>\n",
       "    <tr>\n",
       "      <th>DAYS_STAYED</th>\n",
       "      <td>1.003241</td>\n",
       "    </tr>\n",
       "    <tr>\n",
       "      <th>AGE</th>\n",
       "      <td>1.002066</td>\n",
       "    </tr>\n",
       "    <tr>\n",
       "      <th>PREAUTH_AMT</th>\n",
       "      <td>1.001583</td>\n",
       "    </tr>\n",
       "  </tbody>\n",
       "</table>\n",
       "</div>"
      ],
      "text/plain": [
       "             VIF_Value\n",
       "const         8.173125\n",
       "DAYS_STAYED   1.003241\n",
       "AGE           1.002066\n",
       "PREAUTH_AMT   1.001583"
      ]
     },
     "execution_count": 106,
     "metadata": {},
     "output_type": "execute_result"
    }
   ],
   "source": [
    "num=sm.add_constant(num)\n",
    "vif_value=(VIF(num.values,i) for i in range(num.shape[1]))\n",
    "pd.DataFrame(vif_value, columns=['VIF_Value'], index=num.columns).sort_values('VIF_Value', ascending=False)"
   ]
  },
  {
   "cell_type": "code",
   "execution_count": null,
   "id": "9127c3fb",
   "metadata": {},
   "outputs": [],
   "source": []
  },
  {
   "cell_type": "markdown",
   "id": "5cf8dd30",
   "metadata": {},
   "source": [
    "# Scaling"
   ]
  },
  {
   "cell_type": "markdown",
   "id": "dd6541cd",
   "metadata": {},
   "source": [
    "- Need to scale features depends on the specific requirements of the machine learning algorithm. Scaling is particularly important for algorithms that are sensitive to the scale of input features, such as those based on distance metrics (e.g., K-Nearest Neighbors) or optimization algorithms (e.g., Gradient Descent).\n",
    "\n"
   ]
  },
  {
   "cell_type": "code",
   "execution_count": 107,
   "id": "b4b62910",
   "metadata": {
    "scrolled": true
   },
   "outputs": [
    {
     "data": {
      "text/plain": [
       "AGE            -0.574233\n",
       "PREAUTH_AMT     2.826157\n",
       "CLAIM_AMOUNT    3.089832\n",
       "DAYS_STAYED     7.129508\n",
       "dtype: float64"
      ]
     },
     "execution_count": 107,
     "metadata": {},
     "output_type": "execute_result"
    }
   ],
   "source": [
    "df.skew()"
   ]
  },
  {
   "cell_type": "code",
   "execution_count": 108,
   "id": "af40ac97",
   "metadata": {},
   "outputs": [],
   "source": [
    "df_num=df.select_dtypes(include=np.number)"
   ]
  },
  {
   "cell_type": "code",
   "execution_count": 109,
   "id": "91919427",
   "metadata": {},
   "outputs": [
    {
     "data": {
      "text/html": [
       "<div>\n",
       "<style scoped>\n",
       "    .dataframe tbody tr th:only-of-type {\n",
       "        vertical-align: middle;\n",
       "    }\n",
       "\n",
       "    .dataframe tbody tr th {\n",
       "        vertical-align: top;\n",
       "    }\n",
       "\n",
       "    .dataframe thead th {\n",
       "        text-align: right;\n",
       "    }\n",
       "</style>\n",
       "<table border=\"1\" class=\"dataframe\">\n",
       "  <thead>\n",
       "    <tr style=\"text-align: right;\">\n",
       "      <th></th>\n",
       "      <th>AGE</th>\n",
       "      <th>PREAUTH_AMT</th>\n",
       "      <th>CLAIM_AMOUNT</th>\n",
       "      <th>DAYS_STAYED</th>\n",
       "    </tr>\n",
       "  </thead>\n",
       "  <tbody>\n",
       "    <tr>\n",
       "      <th>0</th>\n",
       "      <td>56</td>\n",
       "      <td>12500</td>\n",
       "      <td>11000</td>\n",
       "      <td>35.0</td>\n",
       "    </tr>\n",
       "    <tr>\n",
       "      <th>1</th>\n",
       "      <td>37</td>\n",
       "      <td>12500</td>\n",
       "      <td>11000</td>\n",
       "      <td>34.0</td>\n",
       "    </tr>\n",
       "    <tr>\n",
       "      <th>2</th>\n",
       "      <td>50</td>\n",
       "      <td>12500</td>\n",
       "      <td>11500</td>\n",
       "      <td>70.0</td>\n",
       "    </tr>\n",
       "    <tr>\n",
       "      <th>3</th>\n",
       "      <td>45</td>\n",
       "      <td>12500</td>\n",
       "      <td>11000</td>\n",
       "      <td>34.0</td>\n",
       "    </tr>\n",
       "    <tr>\n",
       "      <th>4</th>\n",
       "      <td>54</td>\n",
       "      <td>12500</td>\n",
       "      <td>11000</td>\n",
       "      <td>35.0</td>\n",
       "    </tr>\n",
       "  </tbody>\n",
       "</table>\n",
       "</div>"
      ],
      "text/plain": [
       "   AGE  PREAUTH_AMT  CLAIM_AMOUNT  DAYS_STAYED\n",
       "0   56        12500         11000         35.0\n",
       "1   37        12500         11000         34.0\n",
       "2   50        12500         11500         70.0\n",
       "3   45        12500         11000         34.0\n",
       "4   54        12500         11000         35.0"
      ]
     },
     "execution_count": 109,
     "metadata": {},
     "output_type": "execute_result"
    }
   ],
   "source": [
    "df_num.head()"
   ]
  },
  {
   "cell_type": "markdown",
   "id": "7fab22af",
   "metadata": {},
   "source": [
    "- AGE: This variable represents age and is typically on a smaller scale.\n",
    "- PREAUTH_AMT: This variable represents a monetary amount, and the scale depends on the currency. It could range from small   values to potentially large values.\n",
    "\n",
    "- CLAIM_AMOUNT: Similar to PREAUTH_AMT, this variable represents a monetary amount and might have a similar scale.\n",
    "\n",
    "- DAYS_STAYED: This variable represents the number of days, which is typically on a smaller scale."
   ]
  },
  {
   "cell_type": "code",
   "execution_count": 110,
   "id": "35604aa1",
   "metadata": {},
   "outputs": [],
   "source": [
    "from sklearn.preprocessing import MinMaxScaler"
   ]
  },
  {
   "cell_type": "code",
   "execution_count": 111,
   "id": "564c3064",
   "metadata": {},
   "outputs": [
    {
     "data": {
      "text/html": [
       "<div>\n",
       "<style scoped>\n",
       "    .dataframe tbody tr th:only-of-type {\n",
       "        vertical-align: middle;\n",
       "    }\n",
       "\n",
       "    .dataframe tbody tr th {\n",
       "        vertical-align: top;\n",
       "    }\n",
       "\n",
       "    .dataframe thead th {\n",
       "        text-align: right;\n",
       "    }\n",
       "</style>\n",
       "<table border=\"1\" class=\"dataframe\">\n",
       "  <thead>\n",
       "    <tr style=\"text-align: right;\">\n",
       "      <th></th>\n",
       "      <th>AGE</th>\n",
       "      <th>PREAUTH_AMT</th>\n",
       "      <th>CLAIM_AMOUNT</th>\n",
       "      <th>DAYS_STAYED</th>\n",
       "    </tr>\n",
       "  </thead>\n",
       "  <tbody>\n",
       "    <tr>\n",
       "      <th>0</th>\n",
       "      <td>0.523364</td>\n",
       "      <td>0.024029</td>\n",
       "      <td>0.021150</td>\n",
       "      <td>0.109643</td>\n",
       "    </tr>\n",
       "    <tr>\n",
       "      <th>1</th>\n",
       "      <td>0.345794</td>\n",
       "      <td>0.024029</td>\n",
       "      <td>0.021150</td>\n",
       "      <td>0.108322</td>\n",
       "    </tr>\n",
       "    <tr>\n",
       "      <th>2</th>\n",
       "      <td>0.467290</td>\n",
       "      <td>0.024029</td>\n",
       "      <td>0.022112</td>\n",
       "      <td>0.155878</td>\n",
       "    </tr>\n",
       "    <tr>\n",
       "      <th>3</th>\n",
       "      <td>0.420561</td>\n",
       "      <td>0.024029</td>\n",
       "      <td>0.021150</td>\n",
       "      <td>0.108322</td>\n",
       "    </tr>\n",
       "    <tr>\n",
       "      <th>4</th>\n",
       "      <td>0.504673</td>\n",
       "      <td>0.024029</td>\n",
       "      <td>0.021150</td>\n",
       "      <td>0.109643</td>\n",
       "    </tr>\n",
       "  </tbody>\n",
       "</table>\n",
       "</div>"
      ],
      "text/plain": [
       "        AGE  PREAUTH_AMT  CLAIM_AMOUNT  DAYS_STAYED\n",
       "0  0.523364     0.024029      0.021150     0.109643\n",
       "1  0.345794     0.024029      0.021150     0.108322\n",
       "2  0.467290     0.024029      0.022112     0.155878\n",
       "3  0.420561     0.024029      0.021150     0.108322\n",
       "4  0.504673     0.024029      0.021150     0.109643"
      ]
     },
     "execution_count": 111,
     "metadata": {},
     "output_type": "execute_result"
    }
   ],
   "source": [
    "mm=MinMaxScaler()\n",
    "scaler=mm.fit_transform(df_num)\n",
    "df_scaled=pd.DataFrame(scaler,columns=df_num.columns)\n",
    "df_scaled.head()"
   ]
  },
  {
   "cell_type": "markdown",
   "id": "934bda95",
   "metadata": {},
   "source": [
    "- Min-Max scaling is just one of several scaling methods, and the choice of scaler depends on the characteristics of data and the requirements of machine learning model."
   ]
  },
  {
   "cell_type": "code",
   "execution_count": null,
   "id": "00a949c2",
   "metadata": {},
   "outputs": [],
   "source": []
  },
  {
   "cell_type": "code",
   "execution_count": null,
   "id": "126c2496",
   "metadata": {},
   "outputs": [],
   "source": []
  },
  {
   "cell_type": "markdown",
   "id": "0f1f5009",
   "metadata": {},
   "source": [
    "## Encoding"
   ]
  },
  {
   "cell_type": "markdown",
   "id": "d203accb",
   "metadata": {},
   "source": [
    "Encoding is a process in data preprocessing that involves converting categorical data into a numerical format, which can be more easily understood and utilized by machine learning algorithms.\n",
    "- Why Encoding is neccessary : \n",
    "\n",
    "1. Algorithm Compatibility:\n",
    "Many machine learning algorithms, especially those based on mathematical equations, require numerical input. Encoding categorical data allows these algorithms to process and learn from the data.\n",
    "\n",
    "2. Feature Representation:\n",
    "Encoding helps represent categorical features as numerical vectors, making it easier to incorporate them into the feature space for analysis.\n",
    "\n",
    "3. Model Interpretability:\n",
    "Some models, such as linear regression or support vector machines, rely on numerical representations of features. Encoding ensures that the model can interpret and learn from the data.\n",
    "\n",
    "4. Handling Ordinal Data:\n",
    "Ordinal data needs to be encoded in a way that preserves the order or ranking of categories. This is important for models to understand and utilize the inherent hierarchy in the data.\n",
    "\n",
    "5. Improved Performance:\n",
    "Properly encoded data can lead to improved model performance. It allows the model to capture patterns and relationships within the categorical features, contributing to better predictions."
   ]
  },
  {
   "cell_type": "code",
   "execution_count": 112,
   "id": "18924a1d",
   "metadata": {},
   "outputs": [],
   "source": [
    "import category_encoders as ce"
   ]
  },
  {
   "cell_type": "code",
   "execution_count": 113,
   "id": "6f6218ed",
   "metadata": {},
   "outputs": [
    {
     "data": {
      "text/html": [
       "<div>\n",
       "<style scoped>\n",
       "    .dataframe tbody tr th:only-of-type {\n",
       "        vertical-align: middle;\n",
       "    }\n",
       "\n",
       "    .dataframe tbody tr th {\n",
       "        vertical-align: top;\n",
       "    }\n",
       "\n",
       "    .dataframe thead th {\n",
       "        text-align: right;\n",
       "    }\n",
       "</style>\n",
       "<table border=\"1\" class=\"dataframe\">\n",
       "  <thead>\n",
       "    <tr style=\"text-align: right;\">\n",
       "      <th></th>\n",
       "      <th>SEX</th>\n",
       "      <th>CASTE_NAME</th>\n",
       "      <th>CATEGORY_NAME</th>\n",
       "      <th>DISTRICT_NAME</th>\n",
       "      <th>HOSP_NAME</th>\n",
       "      <th>HOSP_TYPE</th>\n",
       "      <th>HOSP_DISTRICT</th>\n",
       "      <th>Mortality Y / N</th>\n",
       "      <th>SRC_REGISTRATION</th>\n",
       "    </tr>\n",
       "  </thead>\n",
       "  <tbody>\n",
       "    <tr>\n",
       "      <th>0</th>\n",
       "      <td>FEMALE</td>\n",
       "      <td>BC</td>\n",
       "      <td>NEPHROLOGY</td>\n",
       "      <td>Srikakulam</td>\n",
       "      <td>Rims Govt. General Hospital, Srikakulam</td>\n",
       "      <td>G</td>\n",
       "      <td>Srikakulam</td>\n",
       "      <td>NO</td>\n",
       "      <td>D</td>\n",
       "    </tr>\n",
       "    <tr>\n",
       "      <th>1</th>\n",
       "      <td>MALE</td>\n",
       "      <td>BC</td>\n",
       "      <td>NEPHROLOGY</td>\n",
       "      <td>Srikakulam</td>\n",
       "      <td>Rims Govt. General Hospital, Srikakulam</td>\n",
       "      <td>G</td>\n",
       "      <td>Srikakulam</td>\n",
       "      <td>NO</td>\n",
       "      <td>D</td>\n",
       "    </tr>\n",
       "    <tr>\n",
       "      <th>2</th>\n",
       "      <td>MALE</td>\n",
       "      <td>BC</td>\n",
       "      <td>NEPHROLOGY</td>\n",
       "      <td>Srikakulam</td>\n",
       "      <td>Rims Govt. General Hospital, Srikakulam</td>\n",
       "      <td>G</td>\n",
       "      <td>Srikakulam</td>\n",
       "      <td>NO</td>\n",
       "      <td>D</td>\n",
       "    </tr>\n",
       "    <tr>\n",
       "      <th>3</th>\n",
       "      <td>MALE</td>\n",
       "      <td>BC</td>\n",
       "      <td>NEPHROLOGY</td>\n",
       "      <td>Srikakulam</td>\n",
       "      <td>Rims Govt. General Hospital, Srikakulam</td>\n",
       "      <td>G</td>\n",
       "      <td>Srikakulam</td>\n",
       "      <td>NO</td>\n",
       "      <td>D</td>\n",
       "    </tr>\n",
       "    <tr>\n",
       "      <th>4</th>\n",
       "      <td>MALE</td>\n",
       "      <td>BC</td>\n",
       "      <td>NEPHROLOGY</td>\n",
       "      <td>Srikakulam</td>\n",
       "      <td>Rims Govt. General Hospital, Srikakulam</td>\n",
       "      <td>G</td>\n",
       "      <td>Srikakulam</td>\n",
       "      <td>NO</td>\n",
       "      <td>D</td>\n",
       "    </tr>\n",
       "  </tbody>\n",
       "</table>\n",
       "</div>"
      ],
      "text/plain": [
       "      SEX CASTE_NAME CATEGORY_NAME DISTRICT_NAME  \\\n",
       "0  FEMALE         BC    NEPHROLOGY    Srikakulam   \n",
       "1    MALE         BC    NEPHROLOGY    Srikakulam   \n",
       "2    MALE         BC    NEPHROLOGY    Srikakulam   \n",
       "3    MALE         BC    NEPHROLOGY    Srikakulam   \n",
       "4    MALE         BC    NEPHROLOGY    Srikakulam   \n",
       "\n",
       "                                 HOSP_NAME HOSP_TYPE HOSP_DISTRICT  \\\n",
       "0  Rims Govt. General Hospital, Srikakulam         G    Srikakulam   \n",
       "1  Rims Govt. General Hospital, Srikakulam         G    Srikakulam   \n",
       "2  Rims Govt. General Hospital, Srikakulam         G    Srikakulam   \n",
       "3  Rims Govt. General Hospital, Srikakulam         G    Srikakulam   \n",
       "4  Rims Govt. General Hospital, Srikakulam         G    Srikakulam   \n",
       "\n",
       "  Mortality Y / N SRC_REGISTRATION  \n",
       "0              NO                D  \n",
       "1              NO                D  \n",
       "2              NO                D  \n",
       "3              NO                D  \n",
       "4              NO                D  "
      ]
     },
     "execution_count": 113,
     "metadata": {},
     "output_type": "execute_result"
    }
   ],
   "source": [
    "cat_col=df.select_dtypes(include=object)\n",
    "cat_col.head()"
   ]
  },
  {
   "cell_type": "code",
   "execution_count": 114,
   "id": "c3c9ccfa",
   "metadata": {},
   "outputs": [],
   "source": [
    "df_target=np.log(df['CLAIM_AMOUNT'])"
   ]
  },
  {
   "cell_type": "code",
   "execution_count": 115,
   "id": "93575054",
   "metadata": {},
   "outputs": [],
   "source": [
    "def cat_boost(cat_input,target):\n",
    "    catboost=ce.cat_boost.CatBoostEncoder()\n",
    "    catboost.fit(cat_input,target)\n",
    "    df_encode=round(catboost.transform(cat_input),2)\n",
    "    \n",
    "    return df_encode"
   ]
  },
  {
   "cell_type": "code",
   "execution_count": 116,
   "id": "a84f5764",
   "metadata": {},
   "outputs": [
    {
     "data": {
      "text/html": [
       "<div>\n",
       "<style scoped>\n",
       "    .dataframe tbody tr th:only-of-type {\n",
       "        vertical-align: middle;\n",
       "    }\n",
       "\n",
       "    .dataframe tbody tr th {\n",
       "        vertical-align: top;\n",
       "    }\n",
       "\n",
       "    .dataframe thead th {\n",
       "        text-align: right;\n",
       "    }\n",
       "</style>\n",
       "<table border=\"1\" class=\"dataframe\">\n",
       "  <thead>\n",
       "    <tr style=\"text-align: right;\">\n",
       "      <th></th>\n",
       "      <th>SEX</th>\n",
       "      <th>CASTE_NAME</th>\n",
       "      <th>CATEGORY_NAME</th>\n",
       "      <th>DISTRICT_NAME</th>\n",
       "      <th>HOSP_NAME</th>\n",
       "      <th>HOSP_TYPE</th>\n",
       "      <th>HOSP_DISTRICT</th>\n",
       "      <th>Mortality Y / N</th>\n",
       "      <th>SRC_REGISTRATION</th>\n",
       "    </tr>\n",
       "  </thead>\n",
       "  <tbody>\n",
       "    <tr>\n",
       "      <th>0</th>\n",
       "      <td>9.67</td>\n",
       "      <td>9.83</td>\n",
       "      <td>9.44</td>\n",
       "      <td>9.83</td>\n",
       "      <td>9.6</td>\n",
       "      <td>9.69</td>\n",
       "      <td>9.95</td>\n",
       "      <td>9.85</td>\n",
       "      <td>9.85</td>\n",
       "    </tr>\n",
       "    <tr>\n",
       "      <th>1</th>\n",
       "      <td>9.97</td>\n",
       "      <td>9.83</td>\n",
       "      <td>9.44</td>\n",
       "      <td>9.83</td>\n",
       "      <td>9.6</td>\n",
       "      <td>9.69</td>\n",
       "      <td>9.95</td>\n",
       "      <td>9.85</td>\n",
       "      <td>9.85</td>\n",
       "    </tr>\n",
       "    <tr>\n",
       "      <th>2</th>\n",
       "      <td>9.97</td>\n",
       "      <td>9.83</td>\n",
       "      <td>9.44</td>\n",
       "      <td>9.83</td>\n",
       "      <td>9.6</td>\n",
       "      <td>9.69</td>\n",
       "      <td>9.95</td>\n",
       "      <td>9.85</td>\n",
       "      <td>9.85</td>\n",
       "    </tr>\n",
       "    <tr>\n",
       "      <th>3</th>\n",
       "      <td>9.97</td>\n",
       "      <td>9.83</td>\n",
       "      <td>9.44</td>\n",
       "      <td>9.83</td>\n",
       "      <td>9.6</td>\n",
       "      <td>9.69</td>\n",
       "      <td>9.95</td>\n",
       "      <td>9.85</td>\n",
       "      <td>9.85</td>\n",
       "    </tr>\n",
       "    <tr>\n",
       "      <th>4</th>\n",
       "      <td>9.97</td>\n",
       "      <td>9.83</td>\n",
       "      <td>9.44</td>\n",
       "      <td>9.83</td>\n",
       "      <td>9.6</td>\n",
       "      <td>9.69</td>\n",
       "      <td>9.95</td>\n",
       "      <td>9.85</td>\n",
       "      <td>9.85</td>\n",
       "    </tr>\n",
       "  </tbody>\n",
       "</table>\n",
       "</div>"
      ],
      "text/plain": [
       "    SEX  CASTE_NAME  CATEGORY_NAME  DISTRICT_NAME  HOSP_NAME  HOSP_TYPE  \\\n",
       "0  9.67        9.83           9.44           9.83        9.6       9.69   \n",
       "1  9.97        9.83           9.44           9.83        9.6       9.69   \n",
       "2  9.97        9.83           9.44           9.83        9.6       9.69   \n",
       "3  9.97        9.83           9.44           9.83        9.6       9.69   \n",
       "4  9.97        9.83           9.44           9.83        9.6       9.69   \n",
       "\n",
       "   HOSP_DISTRICT  Mortality Y / N  SRC_REGISTRATION  \n",
       "0           9.95             9.85              9.85  \n",
       "1           9.95             9.85              9.85  \n",
       "2           9.95             9.85              9.85  \n",
       "3           9.95             9.85              9.85  \n",
       "4           9.95             9.85              9.85  "
      ]
     },
     "execution_count": 116,
     "metadata": {},
     "output_type": "execute_result"
    }
   ],
   "source": [
    "df_cat_en=cat_boost(cat_col,df_target)\n",
    "df_cat_en.head()"
   ]
  },
  {
   "cell_type": "code",
   "execution_count": 117,
   "id": "914db94e",
   "metadata": {},
   "outputs": [
    {
     "data": {
      "text/html": [
       "<div>\n",
       "<style scoped>\n",
       "    .dataframe tbody tr th:only-of-type {\n",
       "        vertical-align: middle;\n",
       "    }\n",
       "\n",
       "    .dataframe tbody tr th {\n",
       "        vertical-align: top;\n",
       "    }\n",
       "\n",
       "    .dataframe thead th {\n",
       "        text-align: right;\n",
       "    }\n",
       "</style>\n",
       "<table border=\"1\" class=\"dataframe\">\n",
       "  <thead>\n",
       "    <tr style=\"text-align: right;\">\n",
       "      <th></th>\n",
       "      <th>AGE</th>\n",
       "      <th>PREAUTH_DATE</th>\n",
       "      <th>PREAUTH_AMT</th>\n",
       "      <th>CLAIM_DATE</th>\n",
       "      <th>CLAIM_AMOUNT</th>\n",
       "      <th>DISCHARGE_DATE</th>\n",
       "      <th>DAYS_STAYED</th>\n",
       "    </tr>\n",
       "  </thead>\n",
       "  <tbody>\n",
       "    <tr>\n",
       "      <th>0</th>\n",
       "      <td>56</td>\n",
       "      <td>2013-08-03</td>\n",
       "      <td>12500</td>\n",
       "      <td>2013-08-03</td>\n",
       "      <td>11000</td>\n",
       "      <td>2013-09-07</td>\n",
       "      <td>35.0</td>\n",
       "    </tr>\n",
       "    <tr>\n",
       "      <th>1</th>\n",
       "      <td>37</td>\n",
       "      <td>2013-08-06</td>\n",
       "      <td>12500</td>\n",
       "      <td>2013-08-06</td>\n",
       "      <td>11000</td>\n",
       "      <td>2013-09-09</td>\n",
       "      <td>34.0</td>\n",
       "    </tr>\n",
       "    <tr>\n",
       "      <th>2</th>\n",
       "      <td>50</td>\n",
       "      <td>2013-08-09</td>\n",
       "      <td>12500</td>\n",
       "      <td>2013-08-09</td>\n",
       "      <td>11500</td>\n",
       "      <td>2013-10-18</td>\n",
       "      <td>70.0</td>\n",
       "    </tr>\n",
       "    <tr>\n",
       "      <th>3</th>\n",
       "      <td>45</td>\n",
       "      <td>2013-08-24</td>\n",
       "      <td>12500</td>\n",
       "      <td>2013-08-24</td>\n",
       "      <td>11000</td>\n",
       "      <td>2013-09-27</td>\n",
       "      <td>34.0</td>\n",
       "    </tr>\n",
       "    <tr>\n",
       "      <th>4</th>\n",
       "      <td>54</td>\n",
       "      <td>2013-08-28</td>\n",
       "      <td>12500</td>\n",
       "      <td>2013-08-28</td>\n",
       "      <td>11000</td>\n",
       "      <td>2013-10-02</td>\n",
       "      <td>35.0</td>\n",
       "    </tr>\n",
       "  </tbody>\n",
       "</table>\n",
       "</div>"
      ],
      "text/plain": [
       "   AGE PREAUTH_DATE  PREAUTH_AMT CLAIM_DATE  CLAIM_AMOUNT DISCHARGE_DATE  \\\n",
       "0   56   2013-08-03        12500 2013-08-03         11000     2013-09-07   \n",
       "1   37   2013-08-06        12500 2013-08-06         11000     2013-09-09   \n",
       "2   50   2013-08-09        12500 2013-08-09         11500     2013-10-18   \n",
       "3   45   2013-08-24        12500 2013-08-24         11000     2013-09-27   \n",
       "4   54   2013-08-28        12500 2013-08-28         11000     2013-10-02   \n",
       "\n",
       "   DAYS_STAYED  \n",
       "0         35.0  \n",
       "1         34.0  \n",
       "2         70.0  \n",
       "3         34.0  \n",
       "4         35.0  "
      ]
     },
     "execution_count": 117,
     "metadata": {},
     "output_type": "execute_result"
    }
   ],
   "source": [
    "df_num=df.select_dtypes(exclude=object)\n",
    "df_num.head()"
   ]
  },
  {
   "cell_type": "code",
   "execution_count": 118,
   "id": "de8f6a3b",
   "metadata": {},
   "outputs": [
    {
     "data": {
      "text/html": [
       "<div>\n",
       "<style scoped>\n",
       "    .dataframe tbody tr th:only-of-type {\n",
       "        vertical-align: middle;\n",
       "    }\n",
       "\n",
       "    .dataframe tbody tr th {\n",
       "        vertical-align: top;\n",
       "    }\n",
       "\n",
       "    .dataframe thead th {\n",
       "        text-align: right;\n",
       "    }\n",
       "</style>\n",
       "<table border=\"1\" class=\"dataframe\">\n",
       "  <thead>\n",
       "    <tr style=\"text-align: right;\">\n",
       "      <th></th>\n",
       "      <th>AGE</th>\n",
       "      <th>PREAUTH_AMT</th>\n",
       "      <th>CLAIM_AMOUNT</th>\n",
       "      <th>DAYS_STAYED</th>\n",
       "      <th>SEX</th>\n",
       "      <th>CASTE_NAME</th>\n",
       "      <th>CATEGORY_NAME</th>\n",
       "      <th>DISTRICT_NAME</th>\n",
       "      <th>HOSP_NAME</th>\n",
       "      <th>HOSP_TYPE</th>\n",
       "      <th>HOSP_DISTRICT</th>\n",
       "      <th>Mortality Y / N</th>\n",
       "      <th>SRC_REGISTRATION</th>\n",
       "    </tr>\n",
       "  </thead>\n",
       "  <tbody>\n",
       "    <tr>\n",
       "      <th>0</th>\n",
       "      <td>0.523364</td>\n",
       "      <td>0.024029</td>\n",
       "      <td>0.021150</td>\n",
       "      <td>0.109643</td>\n",
       "      <td>9.67</td>\n",
       "      <td>9.83</td>\n",
       "      <td>9.44</td>\n",
       "      <td>9.83</td>\n",
       "      <td>9.6</td>\n",
       "      <td>9.69</td>\n",
       "      <td>9.95</td>\n",
       "      <td>9.85</td>\n",
       "      <td>9.85</td>\n",
       "    </tr>\n",
       "    <tr>\n",
       "      <th>1</th>\n",
       "      <td>0.345794</td>\n",
       "      <td>0.024029</td>\n",
       "      <td>0.021150</td>\n",
       "      <td>0.108322</td>\n",
       "      <td>9.97</td>\n",
       "      <td>9.83</td>\n",
       "      <td>9.44</td>\n",
       "      <td>9.83</td>\n",
       "      <td>9.6</td>\n",
       "      <td>9.69</td>\n",
       "      <td>9.95</td>\n",
       "      <td>9.85</td>\n",
       "      <td>9.85</td>\n",
       "    </tr>\n",
       "    <tr>\n",
       "      <th>2</th>\n",
       "      <td>0.467290</td>\n",
       "      <td>0.024029</td>\n",
       "      <td>0.022112</td>\n",
       "      <td>0.155878</td>\n",
       "      <td>9.97</td>\n",
       "      <td>9.83</td>\n",
       "      <td>9.44</td>\n",
       "      <td>9.83</td>\n",
       "      <td>9.6</td>\n",
       "      <td>9.69</td>\n",
       "      <td>9.95</td>\n",
       "      <td>9.85</td>\n",
       "      <td>9.85</td>\n",
       "    </tr>\n",
       "    <tr>\n",
       "      <th>3</th>\n",
       "      <td>0.420561</td>\n",
       "      <td>0.024029</td>\n",
       "      <td>0.021150</td>\n",
       "      <td>0.108322</td>\n",
       "      <td>9.97</td>\n",
       "      <td>9.83</td>\n",
       "      <td>9.44</td>\n",
       "      <td>9.83</td>\n",
       "      <td>9.6</td>\n",
       "      <td>9.69</td>\n",
       "      <td>9.95</td>\n",
       "      <td>9.85</td>\n",
       "      <td>9.85</td>\n",
       "    </tr>\n",
       "    <tr>\n",
       "      <th>4</th>\n",
       "      <td>0.504673</td>\n",
       "      <td>0.024029</td>\n",
       "      <td>0.021150</td>\n",
       "      <td>0.109643</td>\n",
       "      <td>9.97</td>\n",
       "      <td>9.83</td>\n",
       "      <td>9.44</td>\n",
       "      <td>9.83</td>\n",
       "      <td>9.6</td>\n",
       "      <td>9.69</td>\n",
       "      <td>9.95</td>\n",
       "      <td>9.85</td>\n",
       "      <td>9.85</td>\n",
       "    </tr>\n",
       "  </tbody>\n",
       "</table>\n",
       "</div>"
      ],
      "text/plain": [
       "        AGE  PREAUTH_AMT  CLAIM_AMOUNT  DAYS_STAYED   SEX  CASTE_NAME  \\\n",
       "0  0.523364     0.024029      0.021150     0.109643  9.67        9.83   \n",
       "1  0.345794     0.024029      0.021150     0.108322  9.97        9.83   \n",
       "2  0.467290     0.024029      0.022112     0.155878  9.97        9.83   \n",
       "3  0.420561     0.024029      0.021150     0.108322  9.97        9.83   \n",
       "4  0.504673     0.024029      0.021150     0.109643  9.97        9.83   \n",
       "\n",
       "   CATEGORY_NAME  DISTRICT_NAME  HOSP_NAME  HOSP_TYPE  HOSP_DISTRICT  \\\n",
       "0           9.44           9.83        9.6       9.69           9.95   \n",
       "1           9.44           9.83        9.6       9.69           9.95   \n",
       "2           9.44           9.83        9.6       9.69           9.95   \n",
       "3           9.44           9.83        9.6       9.69           9.95   \n",
       "4           9.44           9.83        9.6       9.69           9.95   \n",
       "\n",
       "   Mortality Y / N  SRC_REGISTRATION  \n",
       "0             9.85              9.85  \n",
       "1             9.85              9.85  \n",
       "2             9.85              9.85  \n",
       "3             9.85              9.85  \n",
       "4             9.85              9.85  "
      ]
     },
     "execution_count": 118,
     "metadata": {},
     "output_type": "execute_result"
    }
   ],
   "source": [
    "# Concat two dataframes\n",
    "df_insurance=pd.concat([df_scaled,df_cat_en],axis=1)\n",
    "df_insurance.head()"
   ]
  },
  {
   "cell_type": "code",
   "execution_count": 119,
   "id": "1b043f70",
   "metadata": {},
   "outputs": [
    {
     "data": {
      "text/plain": [
       "(479688, 13)"
      ]
     },
     "execution_count": 119,
     "metadata": {},
     "output_type": "execute_result"
    }
   ],
   "source": [
    "# Check shape of new dataframe\n",
    "df_insurance.shape"
   ]
  },
  {
   "cell_type": "code",
   "execution_count": 120,
   "id": "85cd69b1",
   "metadata": {},
   "outputs": [],
   "source": [
    "# Select datetime64 type columns \n",
    "df_dt=df.select_dtypes(include=['datetime64'])"
   ]
  },
  {
   "cell_type": "code",
   "execution_count": 121,
   "id": "96f4014f",
   "metadata": {},
   "outputs": [
    {
     "data": {
      "text/html": [
       "<div>\n",
       "<style scoped>\n",
       "    .dataframe tbody tr th:only-of-type {\n",
       "        vertical-align: middle;\n",
       "    }\n",
       "\n",
       "    .dataframe tbody tr th {\n",
       "        vertical-align: top;\n",
       "    }\n",
       "\n",
       "    .dataframe thead th {\n",
       "        text-align: right;\n",
       "    }\n",
       "</style>\n",
       "<table border=\"1\" class=\"dataframe\">\n",
       "  <thead>\n",
       "    <tr style=\"text-align: right;\">\n",
       "      <th></th>\n",
       "      <th>PREAUTH_DATE</th>\n",
       "      <th>CLAIM_DATE</th>\n",
       "      <th>DISCHARGE_DATE</th>\n",
       "    </tr>\n",
       "  </thead>\n",
       "  <tbody>\n",
       "    <tr>\n",
       "      <th>0</th>\n",
       "      <td>2013-08-03</td>\n",
       "      <td>2013-08-03</td>\n",
       "      <td>2013-09-07</td>\n",
       "    </tr>\n",
       "    <tr>\n",
       "      <th>1</th>\n",
       "      <td>2013-08-06</td>\n",
       "      <td>2013-08-06</td>\n",
       "      <td>2013-09-09</td>\n",
       "    </tr>\n",
       "    <tr>\n",
       "      <th>2</th>\n",
       "      <td>2013-08-09</td>\n",
       "      <td>2013-08-09</td>\n",
       "      <td>2013-10-18</td>\n",
       "    </tr>\n",
       "    <tr>\n",
       "      <th>3</th>\n",
       "      <td>2013-08-24</td>\n",
       "      <td>2013-08-24</td>\n",
       "      <td>2013-09-27</td>\n",
       "    </tr>\n",
       "    <tr>\n",
       "      <th>4</th>\n",
       "      <td>2013-08-28</td>\n",
       "      <td>2013-08-28</td>\n",
       "      <td>2013-10-02</td>\n",
       "    </tr>\n",
       "  </tbody>\n",
       "</table>\n",
       "</div>"
      ],
      "text/plain": [
       "  PREAUTH_DATE CLAIM_DATE DISCHARGE_DATE\n",
       "0   2013-08-03 2013-08-03     2013-09-07\n",
       "1   2013-08-06 2013-08-06     2013-09-09\n",
       "2   2013-08-09 2013-08-09     2013-10-18\n",
       "3   2013-08-24 2013-08-24     2013-09-27\n",
       "4   2013-08-28 2013-08-28     2013-10-02"
      ]
     },
     "execution_count": 121,
     "metadata": {},
     "output_type": "execute_result"
    }
   ],
   "source": [
    "# Display first 5 observations\n",
    "df_dt.head()"
   ]
  },
  {
   "cell_type": "code",
   "execution_count": 122,
   "id": "786379fa",
   "metadata": {},
   "outputs": [
    {
     "data": {
      "text/html": [
       "<div>\n",
       "<style scoped>\n",
       "    .dataframe tbody tr th:only-of-type {\n",
       "        vertical-align: middle;\n",
       "    }\n",
       "\n",
       "    .dataframe tbody tr th {\n",
       "        vertical-align: top;\n",
       "    }\n",
       "\n",
       "    .dataframe thead th {\n",
       "        text-align: right;\n",
       "    }\n",
       "</style>\n",
       "<table border=\"1\" class=\"dataframe\">\n",
       "  <thead>\n",
       "    <tr style=\"text-align: right;\">\n",
       "      <th></th>\n",
       "      <th>AGE</th>\n",
       "      <th>PREAUTH_AMT</th>\n",
       "      <th>CLAIM_AMOUNT</th>\n",
       "      <th>DAYS_STAYED</th>\n",
       "      <th>SEX</th>\n",
       "      <th>CASTE_NAME</th>\n",
       "      <th>CATEGORY_NAME</th>\n",
       "      <th>DISTRICT_NAME</th>\n",
       "      <th>HOSP_NAME</th>\n",
       "      <th>HOSP_TYPE</th>\n",
       "      <th>HOSP_DISTRICT</th>\n",
       "      <th>Mortality Y / N</th>\n",
       "      <th>SRC_REGISTRATION</th>\n",
       "      <th>PREAUTH_DATE</th>\n",
       "      <th>CLAIM_DATE</th>\n",
       "      <th>DISCHARGE_DATE</th>\n",
       "    </tr>\n",
       "  </thead>\n",
       "  <tbody>\n",
       "    <tr>\n",
       "      <th>0</th>\n",
       "      <td>0.523364</td>\n",
       "      <td>0.024029</td>\n",
       "      <td>0.021150</td>\n",
       "      <td>0.109643</td>\n",
       "      <td>9.67</td>\n",
       "      <td>9.83</td>\n",
       "      <td>9.44</td>\n",
       "      <td>9.83</td>\n",
       "      <td>9.6</td>\n",
       "      <td>9.69</td>\n",
       "      <td>9.95</td>\n",
       "      <td>9.85</td>\n",
       "      <td>9.85</td>\n",
       "      <td>2013-08-03</td>\n",
       "      <td>2013-08-03</td>\n",
       "      <td>2013-09-07</td>\n",
       "    </tr>\n",
       "    <tr>\n",
       "      <th>1</th>\n",
       "      <td>0.345794</td>\n",
       "      <td>0.024029</td>\n",
       "      <td>0.021150</td>\n",
       "      <td>0.108322</td>\n",
       "      <td>9.97</td>\n",
       "      <td>9.83</td>\n",
       "      <td>9.44</td>\n",
       "      <td>9.83</td>\n",
       "      <td>9.6</td>\n",
       "      <td>9.69</td>\n",
       "      <td>9.95</td>\n",
       "      <td>9.85</td>\n",
       "      <td>9.85</td>\n",
       "      <td>2013-08-06</td>\n",
       "      <td>2013-08-06</td>\n",
       "      <td>2013-09-09</td>\n",
       "    </tr>\n",
       "    <tr>\n",
       "      <th>2</th>\n",
       "      <td>0.467290</td>\n",
       "      <td>0.024029</td>\n",
       "      <td>0.022112</td>\n",
       "      <td>0.155878</td>\n",
       "      <td>9.97</td>\n",
       "      <td>9.83</td>\n",
       "      <td>9.44</td>\n",
       "      <td>9.83</td>\n",
       "      <td>9.6</td>\n",
       "      <td>9.69</td>\n",
       "      <td>9.95</td>\n",
       "      <td>9.85</td>\n",
       "      <td>9.85</td>\n",
       "      <td>2013-08-09</td>\n",
       "      <td>2013-08-09</td>\n",
       "      <td>2013-10-18</td>\n",
       "    </tr>\n",
       "    <tr>\n",
       "      <th>3</th>\n",
       "      <td>0.420561</td>\n",
       "      <td>0.024029</td>\n",
       "      <td>0.021150</td>\n",
       "      <td>0.108322</td>\n",
       "      <td>9.97</td>\n",
       "      <td>9.83</td>\n",
       "      <td>9.44</td>\n",
       "      <td>9.83</td>\n",
       "      <td>9.6</td>\n",
       "      <td>9.69</td>\n",
       "      <td>9.95</td>\n",
       "      <td>9.85</td>\n",
       "      <td>9.85</td>\n",
       "      <td>2013-08-24</td>\n",
       "      <td>2013-08-24</td>\n",
       "      <td>2013-09-27</td>\n",
       "    </tr>\n",
       "    <tr>\n",
       "      <th>4</th>\n",
       "      <td>0.504673</td>\n",
       "      <td>0.024029</td>\n",
       "      <td>0.021150</td>\n",
       "      <td>0.109643</td>\n",
       "      <td>9.97</td>\n",
       "      <td>9.83</td>\n",
       "      <td>9.44</td>\n",
       "      <td>9.83</td>\n",
       "      <td>9.6</td>\n",
       "      <td>9.69</td>\n",
       "      <td>9.95</td>\n",
       "      <td>9.85</td>\n",
       "      <td>9.85</td>\n",
       "      <td>2013-08-28</td>\n",
       "      <td>2013-08-28</td>\n",
       "      <td>2013-10-02</td>\n",
       "    </tr>\n",
       "  </tbody>\n",
       "</table>\n",
       "</div>"
      ],
      "text/plain": [
       "        AGE  PREAUTH_AMT  CLAIM_AMOUNT  DAYS_STAYED   SEX  CASTE_NAME  \\\n",
       "0  0.523364     0.024029      0.021150     0.109643  9.67        9.83   \n",
       "1  0.345794     0.024029      0.021150     0.108322  9.97        9.83   \n",
       "2  0.467290     0.024029      0.022112     0.155878  9.97        9.83   \n",
       "3  0.420561     0.024029      0.021150     0.108322  9.97        9.83   \n",
       "4  0.504673     0.024029      0.021150     0.109643  9.97        9.83   \n",
       "\n",
       "   CATEGORY_NAME  DISTRICT_NAME  HOSP_NAME  HOSP_TYPE  HOSP_DISTRICT  \\\n",
       "0           9.44           9.83        9.6       9.69           9.95   \n",
       "1           9.44           9.83        9.6       9.69           9.95   \n",
       "2           9.44           9.83        9.6       9.69           9.95   \n",
       "3           9.44           9.83        9.6       9.69           9.95   \n",
       "4           9.44           9.83        9.6       9.69           9.95   \n",
       "\n",
       "   Mortality Y / N  SRC_REGISTRATION PREAUTH_DATE CLAIM_DATE DISCHARGE_DATE  \n",
       "0             9.85              9.85   2013-08-03 2013-08-03     2013-09-07  \n",
       "1             9.85              9.85   2013-08-06 2013-08-06     2013-09-09  \n",
       "2             9.85              9.85   2013-08-09 2013-08-09     2013-10-18  \n",
       "3             9.85              9.85   2013-08-24 2013-08-24     2013-09-27  \n",
       "4             9.85              9.85   2013-08-28 2013-08-28     2013-10-02  "
      ]
     },
     "execution_count": 122,
     "metadata": {},
     "output_type": "execute_result"
    }
   ],
   "source": [
    "# Concat two dataframes\n",
    "df_insurance=pd.concat([df_insurance,df_dt],axis=1)\n",
    "df_insurance.head()"
   ]
  },
  {
   "cell_type": "code",
   "execution_count": 123,
   "id": "c28060ec",
   "metadata": {},
   "outputs": [
    {
     "data": {
      "text/plain": [
       "(479688, 16)"
      ]
     },
     "execution_count": 123,
     "metadata": {},
     "output_type": "execute_result"
    }
   ],
   "source": [
    "# Check shape of dataframe\n",
    "df_insurance.shape"
   ]
  },
  {
   "cell_type": "code",
   "execution_count": 124,
   "id": "740b51fc",
   "metadata": {},
   "outputs": [
    {
     "data": {
      "text/plain": [
       "7.1295075833800485"
      ]
     },
     "execution_count": 124,
     "metadata": {},
     "output_type": "execute_result"
    }
   ],
   "source": [
    "# Check skewness of the \"DAYS_STAYED\" column\n",
    "df_insurance['DAYS_STAYED'].skew()"
   ]
  },
  {
   "cell_type": "markdown",
   "id": "47a97a2f",
   "metadata": {},
   "source": [
    "- The tail of the distribution is skewed to the right.\n",
    "- The majority of the data points are concentrated on the left side of the distribution, and there are few but extreme values on the right side.\n",
    "- The mean (average) is typically greater than the median, and the distribution has a long right tail."
   ]
  },
  {
   "cell_type": "markdown",
   "id": "6356288f",
   "metadata": {},
   "source": [
    "### Split the data into training and testing"
   ]
  },
  {
   "cell_type": "code",
   "execution_count": 125,
   "id": "0cef549e",
   "metadata": {},
   "outputs": [],
   "source": [
    "from sklearn.model_selection import train_test_split"
   ]
  },
  {
   "cell_type": "code",
   "execution_count": 126,
   "id": "a6eb94b6",
   "metadata": {
    "scrolled": true
   },
   "outputs": [],
   "source": [
    "x=df_insurance.drop(columns='CLAIM_AMOUNT')\n",
    "y=df_insurance['CLAIM_AMOUNT']\n",
    "xtrain,xtest,ytrain,ytest=train_test_split(x,y,test_size=0.3)"
   ]
  },
  {
   "cell_type": "code",
   "execution_count": 127,
   "id": "a3c9af3d",
   "metadata": {
    "scrolled": true
   },
   "outputs": [
    {
     "data": {
      "text/html": [
       "<div>\n",
       "<style scoped>\n",
       "    .dataframe tbody tr th:only-of-type {\n",
       "        vertical-align: middle;\n",
       "    }\n",
       "\n",
       "    .dataframe tbody tr th {\n",
       "        vertical-align: top;\n",
       "    }\n",
       "\n",
       "    .dataframe thead th {\n",
       "        text-align: right;\n",
       "    }\n",
       "</style>\n",
       "<table border=\"1\" class=\"dataframe\">\n",
       "  <thead>\n",
       "    <tr style=\"text-align: right;\">\n",
       "      <th></th>\n",
       "      <th>AGE</th>\n",
       "      <th>PREAUTH_AMT</th>\n",
       "      <th>DAYS_STAYED</th>\n",
       "      <th>SEX</th>\n",
       "      <th>CASTE_NAME</th>\n",
       "      <th>CATEGORY_NAME</th>\n",
       "      <th>DISTRICT_NAME</th>\n",
       "      <th>HOSP_NAME</th>\n",
       "      <th>HOSP_TYPE</th>\n",
       "      <th>HOSP_DISTRICT</th>\n",
       "      <th>Mortality Y / N</th>\n",
       "      <th>SRC_REGISTRATION</th>\n",
       "      <th>PREAUTH_DATE</th>\n",
       "      <th>CLAIM_DATE</th>\n",
       "      <th>DISCHARGE_DATE</th>\n",
       "    </tr>\n",
       "  </thead>\n",
       "  <tbody>\n",
       "    <tr>\n",
       "      <th>329948</th>\n",
       "      <td>0.383178</td>\n",
       "      <td>0.048068</td>\n",
       "      <td>0.064729</td>\n",
       "      <td>9.97</td>\n",
       "      <td>9.85</td>\n",
       "      <td>10.19</td>\n",
       "      <td>9.82</td>\n",
       "      <td>10.17</td>\n",
       "      <td>9.90</td>\n",
       "      <td>9.91</td>\n",
       "      <td>9.85</td>\n",
       "      <td>9.85</td>\n",
       "      <td>2017-06-01</td>\n",
       "      <td>2017-06-01</td>\n",
       "      <td>2017-06-02</td>\n",
       "    </tr>\n",
       "    <tr>\n",
       "      <th>271766</th>\n",
       "      <td>0.299065</td>\n",
       "      <td>0.013452</td>\n",
       "      <td>0.067371</td>\n",
       "      <td>9.67</td>\n",
       "      <td>9.91</td>\n",
       "      <td>8.48</td>\n",
       "      <td>9.93</td>\n",
       "      <td>8.99</td>\n",
       "      <td>9.69</td>\n",
       "      <td>9.69</td>\n",
       "      <td>9.85</td>\n",
       "      <td>9.85</td>\n",
       "      <td>2017-04-15</td>\n",
       "      <td>2017-04-15</td>\n",
       "      <td>2017-04-18</td>\n",
       "    </tr>\n",
       "    <tr>\n",
       "      <th>299978</th>\n",
       "      <td>0.373832</td>\n",
       "      <td>0.007052</td>\n",
       "      <td>0.075297</td>\n",
       "      <td>9.67</td>\n",
       "      <td>9.86</td>\n",
       "      <td>8.48</td>\n",
       "      <td>9.75</td>\n",
       "      <td>9.23</td>\n",
       "      <td>9.90</td>\n",
       "      <td>9.73</td>\n",
       "      <td>9.85</td>\n",
       "      <td>9.85</td>\n",
       "      <td>2017-05-07</td>\n",
       "      <td>2017-05-07</td>\n",
       "      <td>2017-05-16</td>\n",
       "    </tr>\n",
       "    <tr>\n",
       "      <th>40760</th>\n",
       "      <td>0.476636</td>\n",
       "      <td>0.024029</td>\n",
       "      <td>0.109643</td>\n",
       "      <td>9.97</td>\n",
       "      <td>9.86</td>\n",
       "      <td>9.44</td>\n",
       "      <td>9.75</td>\n",
       "      <td>9.80</td>\n",
       "      <td>9.90</td>\n",
       "      <td>9.73</td>\n",
       "      <td>9.85</td>\n",
       "      <td>9.85</td>\n",
       "      <td>2016-08-31</td>\n",
       "      <td>2016-08-31</td>\n",
       "      <td>2016-10-05</td>\n",
       "    </tr>\n",
       "    <tr>\n",
       "      <th>222945</th>\n",
       "      <td>0.551402</td>\n",
       "      <td>0.024029</td>\n",
       "      <td>0.092470</td>\n",
       "      <td>9.97</td>\n",
       "      <td>9.83</td>\n",
       "      <td>9.44</td>\n",
       "      <td>9.82</td>\n",
       "      <td>10.16</td>\n",
       "      <td>9.90</td>\n",
       "      <td>9.91</td>\n",
       "      <td>9.85</td>\n",
       "      <td>9.85</td>\n",
       "      <td>2017-03-03</td>\n",
       "      <td>2017-03-03</td>\n",
       "      <td>2017-03-25</td>\n",
       "    </tr>\n",
       "  </tbody>\n",
       "</table>\n",
       "</div>"
      ],
      "text/plain": [
       "             AGE  PREAUTH_AMT  DAYS_STAYED   SEX  CASTE_NAME  CATEGORY_NAME  \\\n",
       "329948  0.383178     0.048068     0.064729  9.97        9.85          10.19   \n",
       "271766  0.299065     0.013452     0.067371  9.67        9.91           8.48   \n",
       "299978  0.373832     0.007052     0.075297  9.67        9.86           8.48   \n",
       "40760   0.476636     0.024029     0.109643  9.97        9.86           9.44   \n",
       "222945  0.551402     0.024029     0.092470  9.97        9.83           9.44   \n",
       "\n",
       "        DISTRICT_NAME  HOSP_NAME  HOSP_TYPE  HOSP_DISTRICT  Mortality Y / N  \\\n",
       "329948           9.82      10.17       9.90           9.91             9.85   \n",
       "271766           9.93       8.99       9.69           9.69             9.85   \n",
       "299978           9.75       9.23       9.90           9.73             9.85   \n",
       "40760            9.75       9.80       9.90           9.73             9.85   \n",
       "222945           9.82      10.16       9.90           9.91             9.85   \n",
       "\n",
       "        SRC_REGISTRATION PREAUTH_DATE CLAIM_DATE DISCHARGE_DATE  \n",
       "329948              9.85   2017-06-01 2017-06-01     2017-06-02  \n",
       "271766              9.85   2017-04-15 2017-04-15     2017-04-18  \n",
       "299978              9.85   2017-05-07 2017-05-07     2017-05-16  \n",
       "40760               9.85   2016-08-31 2016-08-31     2016-10-05  \n",
       "222945              9.85   2017-03-03 2017-03-03     2017-03-25  "
      ]
     },
     "execution_count": 127,
     "metadata": {},
     "output_type": "execute_result"
    }
   ],
   "source": [
    "xtrain.head()"
   ]
  },
  {
   "cell_type": "code",
   "execution_count": 128,
   "id": "f2666190",
   "metadata": {},
   "outputs": [],
   "source": [
    "# Assuming 'PREAUTH_DATE' is a datetime column in x_train\n",
    "xtrain['PREAUTH_YEAR'] = xtrain['PREAUTH_DATE'].dt.year\n",
    "\n",
    "# Drop the original datetime column if needed\n",
    "xtrain = xtrain.drop(columns=['PREAUTH_DATE'])\n",
    "\n",
    "# Convert the new 'PREAUTH_YEAR' column to integer\n",
    "xtrain['PREAUTH_YEAR'] = xtrain['PREAUTH_YEAR'].astype(int)\n"
   ]
  },
  {
   "cell_type": "code",
   "execution_count": 129,
   "id": "79cd5bd4",
   "metadata": {},
   "outputs": [],
   "source": [
    "\n",
    "# Repeat for 'CLAIM_DATE'\n",
    "xtrain['CLAIM_YEAR'] = xtrain['CLAIM_DATE'].dt.year\n",
    "xtrain = xtrain.drop(columns=['CLAIM_DATE'])\n",
    "xtrain['CLAIM_YEAR'] = xtrain['CLAIM_YEAR'].astype(int)\n"
   ]
  },
  {
   "cell_type": "code",
   "execution_count": 130,
   "id": "b8d7fcf2",
   "metadata": {},
   "outputs": [],
   "source": [
    "\n",
    "# Repeat for 'DISCHARGE_DATE'\n",
    "xtrain['DISCHARGE_YEAR'] = xtrain['DISCHARGE_DATE'].dt.year\n",
    "xtrain = xtrain.drop(columns=['DISCHARGE_DATE'])\n",
    "xtrain['DISCHARGE_YEAR'] = xtrain['DISCHARGE_YEAR'].astype(int)\n"
   ]
  },
  {
   "cell_type": "code",
   "execution_count": null,
   "id": "b023d50e",
   "metadata": {},
   "outputs": [],
   "source": []
  },
  {
   "cell_type": "code",
   "execution_count": 131,
   "id": "0e3c6286",
   "metadata": {},
   "outputs": [],
   "source": [
    "# Assuming 'PREAUTH_DATE' is a datetime column in xtest\n",
    "xtest['PREAUTH_YEAR'] = xtest['PREAUTH_DATE'].dt.year\n",
    "\n",
    "# Drop the original datetime column if needed\n",
    "xtest = xtest.drop(columns=['PREAUTH_DATE'])\n",
    "\n",
    "# Convert the new 'PREAUTH_YEAR' column to integer\n",
    "xtest['PREAUTH_YEAR'] = xtest['PREAUTH_YEAR'].astype(int)"
   ]
  },
  {
   "cell_type": "code",
   "execution_count": 132,
   "id": "13685438",
   "metadata": {},
   "outputs": [],
   "source": [
    "# Repeat for 'CLAIM_DATE'\n",
    "xtest['CLAIM_YEAR'] = xtest['CLAIM_DATE'].dt.year\n",
    "xtest = xtest.drop(columns=['CLAIM_DATE'])\n",
    "xtest['CLAIM_YEAR'] = xtest['CLAIM_YEAR'].astype(int)\n"
   ]
  },
  {
   "cell_type": "code",
   "execution_count": 133,
   "id": "c9b8e394",
   "metadata": {},
   "outputs": [],
   "source": [
    "\n",
    "# Repeat for 'DISCHARGE_DATE'\n",
    "xtest['DISCHARGE_YEAR'] = xtest['DISCHARGE_DATE'].dt.year\n",
    "xtest = xtest.drop(columns=['DISCHARGE_DATE'])\n",
    "xtest['DISCHARGE_YEAR'] = xtest['DISCHARGE_YEAR'].astype(int)\n"
   ]
  },
  {
   "cell_type": "code",
   "execution_count": 134,
   "id": "0ee24ab1",
   "metadata": {},
   "outputs": [
    {
     "data": {
      "text/plain": [
       "4"
      ]
     },
     "execution_count": 134,
     "metadata": {},
     "output_type": "execute_result"
    }
   ],
   "source": [
    "xtest['DISCHARGE_YEAR'].nunique()"
   ]
  },
  {
   "cell_type": "code",
   "execution_count": 135,
   "id": "37c66909",
   "metadata": {},
   "outputs": [],
   "source": [
    "x_train=sm.add_constant(xtrain)\n",
    "x_test=sm.add_constant(xtest)"
   ]
  },
  {
   "cell_type": "markdown",
   "id": "c08a025c",
   "metadata": {},
   "source": [
    "Adding a constant term (also known as an intercept or bias term) is a common practice in linear regression models, and it serves several important purposes:\n",
    "\n",
    "1. Model Interpretability:\n",
    "The constant term in a linear regression model represents the predicted value when all independent variables are set to zero. It provides a baseline or starting point for the dependent variable.\n",
    "\n",
    "2. Ensuring Independence from Input Scaling:\n",
    "Adding a constant ensures that the model's predictions are not affected by the scale of the input features. Without a constant term, a change in the scale of input features would directly impact the intercept, making the model less interpretable.\n",
    "\n",
    "3. Handling Unobserved Factors:\n",
    "The constant term accounts for factors that are not explicitly included in the model but can influence the dependent variable. It captures the effect of unobserved variables, measurement errors, or other factors that contribute to the baseline level of the dependent variable.\n",
    "\n",
    "4. Improving Numerical Stability:\n",
    "Adding a constant can improve the numerical stability of the model during the optimization process. It helps prevent issues such as multicollinearity and makes the optimization problem well-conditioned."
   ]
  },
  {
   "cell_type": "markdown",
   "id": "de113e43",
   "metadata": {},
   "source": [
    "### Model Building"
   ]
  },
  {
   "cell_type": "code",
   "execution_count": 136,
   "id": "10454b31",
   "metadata": {},
   "outputs": [
    {
     "name": "stdout",
     "output_type": "stream",
     "text": [
      "                            OLS Regression Results                            \n",
      "==============================================================================\n",
      "Dep. Variable:           CLAIM_AMOUNT   R-squared:                       0.928\n",
      "Model:                            OLS   Adj. R-squared:                  0.928\n",
      "Method:                 Least Squares   F-statistic:                 3.104e+05\n",
      "Date:                Sun, 21 Apr 2024   Prob (F-statistic):               0.00\n",
      "Time:                        09:09:55   Log-Likelihood:             9.7180e+05\n",
      "No. Observations:              335781   AIC:                        -1.944e+06\n",
      "Df Residuals:                  335766   BIC:                        -1.943e+06\n",
      "Df Model:                          14                                         \n",
      "Covariance Type:            nonrobust                                         \n",
      "====================================================================================\n",
      "                       coef    std err          t      P>|t|      [0.025      0.975]\n",
      "------------------------------------------------------------------------------------\n",
      "const               -4.4981      0.105    -42.808      0.000      -4.704      -4.292\n",
      "AGE                  0.0043      0.000     32.450      0.000       0.004       0.005\n",
      "PREAUTH_AMT          0.8908      0.001   1434.299      0.000       0.890       0.892\n",
      "DAYS_STAYED          0.0379      0.001     32.151      0.000       0.036       0.040\n",
      "SEX                 -0.0033      0.000    -20.306      0.000      -0.004      -0.003\n",
      "CASTE_NAME          -0.0013      0.001     -1.165      0.244      -0.003       0.001\n",
      "CATEGORY_NAME        0.0022   5.09e-05     42.433      0.000       0.002       0.002\n",
      "DISTRICT_NAME        0.0011      0.000      2.573      0.010       0.000       0.002\n",
      "HOSP_NAME         -4.17e-05   6.08e-05     -0.686      0.493      -0.000    7.75e-05\n",
      "HOSP_TYPE            0.0199      0.000     71.490      0.000       0.019       0.020\n",
      "HOSP_DISTRICT       -0.0004      0.000     -1.864      0.062      -0.001    2.09e-05\n",
      "Mortality Y / N      0.1575      0.001    136.388      0.000       0.155       0.160\n",
      "SRC_REGISTRATION    -0.0041      0.001     -4.951      0.000      -0.006      -0.002\n",
      "PREAUTH_YEAR         0.0003    7.8e-05      3.631      0.000       0.000       0.000\n",
      "CLAIM_YEAR           0.0003    7.8e-05      3.631      0.000       0.000       0.000\n",
      "DISCHARGE_YEAR       0.0008      0.000      5.200      0.000       0.001       0.001\n",
      "==============================================================================\n",
      "Omnibus:                   306084.803   Durbin-Watson:                   2.004\n",
      "Prob(Omnibus):                  0.000   Jarque-Bera (JB):         22338264.453\n",
      "Skew:                          -4.161   Prob(JB):                         0.00\n",
      "Kurtosis:                      42.082   Cond. No.                     4.44e+19\n",
      "==============================================================================\n",
      "\n",
      "Notes:\n",
      "[1] Standard Errors assume that the covariance matrix of the errors is correctly specified.\n",
      "[2] The smallest eigenvalue is 2.07e-27. This might indicate that there are\n",
      "strong multicollinearity problems or that the design matrix is singular.\n"
     ]
    }
   ],
   "source": [
    "OLS_model=sm.OLS(ytrain,x_train).fit()\n",
    "print(OLS_model.summary())"
   ]
  },
  {
   "cell_type": "markdown",
   "id": "1b935e7a",
   "metadata": {},
   "source": [
    "Interpretation:\n",
    "1. R-squared: The model explains a substantial proportion of the variability in CLAIM_AMOUNT.\n",
    "2. Coefficients: The coefficients represent the estimated change in CLAIM_AMOUNT for a one-unit change in each predictor, holding other predictors constant.\n",
    "3. Significance: Check the p-values to determine which predictors are statistically significant.\n",
    "4. Diagnostics: Assess normality, autocorrelation, and other diagnostics to ensure model assumptions are met.\n",
    "5. Note on Multicollinearity: The high condition number may indicate multicollinearity issues. It's advisable to check variance inflation factors (VIF) for each predictor to assess multicollinearity."
   ]
  },
  {
   "cell_type": "code",
   "execution_count": 137,
   "id": "9b65d0de",
   "metadata": {
    "scrolled": true
   },
   "outputs": [
    {
     "data": {
      "text/plain": [
       "const              -4.498132\n",
       "AGE                 0.004308\n",
       "PREAUTH_AMT         0.890811\n",
       "DAYS_STAYED         0.037863\n",
       "SEX                -0.003279\n",
       "CASTE_NAME         -0.001270\n",
       "CATEGORY_NAME       0.002161\n",
       "DISTRICT_NAME       0.001077\n",
       "HOSP_NAME          -0.000042\n",
       "HOSP_TYPE           0.019946\n",
       "HOSP_DISTRICT      -0.000404\n",
       "Mortality Y / N     0.157466\n",
       "SRC_REGISTRATION   -0.004106\n",
       "PREAUTH_YEAR        0.000283\n",
       "CLAIM_YEAR          0.000283\n",
       "DISCHARGE_YEAR      0.000824\n",
       "dtype: float64"
      ]
     },
     "execution_count": 137,
     "metadata": {},
     "output_type": "execute_result"
    }
   ],
   "source": [
    "OLS_model.params"
   ]
  },
  {
   "cell_type": "markdown",
   "id": "d5d05925",
   "metadata": {},
   "source": [
    "- const (Intercept): -2.361602e+06\n",
    "The intercept term represents the estimated value of CLAIM_AMOUNT when all other predictor variables are zero. In this case, it is approximately -2.36 million.\n",
    "- AGE: 2.074264e+01\n",
    "For every one-unit increase in AGE, the predicted CLAIM_AMOUNT increases by approximately 20.74.\n",
    "- PREAUTH_AMT: 8.868775e-01\n",
    "For every one-unit increase in PREAUTH_AMT, the predicted CLAIM_AMOUNT increases by approximately 0.89.\n",
    "- DAYS_STAYED: 2.577566e+01\n",
    "For every one-unit increase in DAYS_STAYED, the predicted CLAIM_AMOUNT increases by approximately 25.78.\n",
    "- SEX: -1.692770e+03\n",
    "For every one-unit increase in the SEX variable, the predicted CLAIM_AMOUNT decreases by approximately 1692.77. Note: - - Interpretation may vary depending on how the SEX variable is coded.\n",
    "- CASTE_NAME: -2.380248e+02\n",
    "For every one-unit increase in the CASTE_NAME variable, the predicted CLAIM_AMOUNT decreases by approximately 238.02.\n",
    "- CATEGORY_NAME: 1.221216e+03\n",
    "For every one-unit increase in the CATEGORY_NAME variable, the predicted CLAIM_AMOUNT increases by approximately 1221.22.\n",
    "- DISTRICT_NAME: 4.850816e+02\n",
    "For every one-unit increase in the DISTRICT_NAME variable, the predicted CLAIM_AMOUNT increases by approximately 485.08.\n",
    "- HOSP_NAME: -5.065383e+01\n",
    "For every one-unit increase in the HOSP_NAME variable, the predicted CLAIM_AMOUNT decreases by approximately 50.65.\n",
    "- HOSP_TYPE: 1.052063e+04\n",
    "For every one-unit increase in the HOSP_TYPE variable, the predicted CLAIM_AMOUNT increases by approximately 10520.63.\n",
    "- HOSP_DISTRICT: -3.128568e+02\n",
    "For every one-unit increase in the HOSP_DISTRICT variable, the predicted CLAIM_AMOUNT decreases by approximately 312.86.\n",
    "- Mortality Y / N: 8.244739e+04\n",
    "For every one-unit increase in the Mortality Y / N variable, the predicted CLAIM_AMOUNT increases by approximately 82447.39.\n",
    "- PREAUTH_YEAR: 1.619440e+02\n",
    "For every one-unit increase in the PREAUTH_YEAR variable, the predicted CLAIM_AMOUNT increases by approximately 161.94.\n",
    "- CLAIM_YEAR: 1.619440e+02\n",
    "For every one-unit increase in the CLAIM_YEAR variable, the predicted CLAIM_AMOUNT increases by approximately 161.94.\n",
    "- DISCHARGE_YEAR: 3.957716e+02\n",
    "For every one-unit increase in the DISCHARGE_YEAR variable, the predicted CLAIM_AMOUNT increases by approximately 395.77."
   ]
  },
  {
   "cell_type": "code",
   "execution_count": null,
   "id": "39b10f4f",
   "metadata": {},
   "outputs": [],
   "source": []
  },
  {
   "cell_type": "code",
   "execution_count": 138,
   "id": "efe2f0e2",
   "metadata": {},
   "outputs": [],
   "source": [
    "linear_results = {'Model': [], 'Train R2': [],  'Test R2': [], 'Train RMSE': [], 'Test RMSE': []}"
   ]
  },
  {
   "cell_type": "markdown",
   "id": "d0b89524",
   "metadata": {},
   "source": [
    "### Linear Model"
   ]
  },
  {
   "cell_type": "code",
   "execution_count": 139,
   "id": "31a42cab",
   "metadata": {},
   "outputs": [],
   "source": [
    "from sklearn.linear_model import LinearRegression\n",
    "from sklearn.metrics import r2_score,mean_squared_error"
   ]
  },
  {
   "cell_type": "code",
   "execution_count": 140,
   "id": "a68373fb",
   "metadata": {
    "scrolled": true
   },
   "outputs": [
    {
     "name": "stdout",
     "output_type": "stream",
     "text": [
      "Train R2  0.9282669456809387\n",
      "Test R2   0.9268212434053071\n",
      "train RMSE  0.01339210648004452\n",
      "test RMSE   0.013440487712458348\n"
     ]
    }
   ],
   "source": [
    "lr = LinearRegression()\n",
    "\n",
    "\n",
    "lr.fit(xtrain, ytrain)\n",
    "\n",
    "y_pred_train = lr.predict(xtrain)\n",
    "y_pred_test = lr.predict(xtest)\n",
    "\n",
    "train_r2 = r2_score(ytrain, y_pred_train)\n",
    "test_r2 = r2_score(ytest, y_pred_test)\n",
    "print('Train R2 ', train_r2)\n",
    "print('Test R2  ', test_r2)\n",
    "\n",
    "train_rmse = np.sqrt(mean_squared_error(ytrain, y_pred_train))\n",
    "test_rmse = np.sqrt(mean_squared_error(ytest, y_pred_test))\n",
    "print(\"train RMSE \", train_rmse)\n",
    "print(\"test RMSE  \", test_rmse)"
   ]
  },
  {
   "cell_type": "code",
   "execution_count": 141,
   "id": "5c1c6dd4",
   "metadata": {},
   "outputs": [],
   "source": [
    "linear_results['Model'].append('Linear_Regression')\n",
    "linear_results['Train R2'].append(train_r2)\n",
    "linear_results['Test R2'].append(test_r2)\n",
    "linear_results['Train RMSE'].append(train_rmse)\n",
    "linear_results['Test RMSE'].append(test_rmse)"
   ]
  },
  {
   "cell_type": "code",
   "execution_count": 142,
   "id": "44c03b38",
   "metadata": {},
   "outputs": [
    {
     "data": {
      "image/png": "[encoded data removed]",
      "text/plain": [
       "<Figure size 640x480 with 1 Axes>"
      ]
     },
     "metadata": {},
     "output_type": "display_data"
    }
   ],
   "source": [
    "# Check normality of residuals\n",
    "resids = ytest - y_pred_test\n",
    "\n",
    "stats.probplot(resids, plot=plt)\n",
    "\n",
    "\n",
    "plt.show()"
   ]
  },
  {
   "cell_type": "code",
   "execution_count": null,
   "id": "f8d36aa3",
   "metadata": {},
   "outputs": [],
   "source": []
  },
  {
   "cell_type": "code",
   "execution_count": 76,
   "id": "d70bccd5",
   "metadata": {},
   "outputs": [],
   "source": [
    "from sklearn.linear_model import Ridge, Lasso,ElasticNet"
   ]
  },
  {
   "cell_type": "markdown",
   "id": "64c2bfad",
   "metadata": {},
   "source": [
    "### Ridge"
   ]
  },
  {
   "cell_type": "code",
   "execution_count": 77,
   "id": "62c875b0",
   "metadata": {},
   "outputs": [
    {
     "name": "stdout",
     "output_type": "stream",
     "text": [
      "Train R2  0.9282119224881547\n",
      "Test R2   0.9269630941523828\n",
      "train RMSE  0.013369730386839954\n",
      "test RMSE   0.013492367512514099\n"
     ]
    }
   ],
   "source": [
    "rg = Ridge()\n",
    "\n",
    "rg.fit(xtrain, ytrain)\n",
    "\n",
    "y_pred_train = rg.predict(xtrain)\n",
    "y_pred_test = rg.predict(xtest)\n",
    "\n",
    "train_r2 = r2_score(ytrain, y_pred_train)\n",
    "test_r2 = r2_score(ytest, y_pred_test)\n",
    "print('Train R2 ', train_r2)\n",
    "print('Test R2  ', test_r2)\n",
    "\n",
    "train_rmse = np.sqrt(mean_squared_error(ytrain, y_pred_train))\n",
    "test_rmse = np.sqrt(mean_squared_error(ytest, y_pred_test))\n",
    "print(\"train RMSE \", train_rmse)\n",
    "print(\"test RMSE  \", test_rmse)"
   ]
  },
  {
   "cell_type": "code",
   "execution_count": 78,
   "id": "cef4e5ca",
   "metadata": {},
   "outputs": [],
   "source": [
    "linear_results['Model'].append('Ridge')\n",
    "linear_results['Train R2'].append(train_r2)\n",
    "linear_results['Test R2'].append(test_r2)\n",
    "linear_results['Train RMSE'].append(train_rmse)\n",
    "linear_results['Test RMSE'].append(test_rmse)"
   ]
  },
  {
   "cell_type": "code",
   "execution_count": null,
   "id": "7e9f733c",
   "metadata": {},
   "outputs": [],
   "source": []
  },
  {
   "cell_type": "markdown",
   "id": "508f7e7a",
   "metadata": {},
   "source": [
    "### Lasso"
   ]
  },
  {
   "cell_type": "code",
   "execution_count": 79,
   "id": "43de0dfb",
   "metadata": {},
   "outputs": [
    {
     "name": "stdout",
     "output_type": "stream",
     "text": [
      "Train R2  0.0\n",
      "Test R2   -2.472330944747192e-05\n",
      "train RMSE  0.04989953376965157\n",
      "test RMSE   0.049925491331028304\n"
     ]
    }
   ],
   "source": [
    "la = Lasso()\n",
    "\n",
    "la.fit(xtrain, ytrain)\n",
    "\n",
    "y_pred_train = la.predict(xtrain)\n",
    "y_pred_test = la.predict(xtest)\n",
    "\n",
    "train_r2 = r2_score(ytrain, y_pred_train)\n",
    "test_r2 = r2_score(ytest, y_pred_test)\n",
    "print('Train R2 ', train_r2)\n",
    "print('Test R2  ', test_r2)\n",
    "\n",
    "train_rmse = np.sqrt(mean_squared_error(ytrain, y_pred_train))\n",
    "test_rmse = np.sqrt(mean_squared_error(ytest, y_pred_test))\n",
    "print(\"train RMSE \", train_rmse)\n",
    "print(\"test RMSE  \", test_rmse)"
   ]
  },
  {
   "cell_type": "code",
   "execution_count": null,
   "id": "1b860a5f",
   "metadata": {},
   "outputs": [],
   "source": []
  },
  {
   "cell_type": "markdown",
   "id": "442a9908",
   "metadata": {},
   "source": [
    "### ElasticNet"
   ]
  },
  {
   "cell_type": "code",
   "execution_count": null,
   "id": "40ec8801",
   "metadata": {},
   "outputs": [],
   "source": []
  },
  {
   "cell_type": "code",
   "execution_count": 80,
   "id": "0e34f7e1",
   "metadata": {},
   "outputs": [
    {
     "name": "stdout",
     "output_type": "stream",
     "text": [
      "Train R2  0.0\n",
      "Test R2   -2.472330944747192e-05\n",
      "train RMSE  0.04989953376965157\n",
      "test RMSE   0.049925491331028304\n"
     ]
    }
   ],
   "source": [
    "En=ElasticNet()\n",
    "\n",
    "\n",
    "En.fit(xtrain, ytrain)\n",
    "\n",
    "y_pred_train = En.predict(xtrain)\n",
    "y_pred_test = En.predict(xtest)\n",
    "\n",
    "train_r2 = r2_score(ytrain, y_pred_train)\n",
    "test_r2 = r2_score(ytest, y_pred_test)\n",
    "print('Train R2 ', train_r2)\n",
    "print('Test R2  ', test_r2)\n",
    "\n",
    "train_rmse = np.sqrt(mean_squared_error(ytrain, y_pred_train))\n",
    "test_rmse = np.sqrt(mean_squared_error(ytest, y_pred_test))\n",
    "print(\"train RMSE \", train_rmse)\n",
    "print(\"test RMSE  \", test_rmse)"
   ]
  },
  {
   "cell_type": "code",
   "execution_count": null,
   "id": "c2fe42cf",
   "metadata": {},
   "outputs": [],
   "source": []
  },
  {
   "cell_type": "markdown",
   "id": "7bda3dd7",
   "metadata": {},
   "source": [
    "### Decision Tree"
   ]
  },
  {
   "cell_type": "code",
   "execution_count": 81,
   "id": "756dc1bc",
   "metadata": {},
   "outputs": [],
   "source": [
    "from sklearn.tree import DecisionTreeRegressor"
   ]
  },
  {
   "cell_type": "code",
   "execution_count": 82,
   "id": "a584310e",
   "metadata": {},
   "outputs": [
    {
     "name": "stdout",
     "output_type": "stream",
     "text": [
      "Train R2  0.99886110847049\n",
      "Test R2   0.9361201384834584\n",
      "train RMSE  0.0016839828696457674\n",
      "test RMSE   0.01261824518819526\n"
     ]
    }
   ],
   "source": [
    "dtr = DecisionTreeRegressor()\n",
    "dtr.fit(xtrain, ytrain)\n",
    "\n",
    "y_pred_train = dtr.predict(xtrain)\n",
    "y_pred_test = dtr.predict(xtest)\n",
    "\n",
    "train_r2 = r2_score(ytrain, y_pred_train)\n",
    "test_r2 = r2_score(ytest, y_pred_test)\n",
    "print('Train R2 ', train_r2)\n",
    "print('Test R2  ', test_r2)\n",
    "\n",
    "train_rmse = np.sqrt(mean_squared_error(ytrain, y_pred_train))\n",
    "test_rmse = np.sqrt(mean_squared_error(ytest, y_pred_test))\n",
    "print(\"train RMSE \", train_rmse)\n",
    "print(\"test RMSE  \", test_rmse)"
   ]
  },
  {
   "cell_type": "code",
   "execution_count": 83,
   "id": "bf76f97f",
   "metadata": {},
   "outputs": [],
   "source": [
    "linear_results['Model'].append('Decision_tree')\n",
    "linear_results['Train R2'].append(train_r2)\n",
    "linear_results['Test R2'].append(test_r2)\n",
    "linear_results['Train RMSE'].append(train_rmse)\n",
    "linear_results['Test RMSE'].append(test_rmse)"
   ]
  },
  {
   "cell_type": "code",
   "execution_count": null,
   "id": "6b1cf466",
   "metadata": {},
   "outputs": [],
   "source": []
  },
  {
   "cell_type": "markdown",
   "id": "4dac282d",
   "metadata": {},
   "source": [
    "### Random_Forest"
   ]
  },
  {
   "cell_type": "code",
   "execution_count": 84,
   "id": "503c531c",
   "metadata": {},
   "outputs": [],
   "source": [
    "from sklearn.ensemble import RandomForestRegressor"
   ]
  },
  {
   "cell_type": "code",
   "execution_count": 85,
   "id": "9b87ec20",
   "metadata": {},
   "outputs": [
    {
     "name": "stdout",
     "output_type": "stream",
     "text": [
      "Train R2  0.9940755056234177\n",
      "Test R2   0.9629630609532405\n",
      "train RMSE  0.0038408038974216737\n",
      "test RMSE   0.009608033805652148\n"
     ]
    }
   ],
   "source": [
    "rfr = RandomForestRegressor()\n",
    "rfr.fit(xtrain, ytrain)\n",
    "\n",
    "y_pred_train = rfr.predict(xtrain)\n",
    "y_pred_test = rfr.predict(xtest)\n",
    "\n",
    "train_r2 = r2_score(ytrain, y_pred_train)\n",
    "test_r2 = r2_score(ytest, y_pred_test)\n",
    "print('Train R2 ', train_r2)\n",
    "print('Test R2  ', test_r2)\n",
    "\n",
    "train_rmse = np.sqrt(mean_squared_error(ytrain, y_pred_train))\n",
    "test_rmse = np.sqrt(mean_squared_error(ytest, y_pred_test))\n",
    "print(\"train RMSE \", train_rmse)\n",
    "print(\"test RMSE  \", test_rmse)"
   ]
  },
  {
   "cell_type": "code",
   "execution_count": 86,
   "id": "6f4eb163",
   "metadata": {},
   "outputs": [],
   "source": [
    "linear_results['Model'].append('Random_Forest')\n",
    "linear_results['Train R2'].append(train_r2)\n",
    "linear_results['Test R2'].append(test_r2)\n",
    "linear_results['Train RMSE'].append(train_rmse)\n",
    "linear_results['Test RMSE'].append(test_rmse)"
   ]
  },
  {
   "cell_type": "code",
   "execution_count": null,
   "id": "6ba21303",
   "metadata": {},
   "outputs": [],
   "source": []
  },
  {
   "cell_type": "markdown",
   "id": "ffaf8090",
   "metadata": {},
   "source": [
    "### Xgboost"
   ]
  },
  {
   "cell_type": "code",
   "execution_count": 87,
   "id": "d09891cd",
   "metadata": {},
   "outputs": [],
   "source": [
    "from xgboost import XGBRegressor"
   ]
  },
  {
   "cell_type": "code",
   "execution_count": 88,
   "id": "0116382a",
   "metadata": {},
   "outputs": [
    {
     "name": "stdout",
     "output_type": "stream",
     "text": [
      "Train R2  0.9651105491004749\n",
      "Test R2   0.9578145824173985\n",
      "train RMSE  0.009320593234506565\n",
      "test RMSE   0.010254114327470136\n"
     ]
    }
   ],
   "source": [
    "xgbr = XGBRegressor()\n",
    "xgbr.fit(xtrain, ytrain)\n",
    "\n",
    "y_pred_train = xgbr.predict(xtrain)\n",
    "y_pred_test = xgbr.predict(xtest)\n",
    "\n",
    "train_r2 = r2_score(ytrain, y_pred_train)\n",
    "test_r2 = r2_score(ytest, y_pred_test)\n",
    "print('Train R2 ', train_r2)\n",
    "print('Test R2  ', test_r2)\n",
    "\n",
    "train_rmse = np.sqrt(mean_squared_error(ytrain, y_pred_train))\n",
    "test_rmse = np.sqrt(mean_squared_error(ytest, y_pred_test))\n",
    "print(\"train RMSE \", train_rmse)\n",
    "print(\"test RMSE  \", test_rmse)"
   ]
  },
  {
   "cell_type": "code",
   "execution_count": 89,
   "id": "59af4f7f",
   "metadata": {},
   "outputs": [],
   "source": [
    "linear_results['Model'].append('XGBRegressor')\n",
    "linear_results['Train R2'].append(train_r2)\n",
    "linear_results['Test R2'].append(test_r2)\n",
    "linear_results['Train RMSE'].append(train_rmse)\n",
    "linear_results['Test RMSE'].append(test_rmse)"
   ]
  },
  {
   "cell_type": "code",
   "execution_count": null,
   "id": "83079636",
   "metadata": {},
   "outputs": [],
   "source": []
  },
  {
   "cell_type": "code",
   "execution_count": 90,
   "id": "f55cfaf8",
   "metadata": {},
   "outputs": [
    {
     "data": {
      "text/html": [
       "<div>\n",
       "<style scoped>\n",
       "    .dataframe tbody tr th:only-of-type {\n",
       "        vertical-align: middle;\n",
       "    }\n",
       "\n",
       "    .dataframe tbody tr th {\n",
       "        vertical-align: top;\n",
       "    }\n",
       "\n",
       "    .dataframe thead th {\n",
       "        text-align: right;\n",
       "    }\n",
       "</style>\n",
       "<table border=\"1\" class=\"dataframe\">\n",
       "  <thead>\n",
       "    <tr style=\"text-align: right;\">\n",
       "      <th></th>\n",
       "      <th>Model</th>\n",
       "      <th>Train R2</th>\n",
       "      <th>Test R2</th>\n",
       "      <th>Train RMSE</th>\n",
       "      <th>Test RMSE</th>\n",
       "    </tr>\n",
       "  </thead>\n",
       "  <tbody>\n",
       "    <tr>\n",
       "      <th>0</th>\n",
       "      <td>Linear_Regression</td>\n",
       "      <td>0.928214</td>\n",
       "      <td>0.926958</td>\n",
       "      <td>0.013370</td>\n",
       "      <td>0.013493</td>\n",
       "    </tr>\n",
       "    <tr>\n",
       "      <th>1</th>\n",
       "      <td>Ridge</td>\n",
       "      <td>0.928212</td>\n",
       "      <td>0.926963</td>\n",
       "      <td>0.013370</td>\n",
       "      <td>0.013492</td>\n",
       "    </tr>\n",
       "    <tr>\n",
       "      <th>2</th>\n",
       "      <td>Decision_tree</td>\n",
       "      <td>0.998861</td>\n",
       "      <td>0.936120</td>\n",
       "      <td>0.001684</td>\n",
       "      <td>0.012618</td>\n",
       "    </tr>\n",
       "    <tr>\n",
       "      <th>3</th>\n",
       "      <td>Random_Forest</td>\n",
       "      <td>0.994076</td>\n",
       "      <td>0.962963</td>\n",
       "      <td>0.003841</td>\n",
       "      <td>0.009608</td>\n",
       "    </tr>\n",
       "    <tr>\n",
       "      <th>4</th>\n",
       "      <td>XGBRegressor</td>\n",
       "      <td>0.965111</td>\n",
       "      <td>0.957815</td>\n",
       "      <td>0.009321</td>\n",
       "      <td>0.010254</td>\n",
       "    </tr>\n",
       "  </tbody>\n",
       "</table>\n",
       "</div>"
      ],
      "text/plain": [
       "               Model  Train R2   Test R2  Train RMSE  Test RMSE\n",
       "0  Linear_Regression  0.928214  0.926958    0.013370   0.013493\n",
       "1              Ridge  0.928212  0.926963    0.013370   0.013492\n",
       "2      Decision_tree  0.998861  0.936120    0.001684   0.012618\n",
       "3      Random_Forest  0.994076  0.962963    0.003841   0.009608\n",
       "4       XGBRegressor  0.965111  0.957815    0.009321   0.010254"
      ]
     },
     "execution_count": 90,
     "metadata": {},
     "output_type": "execute_result"
    }
   ],
   "source": [
    "linear_results = pd.DataFrame(linear_results)\n",
    "linear_results"
   ]
  },
  {
   "cell_type": "code",
   "execution_count": null,
   "id": "9763f345",
   "metadata": {},
   "outputs": [],
   "source": []
  },
  {
   "cell_type": "code",
   "execution_count": 91,
   "id": "89f96e33",
   "metadata": {},
   "outputs": [],
   "source": [
    "from mlxtend.feature_selection import SequentialFeatureSelector as sfs"
   ]
  },
  {
   "cell_type": "code",
   "execution_count": 92,
   "id": "cdc309bf",
   "metadata": {
    "scrolled": true
   },
   "outputs": [
    {
     "data": {
      "text/plain": [
       "['AGE',\n",
       " 'PREAUTH_AMT',\n",
       " 'DAYS_STAYED',\n",
       " 'SEX',\n",
       " 'CASTE_NAME',\n",
       " 'CATEGORY_NAME',\n",
       " 'DISTRICT_NAME',\n",
       " 'HOSP_TYPE',\n",
       " 'HOSP_DISTRICT',\n",
       " 'Mortality Y / N',\n",
       " 'SRC_REGISTRATION',\n",
       " 'PREAUTH_YEAR',\n",
       " 'CLAIM_YEAR',\n",
       " 'DISCHARGE_YEAR']"
      ]
     },
     "execution_count": 92,
     "metadata": {},
     "output_type": "execute_result"
    }
   ],
   "source": [
    "lr=LinearRegression()\n",
    "sfs_lr=sfs(estimator=lr,k_features='best',forward=True)\n",
    "\n",
    "sfs_forward=sfs_lr.fit(xtrain,ytrain)\n",
    "forward=list(sfs_forward.k_feature_names_)\n",
    "forward"
   ]
  },
  {
   "cell_type": "code",
   "execution_count": 93,
   "id": "97949e35",
   "metadata": {},
   "outputs": [],
   "source": [
    "xtrain.drop(columns='CASTE_NAME',inplace=True)\n",
    "xtest.drop(columns='CASTE_NAME',inplace=True)\n"
   ]
  },
  {
   "cell_type": "code",
   "execution_count": 94,
   "id": "55520f7b",
   "metadata": {},
   "outputs": [
    {
     "data": {
      "text/html": [
       "<style>#sk-container-id-1 {color: black;background-color: white;}#sk-container-id-1 pre{padding: 0;}#sk-container-id-1 div.sk-toggleable {background-color: white;}#sk-container-id-1 label.sk-toggleable__label {cursor: pointer;display: block;width: 100%;margin-bottom: 0;padding: 0.3em;box-sizing: border-box;text-align: center;}#sk-container-id-1 label.sk-toggleable__label-arrow:before {content: \"▸\";float: left;margin-right: 0.25em;color: #696969;}#sk-container-id-1 label.sk-toggleable__label-arrow:hover:before {color: black;}#sk-container-id-1 div.sk-estimator:hover label.sk-toggleable__label-arrow:before {color: black;}#sk-container-id-1 div.sk-toggleable__content {max-height: 0;max-width: 0;overflow: hidden;text-align: left;background-color: #f0f8ff;}#sk-container-id-1 div.sk-toggleable__content pre {margin: 0.2em;color: black;border-radius: 0.25em;background-color: #f0f8ff;}#sk-container-id-1 input.sk-toggleable__control:checked~div.sk-toggleable__content {max-height: 200px;max-width: 100%;overflow: auto;}#sk-container-id-1 input.sk-toggleable__control:checked~label.sk-toggleable__label-arrow:before {content: \"▾\";}#sk-container-id-1 div.sk-estimator input.sk-toggleable__control:checked~label.sk-toggleable__label {background-color: #d4ebff;}#sk-container-id-1 div.sk-label input.sk-toggleable__control:checked~label.sk-toggleable__label {background-color: #d4ebff;}#sk-container-id-1 input.sk-hidden--visually {border: 0;clip: rect(1px 1px 1px 1px);clip: rect(1px, 1px, 1px, 1px);height: 1px;margin: -1px;overflow: hidden;padding: 0;position: absolute;width: 1px;}#sk-container-id-1 div.sk-estimator {font-family: monospace;background-color: #f0f8ff;border: 1px dotted black;border-radius: 0.25em;box-sizing: border-box;margin-bottom: 0.5em;}#sk-container-id-1 div.sk-estimator:hover {background-color: #d4ebff;}#sk-container-id-1 div.sk-parallel-item::after {content: \"\";width: 100%;border-bottom: 1px solid gray;flex-grow: 1;}#sk-container-id-1 div.sk-label:hover label.sk-toggleable__label {background-color: #d4ebff;}#sk-container-id-1 div.sk-serial::before {content: \"\";position: absolute;border-left: 1px solid gray;box-sizing: border-box;top: 0;bottom: 0;left: 50%;z-index: 0;}#sk-container-id-1 div.sk-serial {display: flex;flex-direction: column;align-items: center;background-color: white;padding-right: 0.2em;padding-left: 0.2em;position: relative;}#sk-container-id-1 div.sk-item {position: relative;z-index: 1;}#sk-container-id-1 div.sk-parallel {display: flex;align-items: stretch;justify-content: center;background-color: white;position: relative;}#sk-container-id-1 div.sk-item::before, #sk-container-id-1 div.sk-parallel-item::before {content: \"\";position: absolute;border-left: 1px solid gray;box-sizing: border-box;top: 0;bottom: 0;left: 50%;z-index: -1;}#sk-container-id-1 div.sk-parallel-item {display: flex;flex-direction: column;z-index: 1;position: relative;background-color: white;}#sk-container-id-1 div.sk-parallel-item:first-child::after {align-self: flex-end;width: 50%;}#sk-container-id-1 div.sk-parallel-item:last-child::after {align-self: flex-start;width: 50%;}#sk-container-id-1 div.sk-parallel-item:only-child::after {width: 0;}#sk-container-id-1 div.sk-dashed-wrapped {border: 1px dashed gray;margin: 0 0.4em 0.5em 0.4em;box-sizing: border-box;padding-bottom: 0.4em;background-color: white;}#sk-container-id-1 div.sk-label label {font-family: monospace;font-weight: bold;display: inline-block;line-height: 1.2em;}#sk-container-id-1 div.sk-label-container {text-align: center;}#sk-container-id-1 div.sk-container {/* jupyter's `normalize.less` sets `[hidden] { display: none; }` but bootstrap.min.css set `[hidden] { display: none !important; }` so we also need the `!important` here to be able to override the default hidden behavior on the sphinx rendered scikit-learn.org. See: https://github.com/scikit-learn/scikit-learn/issues/21755 */display: inline-block !important;position: relative;}#sk-container-id-1 div.sk-text-repr-fallback {display: none;}</style><div id=\"sk-container-id-1\" class=\"sk-top-container\"><div class=\"sk-text-repr-fallback\"><pre>LinearRegression()</pre><b>In a Jupyter environment, please rerun this cell to show the HTML representation or trust the notebook. <br />On GitHub, the HTML representation is unable to render, please try loading this page with nbviewer.org.</b></div><div class=\"sk-container\" hidden><div class=\"sk-item\"><div class=\"sk-estimator sk-toggleable\"><input class=\"sk-toggleable__control sk-hidden--visually\" id=\"sk-estimator-id-1\" type=\"checkbox\" checked><label for=\"sk-estimator-id-1\" class=\"sk-toggleable__label sk-toggleable__label-arrow\">LinearRegression</label><div class=\"sk-toggleable__content\"><pre>LinearRegression()</pre></div></div></div></div></div>"
      ],
      "text/plain": [
       "LinearRegression()"
      ]
     },
     "execution_count": 94,
     "metadata": {},
     "output_type": "execute_result"
    }
   ],
   "source": [
    "lrr=LinearRegression()\n",
    "lrr.fit(xtrain,ytrain)"
   ]
  },
  {
   "cell_type": "code",
   "execution_count": 95,
   "id": "14699233",
   "metadata": {},
   "outputs": [
    {
     "data": {
      "text/plain": [
       "0.9282129091638777"
      ]
     },
     "execution_count": 95,
     "metadata": {},
     "output_type": "execute_result"
    }
   ],
   "source": [
    "lrr.score(xtrain,ytrain)"
   ]
  },
  {
   "cell_type": "code",
   "execution_count": 96,
   "id": "166435ad",
   "metadata": {},
   "outputs": [
    {
     "data": {
      "text/plain": [
       "0.9269616592369205"
      ]
     },
     "execution_count": 96,
     "metadata": {},
     "output_type": "execute_result"
    }
   ],
   "source": [
    "lrr.score(xtest,ytest)"
   ]
  },
  {
   "cell_type": "code",
   "execution_count": 97,
   "id": "c4f77bf9",
   "metadata": {},
   "outputs": [
    {
     "name": "stdout",
     "output_type": "stream",
     "text": [
      "train RMSE  0.009320593234506565\n",
      "test RMSE   0.010254114327470136\n"
     ]
    }
   ],
   "source": [
    "train_rmse = np.sqrt(mean_squared_error(ytrain, y_pred_train))\n",
    "test_rmse = np.sqrt(mean_squared_error(ytest, y_pred_test))\n",
    "print(\"train RMSE \", train_rmse)\n",
    "print(\"test RMSE  \", test_rmse)"
   ]
  },
  {
   "cell_type": "code",
   "execution_count": 98,
   "id": "73222097",
   "metadata": {},
   "outputs": [
    {
     "data": {
      "text/plain": [
       "(335781, 14)"
      ]
     },
     "execution_count": 98,
     "metadata": {},
     "output_type": "execute_result"
    }
   ],
   "source": [
    "xtrain.shape"
   ]
  },
  {
   "cell_type": "code",
   "execution_count": null,
   "id": "1e5e201e",
   "metadata": {},
   "outputs": [],
   "source": []
  },
  {
   "cell_type": "markdown",
   "id": "9b3e1924",
   "metadata": {},
   "source": [
    "# Linear Classification"
   ]
  },
  {
   "cell_type": "code",
   "execution_count": 99,
   "id": "2edc630d",
   "metadata": {},
   "outputs": [],
   "source": [
    "# adding category column"
   ]
  },
  {
   "cell_type": "code",
   "execution_count": 100,
   "id": "a299a30e",
   "metadata": {},
   "outputs": [],
   "source": [
    "df_insurance1=df_insurance.copy()"
   ]
  },
  {
   "cell_type": "code",
   "execution_count": 101,
   "id": "95f96aad",
   "metadata": {},
   "outputs": [
    {
     "data": {
      "text/html": [
       "<div>\n",
       "<style scoped>\n",
       "    .dataframe tbody tr th:only-of-type {\n",
       "        vertical-align: middle;\n",
       "    }\n",
       "\n",
       "    .dataframe tbody tr th {\n",
       "        vertical-align: top;\n",
       "    }\n",
       "\n",
       "    .dataframe thead th {\n",
       "        text-align: right;\n",
       "    }\n",
       "</style>\n",
       "<table border=\"1\" class=\"dataframe\">\n",
       "  <thead>\n",
       "    <tr style=\"text-align: right;\">\n",
       "      <th></th>\n",
       "      <th>AGE</th>\n",
       "      <th>PREAUTH_AMT</th>\n",
       "      <th>CLAIM_AMOUNT</th>\n",
       "      <th>DAYS_STAYED</th>\n",
       "      <th>SEX</th>\n",
       "      <th>CASTE_NAME</th>\n",
       "      <th>CATEGORY_NAME</th>\n",
       "      <th>DISTRICT_NAME</th>\n",
       "      <th>HOSP_NAME</th>\n",
       "      <th>HOSP_TYPE</th>\n",
       "      <th>HOSP_DISTRICT</th>\n",
       "      <th>Mortality Y / N</th>\n",
       "      <th>SRC_REGISTRATION</th>\n",
       "      <th>PREAUTH_DATE</th>\n",
       "      <th>CLAIM_DATE</th>\n",
       "      <th>DISCHARGE_DATE</th>\n",
       "    </tr>\n",
       "  </thead>\n",
       "  <tbody>\n",
       "    <tr>\n",
       "      <th>0</th>\n",
       "      <td>0.523364</td>\n",
       "      <td>0.024029</td>\n",
       "      <td>0.021150</td>\n",
       "      <td>0.109643</td>\n",
       "      <td>9.67</td>\n",
       "      <td>9.83</td>\n",
       "      <td>9.44</td>\n",
       "      <td>9.83</td>\n",
       "      <td>9.6</td>\n",
       "      <td>9.69</td>\n",
       "      <td>9.95</td>\n",
       "      <td>9.85</td>\n",
       "      <td>9.85</td>\n",
       "      <td>2013-08-03</td>\n",
       "      <td>2013-08-03</td>\n",
       "      <td>2013-09-07</td>\n",
       "    </tr>\n",
       "    <tr>\n",
       "      <th>1</th>\n",
       "      <td>0.345794</td>\n",
       "      <td>0.024029</td>\n",
       "      <td>0.021150</td>\n",
       "      <td>0.108322</td>\n",
       "      <td>9.97</td>\n",
       "      <td>9.83</td>\n",
       "      <td>9.44</td>\n",
       "      <td>9.83</td>\n",
       "      <td>9.6</td>\n",
       "      <td>9.69</td>\n",
       "      <td>9.95</td>\n",
       "      <td>9.85</td>\n",
       "      <td>9.85</td>\n",
       "      <td>2013-08-06</td>\n",
       "      <td>2013-08-06</td>\n",
       "      <td>2013-09-09</td>\n",
       "    </tr>\n",
       "    <tr>\n",
       "      <th>2</th>\n",
       "      <td>0.467290</td>\n",
       "      <td>0.024029</td>\n",
       "      <td>0.022112</td>\n",
       "      <td>0.155878</td>\n",
       "      <td>9.97</td>\n",
       "      <td>9.83</td>\n",
       "      <td>9.44</td>\n",
       "      <td>9.83</td>\n",
       "      <td>9.6</td>\n",
       "      <td>9.69</td>\n",
       "      <td>9.95</td>\n",
       "      <td>9.85</td>\n",
       "      <td>9.85</td>\n",
       "      <td>2013-08-09</td>\n",
       "      <td>2013-08-09</td>\n",
       "      <td>2013-10-18</td>\n",
       "    </tr>\n",
       "    <tr>\n",
       "      <th>3</th>\n",
       "      <td>0.420561</td>\n",
       "      <td>0.024029</td>\n",
       "      <td>0.021150</td>\n",
       "      <td>0.108322</td>\n",
       "      <td>9.97</td>\n",
       "      <td>9.83</td>\n",
       "      <td>9.44</td>\n",
       "      <td>9.83</td>\n",
       "      <td>9.6</td>\n",
       "      <td>9.69</td>\n",
       "      <td>9.95</td>\n",
       "      <td>9.85</td>\n",
       "      <td>9.85</td>\n",
       "      <td>2013-08-24</td>\n",
       "      <td>2013-08-24</td>\n",
       "      <td>2013-09-27</td>\n",
       "    </tr>\n",
       "    <tr>\n",
       "      <th>4</th>\n",
       "      <td>0.504673</td>\n",
       "      <td>0.024029</td>\n",
       "      <td>0.021150</td>\n",
       "      <td>0.109643</td>\n",
       "      <td>9.97</td>\n",
       "      <td>9.83</td>\n",
       "      <td>9.44</td>\n",
       "      <td>9.83</td>\n",
       "      <td>9.6</td>\n",
       "      <td>9.69</td>\n",
       "      <td>9.95</td>\n",
       "      <td>9.85</td>\n",
       "      <td>9.85</td>\n",
       "      <td>2013-08-28</td>\n",
       "      <td>2013-08-28</td>\n",
       "      <td>2013-10-02</td>\n",
       "    </tr>\n",
       "  </tbody>\n",
       "</table>\n",
       "</div>"
      ],
      "text/plain": [
       "        AGE  PREAUTH_AMT  CLAIM_AMOUNT  DAYS_STAYED   SEX  CASTE_NAME  \\\n",
       "0  0.523364     0.024029      0.021150     0.109643  9.67        9.83   \n",
       "1  0.345794     0.024029      0.021150     0.108322  9.97        9.83   \n",
       "2  0.467290     0.024029      0.022112     0.155878  9.97        9.83   \n",
       "3  0.420561     0.024029      0.021150     0.108322  9.97        9.83   \n",
       "4  0.504673     0.024029      0.021150     0.109643  9.97        9.83   \n",
       "\n",
       "   CATEGORY_NAME  DISTRICT_NAME  HOSP_NAME  HOSP_TYPE  HOSP_DISTRICT  \\\n",
       "0           9.44           9.83        9.6       9.69           9.95   \n",
       "1           9.44           9.83        9.6       9.69           9.95   \n",
       "2           9.44           9.83        9.6       9.69           9.95   \n",
       "3           9.44           9.83        9.6       9.69           9.95   \n",
       "4           9.44           9.83        9.6       9.69           9.95   \n",
       "\n",
       "   Mortality Y / N  SRC_REGISTRATION PREAUTH_DATE CLAIM_DATE DISCHARGE_DATE  \n",
       "0             9.85              9.85   2013-08-03 2013-08-03     2013-09-07  \n",
       "1             9.85              9.85   2013-08-06 2013-08-06     2013-09-09  \n",
       "2             9.85              9.85   2013-08-09 2013-08-09     2013-10-18  \n",
       "3             9.85              9.85   2013-08-24 2013-08-24     2013-09-27  \n",
       "4             9.85              9.85   2013-08-28 2013-08-28     2013-10-02  "
      ]
     },
     "execution_count": 101,
     "metadata": {},
     "output_type": "execute_result"
    }
   ],
   "source": [
    "df_insurance1.head()"
   ]
  },
  {
   "cell_type": "code",
   "execution_count": 102,
   "id": "3ee5f332",
   "metadata": {},
   "outputs": [],
   "source": [
    "q1=df['CLAIM_AMOUNT'].quantile(0.25)\n",
    "q2=df['CLAIM_AMOUNT'].quantile(0.50)\n",
    "q3=df['CLAIM_AMOUNT'].quantile(0.75)"
   ]
  },
  {
   "cell_type": "code",
   "execution_count": 103,
   "id": "740af4de",
   "metadata": {},
   "outputs": [
    {
     "data": {
      "text/plain": [
       "(12500.0, 23200.0, 30600.0)"
      ]
     },
     "execution_count": 103,
     "metadata": {},
     "output_type": "execute_result"
    }
   ],
   "source": [
    "q1,q2,q3"
   ]
  },
  {
   "cell_type": "code",
   "execution_count": 104,
   "id": "50ec0b02",
   "metadata": {},
   "outputs": [],
   "source": [
    "def category(x):\n",
    "    if x>=q3:\n",
    "        return 2     # 2- High\n",
    "    elif q3>x>q1:\n",
    "        return 1     # 1-Medium\n",
    "    else:\n",
    "        return 0     # 0-Low\n",
    "df_insurance1['CLAIM_AMOUNT_CATEGORY']=df['CLAIM_AMOUNT'].apply(category)       "
   ]
  },
  {
   "cell_type": "markdown",
   "id": "463fd45e",
   "metadata": {},
   "source": [
    "Created a Category Column of Claim Amount in which  0 refers to Low, 1 Refers to Medium and 2 refers to High"
   ]
  },
  {
   "cell_type": "code",
   "execution_count": 105,
   "id": "25ead4b8",
   "metadata": {},
   "outputs": [],
   "source": [
    "df_insurance1.drop(columns='CLAIM_AMOUNT',inplace=True)"
   ]
  },
  {
   "cell_type": "code",
   "execution_count": 106,
   "id": "240abc71",
   "metadata": {},
   "outputs": [
    {
     "data": {
      "text/plain": [
       "AGE                     -0.574233\n",
       "PREAUTH_AMT              2.826157\n",
       "DAYS_STAYED              7.129508\n",
       "SEX                     -0.390407\n",
       "CASTE_NAME               1.487303\n",
       "CATEGORY_NAME           -0.293228\n",
       "DISTRICT_NAME            0.368170\n",
       "HOSP_NAME                0.016526\n",
       "HOSP_TYPE               -1.282982\n",
       "HOSP_DISTRICT            0.963774\n",
       "Mortality Y / N         -6.664268\n",
       "SRC_REGISTRATION        -4.516182\n",
       "CLAIM_AMOUNT_CATEGORY    0.159239\n",
       "dtype: float64"
      ]
     },
     "execution_count": 106,
     "metadata": {},
     "output_type": "execute_result"
    }
   ],
   "source": [
    "df_insurance1.skew()"
   ]
  },
  {
   "cell_type": "code",
   "execution_count": 107,
   "id": "704bcaea",
   "metadata": {},
   "outputs": [
    {
     "data": {
      "text/html": [
       "<div>\n",
       "<style scoped>\n",
       "    .dataframe tbody tr th:only-of-type {\n",
       "        vertical-align: middle;\n",
       "    }\n",
       "\n",
       "    .dataframe tbody tr th {\n",
       "        vertical-align: top;\n",
       "    }\n",
       "\n",
       "    .dataframe thead th {\n",
       "        text-align: right;\n",
       "    }\n",
       "</style>\n",
       "<table border=\"1\" class=\"dataframe\">\n",
       "  <thead>\n",
       "    <tr style=\"text-align: right;\">\n",
       "      <th></th>\n",
       "      <th>AGE</th>\n",
       "      <th>PREAUTH_AMT</th>\n",
       "      <th>DAYS_STAYED</th>\n",
       "      <th>SEX</th>\n",
       "      <th>CASTE_NAME</th>\n",
       "      <th>CATEGORY_NAME</th>\n",
       "      <th>DISTRICT_NAME</th>\n",
       "      <th>HOSP_NAME</th>\n",
       "      <th>HOSP_TYPE</th>\n",
       "      <th>HOSP_DISTRICT</th>\n",
       "      <th>Mortality Y / N</th>\n",
       "      <th>SRC_REGISTRATION</th>\n",
       "      <th>PREAUTH_DATE</th>\n",
       "      <th>CLAIM_DATE</th>\n",
       "      <th>DISCHARGE_DATE</th>\n",
       "      <th>CLAIM_AMOUNT_CATEGORY</th>\n",
       "    </tr>\n",
       "  </thead>\n",
       "  <tbody>\n",
       "    <tr>\n",
       "      <th>0</th>\n",
       "      <td>0.523364</td>\n",
       "      <td>0.024029</td>\n",
       "      <td>0.109643</td>\n",
       "      <td>9.67</td>\n",
       "      <td>9.83</td>\n",
       "      <td>9.44</td>\n",
       "      <td>9.83</td>\n",
       "      <td>9.6</td>\n",
       "      <td>9.69</td>\n",
       "      <td>9.95</td>\n",
       "      <td>9.85</td>\n",
       "      <td>9.85</td>\n",
       "      <td>2013-08-03</td>\n",
       "      <td>2013-08-03</td>\n",
       "      <td>2013-09-07</td>\n",
       "      <td>0</td>\n",
       "    </tr>\n",
       "    <tr>\n",
       "      <th>1</th>\n",
       "      <td>0.345794</td>\n",
       "      <td>0.024029</td>\n",
       "      <td>0.108322</td>\n",
       "      <td>9.97</td>\n",
       "      <td>9.83</td>\n",
       "      <td>9.44</td>\n",
       "      <td>9.83</td>\n",
       "      <td>9.6</td>\n",
       "      <td>9.69</td>\n",
       "      <td>9.95</td>\n",
       "      <td>9.85</td>\n",
       "      <td>9.85</td>\n",
       "      <td>2013-08-06</td>\n",
       "      <td>2013-08-06</td>\n",
       "      <td>2013-09-09</td>\n",
       "      <td>0</td>\n",
       "    </tr>\n",
       "    <tr>\n",
       "      <th>2</th>\n",
       "      <td>0.467290</td>\n",
       "      <td>0.024029</td>\n",
       "      <td>0.155878</td>\n",
       "      <td>9.97</td>\n",
       "      <td>9.83</td>\n",
       "      <td>9.44</td>\n",
       "      <td>9.83</td>\n",
       "      <td>9.6</td>\n",
       "      <td>9.69</td>\n",
       "      <td>9.95</td>\n",
       "      <td>9.85</td>\n",
       "      <td>9.85</td>\n",
       "      <td>2013-08-09</td>\n",
       "      <td>2013-08-09</td>\n",
       "      <td>2013-10-18</td>\n",
       "      <td>0</td>\n",
       "    </tr>\n",
       "    <tr>\n",
       "      <th>3</th>\n",
       "      <td>0.420561</td>\n",
       "      <td>0.024029</td>\n",
       "      <td>0.108322</td>\n",
       "      <td>9.97</td>\n",
       "      <td>9.83</td>\n",
       "      <td>9.44</td>\n",
       "      <td>9.83</td>\n",
       "      <td>9.6</td>\n",
       "      <td>9.69</td>\n",
       "      <td>9.95</td>\n",
       "      <td>9.85</td>\n",
       "      <td>9.85</td>\n",
       "      <td>2013-08-24</td>\n",
       "      <td>2013-08-24</td>\n",
       "      <td>2013-09-27</td>\n",
       "      <td>0</td>\n",
       "    </tr>\n",
       "    <tr>\n",
       "      <th>4</th>\n",
       "      <td>0.504673</td>\n",
       "      <td>0.024029</td>\n",
       "      <td>0.109643</td>\n",
       "      <td>9.97</td>\n",
       "      <td>9.83</td>\n",
       "      <td>9.44</td>\n",
       "      <td>9.83</td>\n",
       "      <td>9.6</td>\n",
       "      <td>9.69</td>\n",
       "      <td>9.95</td>\n",
       "      <td>9.85</td>\n",
       "      <td>9.85</td>\n",
       "      <td>2013-08-28</td>\n",
       "      <td>2013-08-28</td>\n",
       "      <td>2013-10-02</td>\n",
       "      <td>0</td>\n",
       "    </tr>\n",
       "  </tbody>\n",
       "</table>\n",
       "</div>"
      ],
      "text/plain": [
       "        AGE  PREAUTH_AMT  DAYS_STAYED   SEX  CASTE_NAME  CATEGORY_NAME  \\\n",
       "0  0.523364     0.024029     0.109643  9.67        9.83           9.44   \n",
       "1  0.345794     0.024029     0.108322  9.97        9.83           9.44   \n",
       "2  0.467290     0.024029     0.155878  9.97        9.83           9.44   \n",
       "3  0.420561     0.024029     0.108322  9.97        9.83           9.44   \n",
       "4  0.504673     0.024029     0.109643  9.97        9.83           9.44   \n",
       "\n",
       "   DISTRICT_NAME  HOSP_NAME  HOSP_TYPE  HOSP_DISTRICT  Mortality Y / N  \\\n",
       "0           9.83        9.6       9.69           9.95             9.85   \n",
       "1           9.83        9.6       9.69           9.95             9.85   \n",
       "2           9.83        9.6       9.69           9.95             9.85   \n",
       "3           9.83        9.6       9.69           9.95             9.85   \n",
       "4           9.83        9.6       9.69           9.95             9.85   \n",
       "\n",
       "   SRC_REGISTRATION PREAUTH_DATE CLAIM_DATE DISCHARGE_DATE  \\\n",
       "0              9.85   2013-08-03 2013-08-03     2013-09-07   \n",
       "1              9.85   2013-08-06 2013-08-06     2013-09-09   \n",
       "2              9.85   2013-08-09 2013-08-09     2013-10-18   \n",
       "3              9.85   2013-08-24 2013-08-24     2013-09-27   \n",
       "4              9.85   2013-08-28 2013-08-28     2013-10-02   \n",
       "\n",
       "   CLAIM_AMOUNT_CATEGORY  \n",
       "0                      0  \n",
       "1                      0  \n",
       "2                      0  \n",
       "3                      0  \n",
       "4                      0  "
      ]
     },
     "execution_count": 107,
     "metadata": {},
     "output_type": "execute_result"
    }
   ],
   "source": [
    "df_insurance1.head()"
   ]
  },
  {
   "cell_type": "code",
   "execution_count": 108,
   "id": "fd187480",
   "metadata": {},
   "outputs": [],
   "source": [
    "x=df_insurance1.drop(columns='CLAIM_AMOUNT_CATEGORY')\n",
    "y=df_insurance1['CLAIM_AMOUNT_CATEGORY']\n",
    "Xtrain1,Xtest1,Ytrain1,Ytest1=train_test_split(x,y,test_size=0.30)"
   ]
  },
  {
   "cell_type": "code",
   "execution_count": 109,
   "id": "4f962207",
   "metadata": {},
   "outputs": [],
   "source": [
    "from sklearn.linear_model import LogisticRegression\n",
    "from sklearn.tree import DecisionTreeClassifier\n",
    "from sklearn.ensemble import RandomForestClassifier, AdaBoostClassifier,GradientBoostingClassifier\n",
    "from xgboost import XGBClassifier\n",
    "from sklearn.neural_network import MLPClassifier"
   ]
  },
  {
   "cell_type": "code",
   "execution_count": 110,
   "id": "1f8b9f91",
   "metadata": {},
   "outputs": [],
   "source": [
    "from sklearn.metrics import classification_report,confusion_matrix"
   ]
  },
  {
   "cell_type": "code",
   "execution_count": 111,
   "id": "3a1b67e3",
   "metadata": {},
   "outputs": [],
   "source": [
    "# Assuming 'PREAUTH_DATE' is a datetime column in x_train\n",
    "Xtrain1['PREAUTH_YEAR'] = Xtrain1['PREAUTH_DATE'].dt.year\n",
    "\n",
    "# Drop the original datetime column if needed\n",
    "Xtrain1 = Xtrain1.drop(columns=['PREAUTH_DATE'])\n",
    "\n",
    "# Convert the new 'PREAUTH_YEAR' column to integer\n",
    "Xtrain1['PREAUTH_YEAR'] = Xtrain1['PREAUTH_YEAR'].astype(int)\n"
   ]
  },
  {
   "cell_type": "code",
   "execution_count": 112,
   "id": "18cd8111",
   "metadata": {},
   "outputs": [],
   "source": [
    "\n",
    "# Repeat for 'CLAIM_DATE'\n",
    "Xtrain1['CLAIM_YEAR'] = Xtrain1['CLAIM_DATE'].dt.year\n",
    "Xtrain1 = Xtrain1.drop(columns=['CLAIM_DATE'])\n",
    "Xtrain1['CLAIM_YEAR'] = Xtrain1['CLAIM_YEAR'].astype(int)\n"
   ]
  },
  {
   "cell_type": "code",
   "execution_count": 113,
   "id": "74795a06",
   "metadata": {},
   "outputs": [],
   "source": [
    "\n",
    "\n",
    "\n",
    "# Repeat for 'DISCHARGE_DATE'\n",
    "Xtrain1['DISCHARGE_YEAR'] = Xtrain1['DISCHARGE_DATE'].dt.year\n",
    "Xtrain1 = Xtrain1.drop(columns=['DISCHARGE_DATE'])\n",
    "Xtrain1['DISCHARGE_YEAR'] = Xtrain1['DISCHARGE_YEAR'].astype(int)\n"
   ]
  },
  {
   "cell_type": "code",
   "execution_count": 114,
   "id": "f1363bea",
   "metadata": {},
   "outputs": [],
   "source": [
    "# Assuming 'PREAUTH_DATE' is a datetime column in x_train\n",
    "Xtest1['PREAUTH_YEAR'] = Xtest1['PREAUTH_DATE'].dt.year\n",
    "\n",
    "# Drop the original datetime column if needed\n",
    "Xtest1 = Xtest1.drop(columns=['PREAUTH_DATE'])\n",
    "\n",
    "# Convert the new 'PREAUTH_YEAR' column to integer\n",
    "Xtest1['PREAUTH_YEAR'] = Xtest1['PREAUTH_YEAR'].astype(int)\n"
   ]
  },
  {
   "cell_type": "code",
   "execution_count": 115,
   "id": "70dcb6ca",
   "metadata": {},
   "outputs": [],
   "source": [
    "\n",
    "# Repeat for 'CLAIM_DATE'\n",
    "Xtest1['CLAIM_YEAR'] = Xtest1['CLAIM_DATE'].dt.year\n",
    "Xtest1 = Xtest1.drop(columns=['CLAIM_DATE'])\n",
    "Xtest1['CLAIM_YEAR'] = Xtest1['CLAIM_YEAR'].astype(int)\n"
   ]
  },
  {
   "cell_type": "code",
   "execution_count": 116,
   "id": "378a5dbe",
   "metadata": {},
   "outputs": [],
   "source": [
    "\n",
    "\n",
    "\n",
    "# Repeat for 'DISCHARGE_DATE'\n",
    "Xtest1['DISCHARGE_YEAR'] = Xtest1['DISCHARGE_DATE'].dt.year\n",
    "Xtest1 = Xtest1.drop(columns=['DISCHARGE_DATE'])\n",
    "Xtest1['DISCHARGE_YEAR'] = Xtest1['DISCHARGE_YEAR'].astype(int)\n"
   ]
  },
  {
   "cell_type": "code",
   "execution_count": 117,
   "id": "d424234e",
   "metadata": {},
   "outputs": [],
   "source": [
    "from sklearn.metrics import accuracy_score"
   ]
  },
  {
   "cell_type": "code",
   "execution_count": 118,
   "id": "437bba91",
   "metadata": {},
   "outputs": [],
   "source": [
    "def performance(model,x,y):\n",
    "    y_pred=model.predict(x)\n",
    "    print('Confusion mattrix')\n",
    "    cm=confusion_matrix(y,y_pred)\n",
    "    print(cm)\n",
    "    print('Classification Report')\n",
    "    print(classification_report(y,y_pred))\n",
    "    "
   ]
  },
  {
   "cell_type": "code",
   "execution_count": 119,
   "id": "a491b3de",
   "metadata": {},
   "outputs": [],
   "source": [
    "results = {'Model': [], 'Train Accuracy': [],  'Test Accuracy': []}"
   ]
  },
  {
   "cell_type": "markdown",
   "id": "69ddcea1",
   "metadata": {},
   "source": [
    "### Logistic Regression"
   ]
  },
  {
   "cell_type": "code",
   "execution_count": 120,
   "id": "8245ecba",
   "metadata": {},
   "outputs": [],
   "source": [
    "lgr=LogisticRegression()\n",
    "lgr.fit(Xtrain1,Ytrain1)\n",
    "Model1 = \"Logistic Regression\""
   ]
  },
  {
   "cell_type": "code",
   "execution_count": 121,
   "id": "e75702d5",
   "metadata": {},
   "outputs": [],
   "source": [
    "y_pred_train1 = lgr.predict(Xtrain1)\n",
    "y_pred_test1 = lgr.predict(Xtest1)"
   ]
  },
  {
   "cell_type": "code",
   "execution_count": 122,
   "id": "c773c5a2",
   "metadata": {},
   "outputs": [
    {
     "name": "stdout",
     "output_type": "stream",
     "text": [
      "Confusion mattrix\n",
      "[[ 97224  17794   1478]\n",
      " [ 16695 110509   6383]\n",
      " [  7323  36646  41729]]\n",
      "Classification Report\n",
      "              precision    recall  f1-score   support\n",
      "\n",
      "           0       0.80      0.83      0.82    116496\n",
      "           1       0.67      0.83      0.74    133587\n",
      "           2       0.84      0.49      0.62     85698\n",
      "\n",
      "    accuracy                           0.74    335781\n",
      "   macro avg       0.77      0.72      0.73    335781\n",
      "weighted avg       0.76      0.74      0.74    335781\n",
      "\n",
      "None\n"
     ]
    }
   ],
   "source": [
    "print(performance(lgr,Xtrain1,Ytrain1))\n",
    "train_accuracy1 = accuracy_score(Ytrain1, y_pred_train1)\n",
    "test_accuracy1 = accuracy_score(Ytest1, y_pred_test1)"
   ]
  },
  {
   "cell_type": "code",
   "execution_count": 123,
   "id": "ae75bac7",
   "metadata": {},
   "outputs": [
    {
     "name": "stdout",
     "output_type": "stream",
     "text": [
      "Confusion mattrix\n",
      "[[41820  7590   673]\n",
      " [ 7135 47291  2766]\n",
      " [ 3102 15611 17919]]\n",
      "Classification Report\n",
      "              precision    recall  f1-score   support\n",
      "\n",
      "           0       0.80      0.84      0.82     50083\n",
      "           1       0.67      0.83      0.74     57192\n",
      "           2       0.84      0.49      0.62     36632\n",
      "\n",
      "    accuracy                           0.74    143907\n",
      "   macro avg       0.77      0.72      0.73    143907\n",
      "weighted avg       0.76      0.74      0.74    143907\n",
      "\n"
     ]
    }
   ],
   "source": [
    "performance(lgr,Xtest1,Ytest1)"
   ]
  },
  {
   "cell_type": "code",
   "execution_count": 124,
   "id": "b0e7ca7e",
   "metadata": {},
   "outputs": [],
   "source": [
    "results['Model'].append(Model1)\n",
    "results['Train Accuracy'].append(train_accuracy1)\n",
    "results['Test Accuracy'].append(test_accuracy1)"
   ]
  },
  {
   "cell_type": "markdown",
   "id": "267b63d0",
   "metadata": {},
   "source": [
    "### Decision Tree"
   ]
  },
  {
   "cell_type": "code",
   "execution_count": 125,
   "id": "dbce3bc0",
   "metadata": {},
   "outputs": [],
   "source": [
    "dtc=DecisionTreeClassifier()\n",
    "dtc.fit(Xtrain1,Ytrain1)\n",
    "Model2 = \"Decision Tree\""
   ]
  },
  {
   "cell_type": "code",
   "execution_count": 126,
   "id": "27a0684f",
   "metadata": {},
   "outputs": [],
   "source": [
    "y_pred_train2 = dtc.predict(Xtrain1)\n",
    "y_pred_test2 = dtc.predict(Xtest1)"
   ]
  },
  {
   "cell_type": "code",
   "execution_count": 127,
   "id": "723e4ccb",
   "metadata": {},
   "outputs": [],
   "source": [
    "train_accuracy2 = accuracy_score(Ytrain1, y_pred_train2)\n",
    "test_accuracy2 = accuracy_score(Ytest1, y_pred_test2)"
   ]
  },
  {
   "cell_type": "code",
   "execution_count": 128,
   "id": "62187cb5",
   "metadata": {},
   "outputs": [
    {
     "name": "stdout",
     "output_type": "stream",
     "text": [
      "Confusion mattrix\n",
      "[[116259    221     16]\n",
      " [   363 132868    356]\n",
      " [    25    846  84827]]\n",
      "Classification Report\n",
      "              precision    recall  f1-score   support\n",
      "\n",
      "           0       1.00      1.00      1.00    116496\n",
      "           1       0.99      0.99      0.99    133587\n",
      "           2       1.00      0.99      0.99     85698\n",
      "\n",
      "    accuracy                           0.99    335781\n",
      "   macro avg       0.99      0.99      0.99    335781\n",
      "weighted avg       0.99      0.99      0.99    335781\n",
      "\n"
     ]
    }
   ],
   "source": [
    "performance(dtc,Xtrain1,Ytrain1)"
   ]
  },
  {
   "cell_type": "code",
   "execution_count": 129,
   "id": "b726ab12",
   "metadata": {},
   "outputs": [
    {
     "name": "stdout",
     "output_type": "stream",
     "text": [
      "Confusion mattrix\n",
      "[[47561  2294   228]\n",
      " [ 2597 51431  3164]\n",
      " [  303  3360 32969]]\n",
      "Classification Report\n",
      "              precision    recall  f1-score   support\n",
      "\n",
      "           0       0.94      0.95      0.95     50083\n",
      "           1       0.90      0.90      0.90     57192\n",
      "           2       0.91      0.90      0.90     36632\n",
      "\n",
      "    accuracy                           0.92    143907\n",
      "   macro avg       0.92      0.92      0.92    143907\n",
      "weighted avg       0.92      0.92      0.92    143907\n",
      "\n"
     ]
    }
   ],
   "source": [
    "performance(dtc,Xtest1,Ytest1)"
   ]
  },
  {
   "cell_type": "code",
   "execution_count": 130,
   "id": "0591adfe",
   "metadata": {},
   "outputs": [],
   "source": [
    "results['Model'].append(Model2)\n",
    "results['Train Accuracy'].append(train_accuracy2)\n",
    "results['Test Accuracy'].append(test_accuracy2)"
   ]
  },
  {
   "cell_type": "markdown",
   "id": "a8dcfc20",
   "metadata": {},
   "source": [
    "### Random Forest"
   ]
  },
  {
   "cell_type": "code",
   "execution_count": 131,
   "id": "03eb93f4",
   "metadata": {},
   "outputs": [],
   "source": [
    "Rfc=RandomForestClassifier()\n",
    "Rfc.fit(Xtrain1,Ytrain1)\n",
    "Model3 = \"Random Forest\""
   ]
  },
  {
   "cell_type": "code",
   "execution_count": 132,
   "id": "1bb8ad9e",
   "metadata": {},
   "outputs": [],
   "source": [
    "y_pred_train3 = Rfc.predict(Xtrain1)\n",
    "y_pred_test3 = Rfc.predict(Xtest1)"
   ]
  },
  {
   "cell_type": "code",
   "execution_count": 133,
   "id": "1a5c1e9f",
   "metadata": {},
   "outputs": [],
   "source": [
    "train_accuracy3 = accuracy_score(Ytrain1, y_pred_train3)\n",
    "test_accuracy3 = accuracy_score(Ytest1, y_pred_test3)"
   ]
  },
  {
   "cell_type": "code",
   "execution_count": 134,
   "id": "cbc5bb39",
   "metadata": {},
   "outputs": [
    {
     "name": "stdout",
     "output_type": "stream",
     "text": [
      "Confusion mattrix\n",
      "[[115963    498     35]\n",
      " [    86 132909    592]\n",
      " [     4    615  85079]]\n",
      "Classification Report\n",
      "              precision    recall  f1-score   support\n",
      "\n",
      "           0       1.00      1.00      1.00    116496\n",
      "           1       0.99      0.99      0.99    133587\n",
      "           2       0.99      0.99      0.99     85698\n",
      "\n",
      "    accuracy                           0.99    335781\n",
      "   macro avg       0.99      0.99      0.99    335781\n",
      "weighted avg       0.99      0.99      0.99    335781\n",
      "\n"
     ]
    }
   ],
   "source": [
    "performance(Rfc,Xtrain1,Ytrain1)"
   ]
  },
  {
   "cell_type": "code",
   "execution_count": 135,
   "id": "5bbd9fec",
   "metadata": {},
   "outputs": [
    {
     "name": "stdout",
     "output_type": "stream",
     "text": [
      "Confusion mattrix\n",
      "[[47163  2667   253]\n",
      " [  818 53047  3327]\n",
      " [   48  2041 34543]]\n",
      "Classification Report\n",
      "              precision    recall  f1-score   support\n",
      "\n",
      "           0       0.98      0.94      0.96     50083\n",
      "           1       0.92      0.93      0.92     57192\n",
      "           2       0.91      0.94      0.92     36632\n",
      "\n",
      "    accuracy                           0.94    143907\n",
      "   macro avg       0.94      0.94      0.94    143907\n",
      "weighted avg       0.94      0.94      0.94    143907\n",
      "\n"
     ]
    }
   ],
   "source": [
    "performance(Rfc,Xtest1,Ytest1)"
   ]
  },
  {
   "cell_type": "code",
   "execution_count": 136,
   "id": "63e71c2d",
   "metadata": {},
   "outputs": [],
   "source": [
    "results['Model'].append(Model3)\n",
    "results['Train Accuracy'].append(train_accuracy3)\n",
    "results['Test Accuracy'].append(test_accuracy3)"
   ]
  },
  {
   "cell_type": "markdown",
   "id": "3de03828",
   "metadata": {},
   "source": [
    "### AdaBoost"
   ]
  },
  {
   "cell_type": "code",
   "execution_count": 137,
   "id": "a1a34ad5",
   "metadata": {},
   "outputs": [],
   "source": [
    "ad=AdaBoostClassifier()\n",
    "ad.fit(Xtrain1,Ytrain1)\n",
    "Model4 = \"AdaBoost Classifier\""
   ]
  },
  {
   "cell_type": "code",
   "execution_count": 138,
   "id": "b3b3d787",
   "metadata": {},
   "outputs": [],
   "source": [
    "y_pred_train4 = ad.predict(Xtrain1)\n",
    "y_pred_test4 = ad.predict(Xtest1)"
   ]
  },
  {
   "cell_type": "code",
   "execution_count": 139,
   "id": "638157b9",
   "metadata": {},
   "outputs": [],
   "source": [
    "train_accuracy4 = accuracy_score(Ytrain1, y_pred_train4)\n",
    "test_accuracy4 = accuracy_score(Ytest1, y_pred_test4)"
   ]
  },
  {
   "cell_type": "code",
   "execution_count": 140,
   "id": "2df22d35",
   "metadata": {},
   "outputs": [
    {
     "name": "stdout",
     "output_type": "stream",
     "text": [
      "Confusion mattrix\n",
      "[[107022   8583    891]\n",
      " [   156 121594  11837]\n",
      " [    66   4791  80841]]\n",
      "Classification Report\n",
      "              precision    recall  f1-score   support\n",
      "\n",
      "           0       1.00      0.92      0.96    116496\n",
      "           1       0.90      0.91      0.91    133587\n",
      "           2       0.86      0.94      0.90     85698\n",
      "\n",
      "    accuracy                           0.92    335781\n",
      "   macro avg       0.92      0.92      0.92    335781\n",
      "weighted avg       0.93      0.92      0.92    335781\n",
      "\n"
     ]
    }
   ],
   "source": [
    "performance(ad,Xtrain1,Ytrain1)"
   ]
  },
  {
   "cell_type": "code",
   "execution_count": null,
   "id": "8b06ddaa",
   "metadata": {},
   "outputs": [],
   "source": []
  },
  {
   "cell_type": "code",
   "execution_count": 141,
   "id": "22f5a804",
   "metadata": {},
   "outputs": [
    {
     "name": "stdout",
     "output_type": "stream",
     "text": [
      "Confusion mattrix\n",
      "[[45970  3724   389]\n",
      " [   61 52089  5042]\n",
      " [   29  2114 34489]]\n",
      "Classification Report\n",
      "              precision    recall  f1-score   support\n",
      "\n",
      "           0       1.00      0.92      0.96     50083\n",
      "           1       0.90      0.91      0.90     57192\n",
      "           2       0.86      0.94      0.90     36632\n",
      "\n",
      "    accuracy                           0.92    143907\n",
      "   macro avg       0.92      0.92      0.92    143907\n",
      "weighted avg       0.92      0.92      0.92    143907\n",
      "\n"
     ]
    }
   ],
   "source": [
    "performance(ad,Xtest1,Ytest1)"
   ]
  },
  {
   "cell_type": "code",
   "execution_count": 142,
   "id": "047ceb1d",
   "metadata": {},
   "outputs": [],
   "source": [
    "results['Model'].append(Model4)\n",
    "results['Train Accuracy'].append(train_accuracy4)\n",
    "results['Test Accuracy'].append(test_accuracy4)"
   ]
  },
  {
   "cell_type": "markdown",
   "id": "db1b0505",
   "metadata": {},
   "source": [
    "### MLPClassifier"
   ]
  },
  {
   "cell_type": "code",
   "execution_count": 143,
   "id": "27d8a4da",
   "metadata": {},
   "outputs": [],
   "source": [
    "mlp=MLPClassifier()\n",
    "mlp.fit(Xtrain1,Ytrain1)\n",
    "Model5 = \"MLPClassifier\""
   ]
  },
  {
   "cell_type": "code",
   "execution_count": 144,
   "id": "d09b8d99",
   "metadata": {},
   "outputs": [],
   "source": [
    "y_pred_train5 = mlp.predict(Xtrain1)\n",
    "y_pred_test5 = mlp.predict(Xtest1)"
   ]
  },
  {
   "cell_type": "code",
   "execution_count": 145,
   "id": "2cf6090b",
   "metadata": {},
   "outputs": [],
   "source": [
    "train_accuracy5 = accuracy_score(Ytrain1, y_pred_train5)\n",
    "test_accuracy5 = accuracy_score(Ytest1, y_pred_test5)"
   ]
  },
  {
   "cell_type": "code",
   "execution_count": 146,
   "id": "b101e149",
   "metadata": {},
   "outputs": [
    {
     "name": "stdout",
     "output_type": "stream",
     "text": [
      "Confusion mattrix\n",
      "[[115565      0    931]\n",
      " [127455      0   6132]\n",
      " [ 30751      0  54947]]\n",
      "Classification Report\n",
      "              precision    recall  f1-score   support\n",
      "\n",
      "           0       0.42      0.99      0.59    116496\n",
      "           1       0.00      0.00      0.00    133587\n",
      "           2       0.89      0.64      0.74     85698\n",
      "\n",
      "    accuracy                           0.51    335781\n",
      "   macro avg       0.44      0.54      0.45    335781\n",
      "weighted avg       0.37      0.51      0.40    335781\n",
      "\n"
     ]
    }
   ],
   "source": [
    "performance(mlp,Xtrain1,Ytrain1)"
   ]
  },
  {
   "cell_type": "code",
   "execution_count": 147,
   "id": "a74f7017",
   "metadata": {},
   "outputs": [
    {
     "name": "stdout",
     "output_type": "stream",
     "text": [
      "Confusion mattrix\n",
      "[[49676     0   407]\n",
      " [54593     0  2599]\n",
      " [13229     0 23403]]\n",
      "Classification Report\n",
      "              precision    recall  f1-score   support\n",
      "\n",
      "           0       0.42      0.99      0.59     50083\n",
      "           1       0.00      0.00      0.00     57192\n",
      "           2       0.89      0.64      0.74     36632\n",
      "\n",
      "    accuracy                           0.51    143907\n",
      "   macro avg       0.44      0.54      0.45    143907\n",
      "weighted avg       0.37      0.51      0.40    143907\n",
      "\n"
     ]
    }
   ],
   "source": [
    "performance(mlp,Xtest1,Ytest1)"
   ]
  },
  {
   "cell_type": "code",
   "execution_count": 148,
   "id": "8da96e90",
   "metadata": {},
   "outputs": [],
   "source": [
    "results['Model'].append(Model5)\n",
    "results['Train Accuracy'].append(train_accuracy5)\n",
    "results['Test Accuracy'].append(test_accuracy5)"
   ]
  },
  {
   "cell_type": "markdown",
   "id": "a7aea4da",
   "metadata": {},
   "source": [
    "### XGBoost"
   ]
  },
  {
   "cell_type": "code",
   "execution_count": 149,
   "id": "4fbe6cb4",
   "metadata": {},
   "outputs": [],
   "source": [
    "xg=XGBClassifier()\n",
    "xg.fit(Xtrain1,Ytrain1)\n",
    "Model6 = \"XGBoost\""
   ]
  },
  {
   "cell_type": "code",
   "execution_count": 150,
   "id": "0426b846",
   "metadata": {},
   "outputs": [],
   "source": [
    "y_pred_train6 = xg.predict(Xtrain1)\n",
    "y_pred_test6 = xg.predict(Xtest1)"
   ]
  },
  {
   "cell_type": "code",
   "execution_count": 151,
   "id": "1de06c05",
   "metadata": {},
   "outputs": [],
   "source": [
    "train_accuracy6 = accuracy_score(Ytrain1, y_pred_train6)\n",
    "test_accuracy6 = accuracy_score(Ytest1, y_pred_test6)"
   ]
  },
  {
   "cell_type": "code",
   "execution_count": 152,
   "id": "9b435742",
   "metadata": {},
   "outputs": [
    {
     "name": "stdout",
     "output_type": "stream",
     "text": [
      "Confusion mattrix\n",
      "[[110318   5551    627]\n",
      " [  1083 124189   8315]\n",
      " [    37   3576  82085]]\n",
      "Classification Report\n",
      "              precision    recall  f1-score   support\n",
      "\n",
      "           0       0.99      0.95      0.97    116496\n",
      "           1       0.93      0.93      0.93    133587\n",
      "           2       0.90      0.96      0.93     85698\n",
      "\n",
      "    accuracy                           0.94    335781\n",
      "   macro avg       0.94      0.94      0.94    335781\n",
      "weighted avg       0.94      0.94      0.94    335781\n",
      "\n"
     ]
    }
   ],
   "source": [
    "performance(xg,Xtrain1,Ytrain1)\n"
   ]
  },
  {
   "cell_type": "code",
   "execution_count": 153,
   "id": "0183277a",
   "metadata": {},
   "outputs": [
    {
     "name": "stdout",
     "output_type": "stream",
     "text": [
      "Confusion mattrix\n",
      "[[47268  2542   273]\n",
      " [  602 52772  3818]\n",
      " [   26  1774 34832]]\n",
      "Classification Report\n",
      "              precision    recall  f1-score   support\n",
      "\n",
      "           0       0.99      0.94      0.96     50083\n",
      "           1       0.92      0.92      0.92     57192\n",
      "           2       0.89      0.95      0.92     36632\n",
      "\n",
      "    accuracy                           0.94    143907\n",
      "   macro avg       0.94      0.94      0.94    143907\n",
      "weighted avg       0.94      0.94      0.94    143907\n",
      "\n"
     ]
    }
   ],
   "source": [
    "performance(xg,Xtest1,Ytest1)"
   ]
  },
  {
   "cell_type": "code",
   "execution_count": 154,
   "id": "4b4d4e91",
   "metadata": {},
   "outputs": [],
   "source": [
    "results['Model'].append(Model6)\n",
    "results['Train Accuracy'].append(train_accuracy6)\n",
    "results['Test Accuracy'].append(test_accuracy6)"
   ]
  },
  {
   "cell_type": "markdown",
   "id": "ec15be2f",
   "metadata": {},
   "source": [
    "### Result"
   ]
  },
  {
   "cell_type": "code",
   "execution_count": 155,
   "id": "e1911dfc",
   "metadata": {},
   "outputs": [],
   "source": [
    "df_results = pd.DataFrame(results)"
   ]
  },
  {
   "cell_type": "code",
   "execution_count": 156,
   "id": "e2ee5fc8",
   "metadata": {},
   "outputs": [
    {
     "data": {
      "text/html": [
       "<div>\n",
       "<style scoped>\n",
       "    .dataframe tbody tr th:only-of-type {\n",
       "        vertical-align: middle;\n",
       "    }\n",
       "\n",
       "    .dataframe tbody tr th {\n",
       "        vertical-align: top;\n",
       "    }\n",
       "\n",
       "    .dataframe thead th {\n",
       "        text-align: right;\n",
       "    }\n",
       "</style>\n",
       "<table border=\"1\" class=\"dataframe\">\n",
       "  <thead>\n",
       "    <tr style=\"text-align: right;\">\n",
       "      <th></th>\n",
       "      <th>Model</th>\n",
       "      <th>Train Accuracy</th>\n",
       "      <th>Test Accuracy</th>\n",
       "    </tr>\n",
       "  </thead>\n",
       "  <tbody>\n",
       "    <tr>\n",
       "      <th>0</th>\n",
       "      <td>Logistic Regression</td>\n",
       "      <td>0.742931</td>\n",
       "      <td>0.743744</td>\n",
       "    </tr>\n",
       "    <tr>\n",
       "      <th>1</th>\n",
       "      <td>Decision Tree</td>\n",
       "      <td>0.994559</td>\n",
       "      <td>0.916988</td>\n",
       "    </tr>\n",
       "    <tr>\n",
       "      <th>2</th>\n",
       "      <td>Random Forest</td>\n",
       "      <td>0.994550</td>\n",
       "      <td>0.936389</td>\n",
       "    </tr>\n",
       "    <tr>\n",
       "      <th>3</th>\n",
       "      <td>AdaBoost Classifier</td>\n",
       "      <td>0.921604</td>\n",
       "      <td>0.921067</td>\n",
       "    </tr>\n",
       "    <tr>\n",
       "      <th>4</th>\n",
       "      <td>MLPClassifier</td>\n",
       "      <td>0.507807</td>\n",
       "      <td>0.507821</td>\n",
       "    </tr>\n",
       "    <tr>\n",
       "      <th>5</th>\n",
       "      <td>XGBoost</td>\n",
       "      <td>0.942853</td>\n",
       "      <td>0.937216</td>\n",
       "    </tr>\n",
       "  </tbody>\n",
       "</table>\n",
       "</div>"
      ],
      "text/plain": [
       "                 Model  Train Accuracy  Test Accuracy\n",
       "0  Logistic Regression        0.742931       0.743744\n",
       "1        Decision Tree        0.994559       0.916988\n",
       "2        Random Forest        0.994550       0.936389\n",
       "3  AdaBoost Classifier        0.921604       0.921067\n",
       "4        MLPClassifier        0.507807       0.507821\n",
       "5              XGBoost        0.942853       0.937216"
      ]
     },
     "execution_count": 156,
     "metadata": {},
     "output_type": "execute_result"
    }
   ],
   "source": [
    "df_results"
   ]
  },
  {
   "cell_type": "markdown",
   "id": "f9baae79",
   "metadata": {},
   "source": [
    "1. Logistic Regression:\n",
    "- Train Accuracy: 74.29%\n",
    "- Test Accuracy: 74.37%\n",
    "- Logistic Regression is a linear model. The accuracy suggests that the model performs reasonably well but may have limitations capturing complex relationships in the data.\n",
    "\n",
    "2. Decision Tree:\n",
    "- Train Accuracy: 99.45%\n",
    "- Test Accuracy: 91.69%\n",
    "- Decision Trees can be prone to overfitting. The high training accuracy suggests the model fits the training data well, but the lower test accuracy indicates lower overfitting when applied to new, unseen data.\n",
    "\n",
    "3. Random Forest:\n",
    "- Train Accuracy: 99.45%\n",
    "- Test Accuracy: 93.63%\n",
    "- Random Forest, an ensemble of Decision Trees, generally performs well. The model seems effective at capturing patterns in the training data and generalizing to unseen data, as reflected in the relatively high test accuracy.\n",
    "\n",
    "4. AdaBoost Classifier:\n",
    "- Train Accuracy: 92.16%\n",
    "- Test Accuracy: 92.10%\n",
    "- AdaBoost combines weak learners to create a strong model. The accuracies are balanced, indicating good performance on both the training and test sets.\n",
    "\n",
    "5. MLPClassifier (Neural Network):\n",
    "- Train Accuracy: 50.78%\n",
    "- Test Accuracy: 89.78%\n",
    "- The neural network achieved moderate accuracy, and there might be room for improvement through hyperparameter tuning or more complex architectures.\n",
    "\n",
    "6. XGBoost:\n",
    "- Train Accuracy: 94.28%\n",
    "- Test Accuracy: 93.72%\n",
    "- XGBoost is an ensemble method known for its robustness and performance. The model performs well on both the training and test sets.\n"
   ]
  },
  {
   "cell_type": "markdown",
   "id": "7862c493",
   "metadata": {},
   "source": [
    "# Randomized Search Cv For RandomForest ClassiFier"
   ]
  },
  {
   "cell_type": "code",
   "execution_count": 157,
   "id": "495a9887",
   "metadata": {},
   "outputs": [],
   "source": [
    "results1 = {'Model': [], 'Train Accuracy': [],  'Test Accuracy': []}"
   ]
  },
  {
   "cell_type": "code",
   "execution_count": 158,
   "id": "d879dffa",
   "metadata": {},
   "outputs": [],
   "source": [
    "from sklearn.model_selection import RandomizedSearchCV"
   ]
  },
  {
   "cell_type": "code",
   "execution_count": 159,
   "id": "0ae64e79",
   "metadata": {},
   "outputs": [],
   "source": [
    "tuned_paramaters = [{'criterion': ['entropy', 'gini'],\n",
    "                    'n_estimators': [10, 30, 50, 70, 90],\n",
    "                    'max_depth': [10, 15, 20],\n",
    "                    'min_samples_split': [2, 5, 8, 11]}]"
   ]
  },
  {
   "cell_type": "code",
   "execution_count": 160,
   "id": "6e88c64a",
   "metadata": {},
   "outputs": [
    {
     "name": "stdout",
     "output_type": "stream",
     "text": [
      "{'n_estimators': 70, 'min_samples_split': 2, 'max_depth': 20, 'criterion': 'gini'}\n"
     ]
    }
   ],
   "source": [
    "rfc_random=RandomizedSearchCV(estimator=Rfc,param_distributions=tuned_paramaters,cv=5)\n",
    "rfc_model=rfc_random.fit(Xtrain1,Ytrain1)\n",
    "print(rfc_model.best_params_)"
   ]
  },
  {
   "cell_type": "code",
   "execution_count": 161,
   "id": "163a85c3",
   "metadata": {},
   "outputs": [],
   "source": [
    "rfc=RandomForestClassifier(**rfc_model.best_params_,random_state=10)\n",
    "rfc.fit(Xtrain1,Ytrain1)\n",
    "Model1='Random Forest'"
   ]
  },
  {
   "cell_type": "code",
   "execution_count": 162,
   "id": "042f5e16",
   "metadata": {},
   "outputs": [],
   "source": [
    "y_pred_train1 = rfc.predict(Xtrain1)\n",
    "y_pred_test1 = rfc.predict(Xtest1)"
   ]
  },
  {
   "cell_type": "code",
   "execution_count": 163,
   "id": "3c55f40a",
   "metadata": {},
   "outputs": [],
   "source": [
    "train_accuracy1 = accuracy_score(Ytrain1, y_pred_train1)\n",
    "test_accuracy1 = accuracy_score(Ytest1, y_pred_test1)"
   ]
  },
  {
   "cell_type": "code",
   "execution_count": 164,
   "id": "2a8d4075",
   "metadata": {},
   "outputs": [
    {
     "name": "stdout",
     "output_type": "stream",
     "text": [
      "Confusion mattrix\n",
      "[[111598   4532    366]\n",
      " [    88 128689   4810]\n",
      " [    12   1575  84111]]\n",
      "Classification Report\n",
      "              precision    recall  f1-score   support\n",
      "\n",
      "           0       1.00      0.96      0.98    116496\n",
      "           1       0.95      0.96      0.96    133587\n",
      "           2       0.94      0.98      0.96     85698\n",
      "\n",
      "    accuracy                           0.97    335781\n",
      "   macro avg       0.97      0.97      0.97    335781\n",
      "weighted avg       0.97      0.97      0.97    335781\n",
      "\n"
     ]
    }
   ],
   "source": [
    "performance(rfc,Xtrain1,Ytrain1)"
   ]
  },
  {
   "cell_type": "code",
   "execution_count": 165,
   "id": "8a9bd24a",
   "metadata": {},
   "outputs": [
    {
     "name": "stdout",
     "output_type": "stream",
     "text": [
      "Confusion mattrix\n",
      "[[46782  3012   289]\n",
      " [  378 52986  3828]\n",
      " [   29  1637 34966]]\n",
      "Classification Report\n",
      "              precision    recall  f1-score   support\n",
      "\n",
      "           0       0.99      0.93      0.96     50083\n",
      "           1       0.92      0.93      0.92     57192\n",
      "           2       0.89      0.95      0.92     36632\n",
      "\n",
      "    accuracy                           0.94    143907\n",
      "   macro avg       0.94      0.94      0.94    143907\n",
      "weighted avg       0.94      0.94      0.94    143907\n",
      "\n"
     ]
    }
   ],
   "source": [
    "performance(rfc,Xtest1,Ytest1)"
   ]
  },
  {
   "cell_type": "code",
   "execution_count": 166,
   "id": "93328ab0",
   "metadata": {},
   "outputs": [],
   "source": [
    "results1['Model'].append(Model1)\n",
    "results1['Train Accuracy'].append(train_accuracy1)\n",
    "results1['Test Accuracy'].append(test_accuracy1)"
   ]
  },
  {
   "cell_type": "markdown",
   "id": "b9f89f77",
   "metadata": {},
   "source": [
    "# RandomizedSearchCV For Logistic Regression"
   ]
  },
  {
   "cell_type": "code",
   "execution_count": 167,
   "id": "b4b1a547",
   "metadata": {},
   "outputs": [],
   "source": [
    "from scipy.stats import uniform"
   ]
  },
  {
   "cell_type": "code",
   "execution_count": 168,
   "id": "2b929159",
   "metadata": {},
   "outputs": [],
   "source": [
    "param_dist = {\n",
    "    'penalty': ['l1', 'l2', 'elasticnet', 'none'],\n",
    "    'C': uniform(loc=0, scale=4)}"
   ]
  },
  {
   "cell_type": "code",
   "execution_count": 169,
   "id": "22d330a0",
   "metadata": {},
   "outputs": [
    {
     "name": "stdout",
     "output_type": "stream",
     "text": [
      "{'C': 0.7337391594646552, 'penalty': 'none'}\n"
     ]
    }
   ],
   "source": [
    "random_search = RandomizedSearchCV(estimator=lgr, param_distributions=param_dist,\n",
    "                                   n_iter=10, cv=5, scoring='accuracy', random_state=42)\n",
    "\n",
    "lgr_random=random_search.fit(Xtrain1,Ytrain1)\n",
    "print(lgr_random.best_params_)"
   ]
  },
  {
   "cell_type": "code",
   "execution_count": 170,
   "id": "84fcab44",
   "metadata": {},
   "outputs": [],
   "source": [
    "lgr_model=LogisticRegression(**lgr_random.best_params_,random_state=10)\n",
    "lgr_model.fit(Xtrain1,Ytrain1)\n",
    "Model2='Logistic Regression'"
   ]
  },
  {
   "cell_type": "code",
   "execution_count": 171,
   "id": "f9d8c367",
   "metadata": {},
   "outputs": [],
   "source": [
    "y_pred_train2 = lgr_model.predict(Xtrain1)\n",
    "y_pred_test2 = lgr_model.predict(Xtest1)"
   ]
  },
  {
   "cell_type": "code",
   "execution_count": 172,
   "id": "c030acc9",
   "metadata": {},
   "outputs": [],
   "source": [
    "train_accuracy2 = accuracy_score(Ytrain1, y_pred_train2)\n",
    "test_accuracy2= accuracy_score(Ytest1, y_pred_test2)"
   ]
  },
  {
   "cell_type": "code",
   "execution_count": 173,
   "id": "1b01ca34",
   "metadata": {},
   "outputs": [
    {
     "name": "stdout",
     "output_type": "stream",
     "text": [
      "Confusion mattrix\n",
      "[[ 97243  17776   1477]\n",
      " [ 16751 110454   6382]\n",
      " [  7362  36606  41730]]\n",
      "Classification Report\n",
      "              precision    recall  f1-score   support\n",
      "\n",
      "           0       0.80      0.83      0.82    116496\n",
      "           1       0.67      0.83      0.74    133587\n",
      "           2       0.84      0.49      0.62     85698\n",
      "\n",
      "    accuracy                           0.74    335781\n",
      "   macro avg       0.77      0.72      0.72    335781\n",
      "weighted avg       0.76      0.74      0.74    335781\n",
      "\n"
     ]
    }
   ],
   "source": [
    "performance(lgr_model,Xtrain1,Ytrain1)"
   ]
  },
  {
   "cell_type": "code",
   "execution_count": 174,
   "id": "3f625774",
   "metadata": {},
   "outputs": [
    {
     "name": "stdout",
     "output_type": "stream",
     "text": [
      "Confusion mattrix\n",
      "[[41832  7578   673]\n",
      " [ 7148 47278  2766]\n",
      " [ 3116 15596 17920]]\n",
      "Classification Report\n",
      "              precision    recall  f1-score   support\n",
      "\n",
      "           0       0.80      0.84      0.82     50083\n",
      "           1       0.67      0.83      0.74     57192\n",
      "           2       0.84      0.49      0.62     36632\n",
      "\n",
      "    accuracy                           0.74    143907\n",
      "   macro avg       0.77      0.72      0.73    143907\n",
      "weighted avg       0.76      0.74      0.74    143907\n",
      "\n"
     ]
    }
   ],
   "source": [
    "performance(lgr_model,Xtest1,Ytest1)"
   ]
  },
  {
   "cell_type": "code",
   "execution_count": 175,
   "id": "96f97831",
   "metadata": {},
   "outputs": [],
   "source": [
    "results1['Model'].append(Model2)\n",
    "results1['Train Accuracy'].append(train_accuracy2)\n",
    "results1['Test Accuracy'].append(test_accuracy2)"
   ]
  },
  {
   "cell_type": "markdown",
   "id": "f64017ee",
   "metadata": {},
   "source": [
    "# RandomizedSearchCV For DecisionTree Classifier"
   ]
  },
  {
   "cell_type": "code",
   "execution_count": 176,
   "id": "b07a7462",
   "metadata": {},
   "outputs": [],
   "source": [
    "param_dist = {\n",
    "    'criterion': ['gini', 'entropy'],\n",
    "    'max_depth': [10,15,20],\n",
    "    'min_samples_split':[2,5,8,11],\n",
    "    'min_samples_leaf': [2,3,5]}"
   ]
  },
  {
   "cell_type": "code",
   "execution_count": 177,
   "id": "9c251715",
   "metadata": {},
   "outputs": [
    {
     "name": "stdout",
     "output_type": "stream",
     "text": [
      "{'min_samples_split': 11, 'min_samples_leaf': 2, 'max_depth': 15, 'criterion': 'entropy'}\n"
     ]
    }
   ],
   "source": [
    "dtc_random=RandomizedSearchCV(estimator=dtc,param_distributions=param_dist,cv=5)\n",
    "dtc_model=dtc_random.fit(Xtrain1,Ytrain1)\n",
    "print(dtc_model.best_params_)"
   ]
  },
  {
   "cell_type": "code",
   "execution_count": 178,
   "id": "fe68cc26",
   "metadata": {},
   "outputs": [],
   "source": [
    "DTC=DecisionTreeClassifier(**dtc_model.best_params_,random_state=10)\n",
    "DTC.fit(Xtrain1,Ytrain1)\n",
    "Model3='Decision Tree'"
   ]
  },
  {
   "cell_type": "code",
   "execution_count": 179,
   "id": "e5680317",
   "metadata": {},
   "outputs": [],
   "source": [
    "y_pred_train3 = DTC.predict(Xtrain1)\n",
    "y_pred_test3 = DTC.predict(Xtest1)"
   ]
  },
  {
   "cell_type": "code",
   "execution_count": 180,
   "id": "c2f81789",
   "metadata": {},
   "outputs": [],
   "source": [
    "train_accuracy3 = accuracy_score(Ytrain1, y_pred_train3)\n",
    "test_accuracy3= accuracy_score(Ytest1, y_pred_test3)"
   ]
  },
  {
   "cell_type": "code",
   "execution_count": 181,
   "id": "0f46a37a",
   "metadata": {},
   "outputs": [
    {
     "name": "stdout",
     "output_type": "stream",
     "text": [
      "Confusion mattrix\n",
      "[[111283   4750    463]\n",
      " [  1475 124272   7840]\n",
      " [   128   3900  81670]]\n",
      "Classification Report\n",
      "              precision    recall  f1-score   support\n",
      "\n",
      "           0       0.99      0.96      0.97    116496\n",
      "           1       0.93      0.93      0.93    133587\n",
      "           2       0.91      0.95      0.93     85698\n",
      "\n",
      "    accuracy                           0.94    335781\n",
      "   macro avg       0.94      0.95      0.94    335781\n",
      "weighted avg       0.95      0.94      0.94    335781\n",
      "\n"
     ]
    }
   ],
   "source": [
    "performance(DTC,Xtrain1,Ytrain1)"
   ]
  },
  {
   "cell_type": "code",
   "execution_count": 182,
   "id": "5cb97ee3",
   "metadata": {},
   "outputs": [
    {
     "name": "stdout",
     "output_type": "stream",
     "text": [
      "Confusion mattrix\n",
      "[[47412  2404   267]\n",
      " [  960 52471  3761]\n",
      " [  109  2046 34477]]\n",
      "Classification Report\n",
      "              precision    recall  f1-score   support\n",
      "\n",
      "           0       0.98      0.95      0.96     50083\n",
      "           1       0.92      0.92      0.92     57192\n",
      "           2       0.90      0.94      0.92     36632\n",
      "\n",
      "    accuracy                           0.93    143907\n",
      "   macro avg       0.93      0.94      0.93    143907\n",
      "weighted avg       0.93      0.93      0.93    143907\n",
      "\n"
     ]
    }
   ],
   "source": [
    "performance(DTC,Xtest1,Ytest1)"
   ]
  },
  {
   "cell_type": "code",
   "execution_count": 183,
   "id": "b5702816",
   "metadata": {},
   "outputs": [],
   "source": [
    "results1['Model'].append(Model3)\n",
    "results1['Train Accuracy'].append(train_accuracy3)\n",
    "results1['Test Accuracy'].append(test_accuracy3)"
   ]
  },
  {
   "cell_type": "markdown",
   "id": "0b0899e7",
   "metadata": {},
   "source": [
    "# Results"
   ]
  },
  {
   "cell_type": "code",
   "execution_count": 184,
   "id": "ccbff0c1",
   "metadata": {},
   "outputs": [],
   "source": [
    "df_results1 = pd.DataFrame(results1)"
   ]
  },
  {
   "cell_type": "code",
   "execution_count": 185,
   "id": "7cd97a33",
   "metadata": {
    "scrolled": true
   },
   "outputs": [
    {
     "data": {
      "text/html": [
       "<div>\n",
       "<style scoped>\n",
       "    .dataframe tbody tr th:only-of-type {\n",
       "        vertical-align: middle;\n",
       "    }\n",
       "\n",
       "    .dataframe tbody tr th {\n",
       "        vertical-align: top;\n",
       "    }\n",
       "\n",
       "    .dataframe thead th {\n",
       "        text-align: right;\n",
       "    }\n",
       "</style>\n",
       "<table border=\"1\" class=\"dataframe\">\n",
       "  <thead>\n",
       "    <tr style=\"text-align: right;\">\n",
       "      <th></th>\n",
       "      <th>Model</th>\n",
       "      <th>Train Accuracy</th>\n",
       "      <th>Test Accuracy</th>\n",
       "    </tr>\n",
       "  </thead>\n",
       "  <tbody>\n",
       "    <tr>\n",
       "      <th>0</th>\n",
       "      <td>Random Forest</td>\n",
       "      <td>0.966100</td>\n",
       "      <td>0.936257</td>\n",
       "    </tr>\n",
       "    <tr>\n",
       "      <th>1</th>\n",
       "      <td>Logistic Regression</td>\n",
       "      <td>0.742826</td>\n",
       "      <td>0.743744</td>\n",
       "    </tr>\n",
       "    <tr>\n",
       "      <th>2</th>\n",
       "      <td>Decision Tree</td>\n",
       "      <td>0.944738</td>\n",
       "      <td>0.933659</td>\n",
       "    </tr>\n",
       "  </tbody>\n",
       "</table>\n",
       "</div>"
      ],
      "text/plain": [
       "                 Model  Train Accuracy  Test Accuracy\n",
       "0        Random Forest        0.966100       0.936257\n",
       "1  Logistic Regression        0.742826       0.743744\n",
       "2        Decision Tree        0.944738       0.933659"
      ]
     },
     "execution_count": 185,
     "metadata": {},
     "output_type": "execute_result"
    }
   ],
   "source": [
    "df_results1"
   ]
  },
  {
   "cell_type": "markdown",
   "id": "d9be4430",
   "metadata": {},
   "source": [
    "After applying RandomizedSearchCV, it seems that the model performances have not significantly changed compared to their original accuracy scores. RandomizedSearchCV is a technique used for hyperparameter tuning, which helps in finding the optimal parameters for a machine learning model."
   ]
  },
  {
   "cell_type": "markdown",
   "id": "ae0b290f",
   "metadata": {},
   "source": [
    "1. Random Forest\n",
    "- Train Accuracy: 96.61%\n",
    "- Test Accuracy: 93.62%\n",
    "\n",
    "The model Random Forest achieved a train accuracy of 96.61% and a test accuracy of 93.63%. This suggests that the Random Forest model performed well on both the training and test datasets. "
   ]
  },
  {
   "cell_type": "markdown",
   "id": "379e5597",
   "metadata": {},
   "source": [
    "2. Logistic Regression:\n",
    "- Train Accuracy: 74.28%\n",
    "- Test Accuracy: 74.37%\n",
    " \n",
    "The logistic regression model achieved a moderate accuracy score of around 74% on both the training and test datasets. This suggests that the model may be underfitting slightly, as its performance on the training set is not substantially higher than its performance on the test set."
   ]
  },
  {
   "cell_type": "markdown",
   "id": "c8e4f232",
   "metadata": {},
   "source": [
    "3. Decision Tree:\n",
    "\n",
    "- Train Accuracy: 94.47%\n",
    "- Test Accuracy: 93.37%\n",
    "\n",
    "The decision tree model performed significantly better than logistic regression, achieving approximately 94.47% accuracy on the training set and 93.37% accuracy on the test set. "
   ]
  },
  {
   "cell_type": "code",
   "execution_count": null,
   "id": "b3959cde",
   "metadata": {},
   "outputs": [],
   "source": []
  },
  {
   "cell_type": "code",
   "execution_count": null,
   "id": "8afdc590",
   "metadata": {},
   "outputs": [],
   "source": []
  },
  {
   "cell_type": "code",
   "execution_count": null,
   "id": "bed15680",
   "metadata": {},
   "outputs": [],
   "source": []
  },
  {
   "cell_type": "markdown",
   "id": "ee1975dc",
   "metadata": {},
   "source": [
    "### Overall Interpretation:\n",
    "\n",
    "- Decision Tree and Random Forest show high training accuracy, but Random Forest generalizes better to the test set, likely due to its ensemble nature.\n",
    "- XGBoost also performs well, showcasing the strength of gradient boosting algorithms.\n",
    "- Logistic Regression, AdaBoost, and MLPClassifier have moderate accuracies, suggesting room for improvement or exploration of other models.\n",
    "- It's important to consider factors like the nature of the problem, the balance of the dataset, and potential overfitting when interpreting these results. Additionally, fine-tuning hyperparameters and exploring model-specific metrics can provide deeper insights into model performance.\n"
   ]
  }
 ],
 "metadata": {
  "kernelspec": {
   "display_name": "Python 3 (ipykernel)",
   "language": "python",
   "name": "python3"
  },
  "language_info": {
   "codemirror_mode": {
    "name": "ipython",
    "version": 3
   },
   "file_extension": ".py",
   "mimetype": "text/x-python",
   "name": "python",
   "nbconvert_exporter": "python",
   "pygments_lexer": "ipython3",
   "version": "3.11.4"
  }
 },
 "nbformat": 4,
 "nbformat_minor": 5
}
